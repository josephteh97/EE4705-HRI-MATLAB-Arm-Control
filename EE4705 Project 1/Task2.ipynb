{
  "nbformat": 4,
  "nbformat_minor": 0,
  "metadata": {
    "colab": {
      "name": "Task2.ipynb",
      "provenance": [],
      "collapsed_sections": []
    },
    "kernelspec": {
      "name": "python3",
      "display_name": "Python 3"
    },
    "language_info": {
      "name": "python"
    },
    "accelerator": "GPU"
  },
  "cells": [
    {
      "cell_type": "code",
      "execution_count": 1,
      "metadata": {
        "colab": {
          "base_uri": "https://localhost:8080/"
        },
        "id": "JM0O_ea7rvS7",
        "outputId": "55c6eb42-6fe1-4691-f858-6ee8cf7bc135"
      },
      "outputs": [
        {
          "output_type": "stream",
          "name": "stdout",
          "text": [
            "Downloading...\n",
            "From: https://drive.google.com/uc?id=1SXRluq9iwhAai0VGdpOfxO5YuRfD0Feo\n",
            "To: /content/task1_dataset.zip\n",
            "\r  0% 0.00/3.54M [00:00<?, ?B/s]\r100% 3.54M/3.54M [00:00<00:00, 196MB/s]\n"
          ]
        }
      ],
      "source": [
        "!gdown --id 1SXRluq9iwhAai0VGdpOfxO5YuRfD0Feo"
      ]
    },
    {
      "cell_type": "code",
      "source": [
        "!unzip -q -o task1_dataset.zip"
      ],
      "metadata": {
        "id": "QVBIbymS5omi"
      },
      "execution_count": 2,
      "outputs": []
    },
    {
      "cell_type": "code",
      "source": [
        "import os\n",
        "import glob\n",
        "import itertools\n",
        "\n",
        "import cv2\n",
        "import numpy as np\n",
        "import pandas as pd\n",
        "import matplotlib.pyplot as plt\n",
        "\n",
        "from PIL import Image\n",
        "from tqdm import tqdm\n",
        "from sklearn.metrics import confusion_matrix, accuracy_score\n",
        "from sklearn.model_selection import train_test_split\n",
        "\n",
        "import torch\n",
        "import torch.nn as nn\n",
        "from torch.utils.data import Dataset, TensorDataset, DataLoader, random_split\n",
        "from torchvision import transforms, models\n",
        "\n",
        "torch.cuda.is_available()"
      ],
      "metadata": {
        "colab": {
          "base_uri": "https://localhost:8080/"
        },
        "id": "3xtfvQdY5rlI",
        "outputId": "32f346f5-0f77-43d3-a035-2fcb0687b9da"
      },
      "execution_count": 3,
      "outputs": [
        {
          "output_type": "execute_result",
          "data": {
            "text/plain": [
              "True"
            ]
          },
          "metadata": {},
          "execution_count": 3
        }
      ]
    },
    {
      "cell_type": "code",
      "source": [
        "action_to_id_map = {\n",
        "    \"left\": 0,\n",
        "    \"palm\": 1,\n",
        "    \"peace\": 2,\n",
        "    \"right\": 3,\n",
        "}\n",
        "\n",
        "id_to_action_map = {\n",
        "    0: \"left\",\n",
        "    1: \"palm\",\n",
        "    2: \"peace\",\n",
        "    3: \"right\",\n",
        "}\n",
        "\n",
        "def get_image_paths(data_dir=\"./dataset/images\"):\n",
        "    images = []\n",
        "    actions = glob.glob(os.path.join(data_dir, \"*\"))\n",
        "    for action in actions:\n",
        "        label_name = os.path.basename(action)\n",
        "        label_id = action_to_id_map[label_name]\n",
        "        imgs = glob.glob(os.path.join(action, \"*\"))\n",
        "        for img_name in imgs:\n",
        "            images.append((img_name, label_id))\n",
        "    train, test = train_test_split(images, test_size=0.3, random_state=42, shuffle=True)\n",
        "    return train, test\n",
        "\n",
        "train, test = get_image_paths()\n",
        "train[0], test[0]"
      ],
      "metadata": {
        "colab": {
          "base_uri": "https://localhost:8080/"
        },
        "id": "FC4-FY7BKXuy",
        "outputId": "95f6fedc-5b87-40e2-8271-ba9ee925fff4"
      },
      "execution_count": 4,
      "outputs": [
        {
          "output_type": "execute_result",
          "data": {
            "text/plain": [
              "(('./dataset/images/left/left (25).jpg', 0),\n",
              " ('./dataset/images/left/left (18).jpg', 0))"
            ]
          },
          "metadata": {},
          "execution_count": 4
        }
      ]
    },
    {
      "cell_type": "code",
      "source": [
        "def plot_distribution_of_data(df, title=\"\"):\n",
        "    activity, counts = np.unique(df.activity_name, return_counts=True)\n",
        "    index = np.arange(len(activity))\n",
        "    plt.figure(figsize=(12, 5))\n",
        "    plt.bar(index, counts, align = 'center', alpha=0.5, color='lightblue')\n",
        "    plt.suptitle(title, fontsize=16)\n",
        "    plt.xticks(index, activity, rotation=90, fontsize=8)\n",
        "    plt.xlim([-.5, 3.5])\n",
        "    plt.ylabel('frequency', fontsize=10)\n",
        "    for i, v in enumerate(counts):\n",
        "        plt.text(i, v, str(v), color='grey', fontweight='bold')\n",
        "    plt.show()"
      ],
      "metadata": {
        "id": "zMErG_UhLT_B"
      },
      "execution_count": 5,
      "outputs": []
    },
    {
      "cell_type": "code",
      "source": [
        "df = pd.DataFrame(train + test)\n",
        "df.columns = [\"img_path\", \"activity_name\"]\n",
        "df[\"activity_name\"] = df[\"activity_name\"].map(id_to_action_map)\n",
        "df.head()"
      ],
      "metadata": {
        "colab": {
          "base_uri": "https://localhost:8080/",
          "height": 206
        },
        "id": "Ju8AyfqYLVjG",
        "outputId": "33280608-1105-4e36-f355-83cdb2e844ee"
      },
      "execution_count": 6,
      "outputs": [
        {
          "output_type": "execute_result",
          "data": {
            "text/html": [
              "\n",
              "  <div id=\"df-4d1d9616-6217-4502-9a12-40b2a01a1a34\">\n",
              "    <div class=\"colab-df-container\">\n",
              "      <div>\n",
              "<style scoped>\n",
              "    .dataframe tbody tr th:only-of-type {\n",
              "        vertical-align: middle;\n",
              "    }\n",
              "\n",
              "    .dataframe tbody tr th {\n",
              "        vertical-align: top;\n",
              "    }\n",
              "\n",
              "    .dataframe thead th {\n",
              "        text-align: right;\n",
              "    }\n",
              "</style>\n",
              "<table border=\"1\" class=\"dataframe\">\n",
              "  <thead>\n",
              "    <tr style=\"text-align: right;\">\n",
              "      <th></th>\n",
              "      <th>img_path</th>\n",
              "      <th>activity_name</th>\n",
              "    </tr>\n",
              "  </thead>\n",
              "  <tbody>\n",
              "    <tr>\n",
              "      <th>0</th>\n",
              "      <td>./dataset/images/left/left (25).jpg</td>\n",
              "      <td>left</td>\n",
              "    </tr>\n",
              "    <tr>\n",
              "      <th>1</th>\n",
              "      <td>./dataset/images/right/right (11).jpg</td>\n",
              "      <td>right</td>\n",
              "    </tr>\n",
              "    <tr>\n",
              "      <th>2</th>\n",
              "      <td>./dataset/images/left/left (8).jpg</td>\n",
              "      <td>left</td>\n",
              "    </tr>\n",
              "    <tr>\n",
              "      <th>3</th>\n",
              "      <td>./dataset/images/left/left (1).jpg</td>\n",
              "      <td>left</td>\n",
              "    </tr>\n",
              "    <tr>\n",
              "      <th>4</th>\n",
              "      <td>./dataset/images/left/left (2).jpg</td>\n",
              "      <td>left</td>\n",
              "    </tr>\n",
              "  </tbody>\n",
              "</table>\n",
              "</div>\n",
              "      <button class=\"colab-df-convert\" onclick=\"convertToInteractive('df-4d1d9616-6217-4502-9a12-40b2a01a1a34')\"\n",
              "              title=\"Convert this dataframe to an interactive table.\"\n",
              "              style=\"display:none;\">\n",
              "        \n",
              "  <svg xmlns=\"http://www.w3.org/2000/svg\" height=\"24px\"viewBox=\"0 0 24 24\"\n",
              "       width=\"24px\">\n",
              "    <path d=\"M0 0h24v24H0V0z\" fill=\"none\"/>\n",
              "    <path d=\"M18.56 5.44l.94 2.06.94-2.06 2.06-.94-2.06-.94-.94-2.06-.94 2.06-2.06.94zm-11 1L8.5 8.5l.94-2.06 2.06-.94-2.06-.94L8.5 2.5l-.94 2.06-2.06.94zm10 10l.94 2.06.94-2.06 2.06-.94-2.06-.94-.94-2.06-.94 2.06-2.06.94z\"/><path d=\"M17.41 7.96l-1.37-1.37c-.4-.4-.92-.59-1.43-.59-.52 0-1.04.2-1.43.59L10.3 9.45l-7.72 7.72c-.78.78-.78 2.05 0 2.83L4 21.41c.39.39.9.59 1.41.59.51 0 1.02-.2 1.41-.59l7.78-7.78 2.81-2.81c.8-.78.8-2.07 0-2.86zM5.41 20L4 18.59l7.72-7.72 1.47 1.35L5.41 20z\"/>\n",
              "  </svg>\n",
              "      </button>\n",
              "      \n",
              "  <style>\n",
              "    .colab-df-container {\n",
              "      display:flex;\n",
              "      flex-wrap:wrap;\n",
              "      gap: 12px;\n",
              "    }\n",
              "\n",
              "    .colab-df-convert {\n",
              "      background-color: #E8F0FE;\n",
              "      border: none;\n",
              "      border-radius: 50%;\n",
              "      cursor: pointer;\n",
              "      display: none;\n",
              "      fill: #1967D2;\n",
              "      height: 32px;\n",
              "      padding: 0 0 0 0;\n",
              "      width: 32px;\n",
              "    }\n",
              "\n",
              "    .colab-df-convert:hover {\n",
              "      background-color: #E2EBFA;\n",
              "      box-shadow: 0px 1px 2px rgba(60, 64, 67, 0.3), 0px 1px 3px 1px rgba(60, 64, 67, 0.15);\n",
              "      fill: #174EA6;\n",
              "    }\n",
              "\n",
              "    [theme=dark] .colab-df-convert {\n",
              "      background-color: #3B4455;\n",
              "      fill: #D2E3FC;\n",
              "    }\n",
              "\n",
              "    [theme=dark] .colab-df-convert:hover {\n",
              "      background-color: #434B5C;\n",
              "      box-shadow: 0px 1px 3px 1px rgba(0, 0, 0, 0.15);\n",
              "      filter: drop-shadow(0px 1px 2px rgba(0, 0, 0, 0.3));\n",
              "      fill: #FFFFFF;\n",
              "    }\n",
              "  </style>\n",
              "\n",
              "      <script>\n",
              "        const buttonEl =\n",
              "          document.querySelector('#df-4d1d9616-6217-4502-9a12-40b2a01a1a34 button.colab-df-convert');\n",
              "        buttonEl.style.display =\n",
              "          google.colab.kernel.accessAllowed ? 'block' : 'none';\n",
              "\n",
              "        async function convertToInteractive(key) {\n",
              "          const element = document.querySelector('#df-4d1d9616-6217-4502-9a12-40b2a01a1a34');\n",
              "          const dataTable =\n",
              "            await google.colab.kernel.invokeFunction('convertToInteractive',\n",
              "                                                     [key], {});\n",
              "          if (!dataTable) return;\n",
              "\n",
              "          const docLinkHtml = 'Like what you see? Visit the ' +\n",
              "            '<a target=\"_blank\" href=https://colab.research.google.com/notebooks/data_table.ipynb>data table notebook</a>'\n",
              "            + ' to learn more about interactive tables.';\n",
              "          element.innerHTML = '';\n",
              "          dataTable['output_type'] = 'display_data';\n",
              "          await google.colab.output.renderOutput(dataTable, element);\n",
              "          const docLink = document.createElement('div');\n",
              "          docLink.innerHTML = docLinkHtml;\n",
              "          element.appendChild(docLink);\n",
              "        }\n",
              "      </script>\n",
              "    </div>\n",
              "  </div>\n",
              "  "
            ],
            "text/plain": [
              "                                img_path activity_name\n",
              "0    ./dataset/images/left/left (25).jpg          left\n",
              "1  ./dataset/images/right/right (11).jpg         right\n",
              "2     ./dataset/images/left/left (8).jpg          left\n",
              "3     ./dataset/images/left/left (1).jpg          left\n",
              "4     ./dataset/images/left/left (2).jpg          left"
            ]
          },
          "metadata": {},
          "execution_count": 6
        }
      ]
    },
    {
      "cell_type": "code",
      "source": [
        "plot_distribution_of_data(df, title='Class Distribution Of Dataset')"
      ],
      "metadata": {
        "colab": {
          "base_uri": "https://localhost:8080/",
          "height": 370
        },
        "id": "jzZH3kuYLeCI",
        "outputId": "f0fc5aa4-08af-4938-c240-cca5dab321b1"
      },
      "execution_count": 7,
      "outputs": [
        {
          "output_type": "display_data",
          "data": {
            "image/png": "[encoded data removed]",
            "text/plain": [
              "<Figure size 864x360 with 1 Axes>"
            ]
          },
          "metadata": {
            "needs_background": "light"
          }
        }
      ]
    },
    {
      "cell_type": "code",
      "source": [
        "def trainer(model, optimizer, criterion, train_loader, test_loader, model_name=\"cnn_model.pth\", epochs=150):\n",
        "    if torch.cuda.is_available():\n",
        "      model.to(\"cuda\")\n",
        "    \n",
        "    train_accs = []\n",
        "    test_accs = []\n",
        "    train_losses = []\n",
        "    test_losses = []\n",
        "    best_accuracy = 0\n",
        "    for epoch in range(epochs):\n",
        "        train_loss = 0.0\n",
        "        test_loss = 0.0\n",
        "        total = 0\n",
        "        correct = 0\n",
        "        model.train()\n",
        "        for step, (batch_image, batch_label) in enumerate(tqdm(train_loader)):\n",
        "            if torch.cuda.is_available():\n",
        "                batch_image, batch_label = batch_image.to(\"cuda\"), batch_label.to(\"cuda\")\n",
        "            batch_output = model(batch_image)\n",
        "            batch_loss = criterion(batch_output, batch_label)\n",
        "\n",
        "            optimizer.zero_grad()\n",
        "            batch_loss.backward()\n",
        "            optimizer.step()\n",
        "\n",
        "            train_loss += batch_loss.item()\n",
        "\n",
        "            # train accuracy\n",
        "            _, train_predicted = torch.max(batch_output.data, 1)\n",
        "            total += batch_label.size(0)\n",
        "            correct += (train_predicted == batch_label).sum().item()\n",
        "\n",
        "        train_acc = correct / total\n",
        "\n",
        "        # ----------test----------\n",
        "        total = 0\n",
        "        correct = 0\n",
        "        model.eval()\n",
        "        with torch.no_grad():\n",
        "          test_acc = 0.0\n",
        "          for test_image, test_label in tqdm(test_loader):\n",
        "              if torch.cuda.is_available():\n",
        "                  test_image, test_label = test_image.to(\"cuda\"), test_label.to(\"cuda\")\n",
        "              test_output = model(test_image)\n",
        "              batch_loss = criterion(test_output, test_label)\n",
        "              test_loss += batch_loss.item()\n",
        "\n",
        "              _, predicted = torch.max(test_output.data, 1)\n",
        "              total += test_label.size(0)\n",
        "              correct += (predicted == test_label).sum().item()\n",
        "        test_acc = correct / total\n",
        "\n",
        "        print('epoch={:d} train loss={:.6f} test loss={:.6f} train accuracy={:.3f} test accuracy={:.3f}'.format(\n",
        "            epoch, train_loss / (step+1), test_loss / (step + 1), train_acc, test_acc)\n",
        "        )\n",
        "        train_accs.append(train_acc)\n",
        "        test_accs.append(test_acc)\n",
        "        train_losses.append(train_loss / (step+1))\n",
        "        test_losses.append(test_loss / (step + 1))\n",
        "\n",
        "        if test_acc > best_accuracy:\n",
        "            torch.save(model.state_dict(), model_name)\n",
        "            best_accuracy = test_acc\n",
        "    return train_losses, test_losses, train_accs, test_accs"
      ],
      "metadata": {
        "id": "hJSm-n8uLf15"
      },
      "execution_count": 8,
      "outputs": []
    },
    {
      "cell_type": "code",
      "source": [
        "def tester(model, test_loader):\n",
        "    if torch.cuda.is_available():\n",
        "      model.to(\"cuda\")\n",
        "      \n",
        "    y_true = []\n",
        "    y_pred = []\n",
        "    model.eval()\n",
        "    with torch.no_grad():\n",
        "      for test_image, test_label in test_loader:\n",
        "          if torch.cuda.is_available():\n",
        "              test_image, test_label = test_image.to(\"cuda\"), test_label.to(\"cuda\")\n",
        "          test_output = model(test_image)\n",
        "          _, predicted = torch.max(test_output.data, 1)\n",
        "\n",
        "          y_true.extend(list(test_label.cpu().numpy()))\n",
        "          y_pred.extend(list(predicted.cpu().numpy()))\n",
        "    return y_true, y_pred"
      ],
      "metadata": {
        "id": "uk4G7_W4LmWe"
      },
      "execution_count": 9,
      "outputs": []
    },
    {
      "cell_type": "code",
      "source": [
        "def plot_accuracy_per_epoch(train_accuracies, valid_accuracies):\n",
        "    # visualize the loss as the network trained\n",
        "    fig = plt.figure(figsize=(10,8))\n",
        "    plt.plot(range(1,len(train_accuracies)+1), train_accuracies, label='Train Accuracy')\n",
        "    plt.plot(range(1,len(valid_accuracies)+1), valid_accuracies,label='Valid Accuracy')\n",
        "\n",
        "    plt.xlabel('epochs')\n",
        "    plt.ylabel('accuracy')\n",
        "    plt.ylim(0, 1.1) # consistent scale\n",
        "    plt.xlim(0, len(train_accuracies)+1) # consistent scale\n",
        "    plt.grid(True)\n",
        "    plt.legend()\n",
        "    plt.tight_layout()\n",
        "    plt.show()\n",
        "\n",
        "def plot_avg_loss_per_epoch(avg_train_losses, avg_valid_losses):\n",
        "    # visualize the loss as the network trained\n",
        "    fig = plt.figure(figsize=(10,8))\n",
        "    plt.plot(range(1,len(avg_train_losses)+1), avg_train_losses, label='Training Loss')\n",
        "    plt.plot(range(1,len(avg_valid_losses)+1), avg_valid_losses,label='Validation Loss')\n",
        "\n",
        "    # find position of lowest validation loss\n",
        "    minposs = avg_train_losses.index(min(avg_train_losses))+1 \n",
        "    plt.axvline(minposs, linestyle='--', color='r',label='Early Stopping Checkpoint')\n",
        "\n",
        "    plt.xlabel('epochs')\n",
        "    plt.ylabel('loss')\n",
        "    plt.ylim(0, 2) # consistent scale\n",
        "    plt.xlim(0, len(avg_train_losses)+1) # consistent scale\n",
        "    plt.grid(True)\n",
        "    plt.legend()\n",
        "    plt.tight_layout()\n",
        "    plt.show()\n",
        "\n",
        "def plot_confusion_matrix(cm, classes, normalize=False, title='Confusion Matrix'):\n",
        "    \"\"\"\n",
        "    This function prints and plots the confusion matrix.\n",
        "    Normalization can be applied by setting `normalize=True`.\n",
        "    \"\"\"\n",
        "    plt.figure(figsize=(15,8))\n",
        "    if normalize:\n",
        "        cm = cm.astype('float') / cm.sum(axis=1)[:, np.newaxis]\n",
        "        cmap='Reds'\n",
        "        print(\"Normalized Confusion Matrix\")\n",
        "    else:\n",
        "        cmap='Greens'\n",
        "        print('Confusion Matrix Without Normalization')\n",
        "\n",
        "    plt.imshow(cm, interpolation='nearest', cmap=cmap)\n",
        "    plt.title(title)\n",
        "    plt.colorbar()\n",
        "    tick_marks = np.arange(len(classes))\n",
        "    plt.xticks(tick_marks, classes, rotation=90)\n",
        "    plt.yticks(tick_marks, classes)\n",
        "\n",
        "    fmt = '.2f' if normalize else 'd'\n",
        "    thresh = cm.max() / 2.\n",
        "    for i, j in itertools.product(range(cm.shape[0]), range(cm.shape[1])):\n",
        "        plt.text(j, i, format(cm[i, j], fmt),\n",
        "                 horizontalalignment=\"center\",\n",
        "                 color=\"white\" if cm[i, j] > thresh else \"black\")\n",
        "\n",
        "    plt.tight_layout()\n",
        "    plt.ylabel('True label')\n",
        "    plt.xlabel('Predicted label')\n",
        "    plt.show()"
      ],
      "metadata": {
        "id": "Pr_-fs3VLpMr"
      },
      "execution_count": 10,
      "outputs": []
    },
    {
      "cell_type": "code",
      "source": [
        "def processSkinImage(filePath, resize_HW=48):\n",
        "    # step 1\n",
        "    # read the image\n",
        "    original = cv2.imread(filename=filePath)\n",
        "\n",
        "    # step 2\n",
        "    # resize the image to\n",
        "    image_resized = cv2.resize(original, (resize_HW, resize_HW))\n",
        "\n",
        "    # step 3\n",
        "    # convert the image from rgb to YCbCr\n",
        "    image_ycbcr = cv2.cvtColor(image_resized, cv2.COLOR_BGR2YCR_CB)\n",
        "\n",
        "    # step 4\n",
        "    # get the central color of the image\n",
        "    # expected the hand to be in the central of the image\n",
        "    Cb_center_color = image_ycbcr[int(resize_HW/2), int(resize_HW/2), 1]\n",
        "    Cr_center_color = image_ycbcr[int(resize_HW/2), int(resize_HW/2), 2]\n",
        "    # set the range\n",
        "    Cb_Difference = 15\n",
        "    Cr_Difference = 10\n",
        "\n",
        "    # step 5\n",
        "    # detect skin pixels\n",
        "    Cb = image_ycbcr[:, :, 1]\n",
        "    Cr = image_ycbcr[:, :, 2]\n",
        "    index = np.where((Cb >= Cb_center_color-Cb_Difference) & (Cb <= Cb_center_color+Cb_Difference)\n",
        "                     & (Cr >= Cr_center_color-Cr_Difference) & (Cr <= Cr_center_color+Cr_Difference))\n",
        "\n",
        "    # Mark detected pixels and output\n",
        "    image_output = np.zeros((resize_HW, resize_HW))\n",
        "    image_output[index] = 255\n",
        "\n",
        "    # show image\n",
        "    return image_output\n",
        "\n",
        "filePath = \"dataset/images/left/left (1).jpg\"\n",
        "plt.imshow(processSkinImage(filePath, resize_HW=48))\n",
        "plt.show()"
      ],
      "metadata": {
        "colab": {
          "base_uri": "https://localhost:8080/",
          "height": 267
        },
        "id": "nDb39hnZ5Tx4",
        "outputId": "2f9af645-b5dc-400b-f461-c4f06b56ae49"
      },
      "execution_count": 11,
      "outputs": [
        {
          "output_type": "display_data",
          "data": {
            "image/png": "[encoded data removed]",
            "text/plain": [
              "<Figure size 432x288 with 1 Axes>"
            ]
          },
          "metadata": {
            "needs_background": "light"
          }
        }
      ]
    },
    {
      "cell_type": "code",
      "source": [
        "class MyDataset1(Dataset):\n",
        "    def __init__(self, data, is_train):\n",
        "        self.data = data\n",
        "        self.is_train = is_train\n",
        "\n",
        "        self.image_transform_train = transforms.Compose(\n",
        "            [\n",
        "                transforms.Resize(48), \n",
        "                transforms.CenterCrop(48),\n",
        "                transforms.ToTensor(),\n",
        "            ]\n",
        "        )\n",
        "        self.image_transform_test = transforms.Compose(\n",
        "            [\n",
        "                transforms.Resize(48),\n",
        "                transforms.CenterCrop(48), \n",
        "                transforms.ToTensor(),\n",
        "            ]\n",
        "        )\n",
        "\n",
        "    def __getitem__(self, idx):\n",
        "        image_name, label = self.data[idx]\n",
        "        image = processSkinImage(image_name)\n",
        "        image = Image.fromarray(image)\n",
        "        if self.is_train:\n",
        "            image_inp = self.image_transform_train(image)\n",
        "        else:\n",
        "            image_inp = self.image_transform_test(image)\n",
        "        return image_inp, label\n",
        "\n",
        "    def __len__(self):\n",
        "        return len(self.data)\n",
        "\n",
        "train, test = get_image_paths()\n",
        "trainloader = DataLoader(MyDataset1(train, is_train=True), batch_size=8, shuffle=True)\n",
        "testloader = DataLoader(MyDataset1(test, is_train=False), batch_size=8, shuffle=True)\n",
        "\n",
        "imgs, labels = next(iter(trainloader))\n",
        "print(imgs.shape, labels.shape)\n",
        "imgs, labels = next(iter(testloader))\n",
        "print(imgs.shape, labels.shape)"
      ],
      "metadata": {
        "colab": {
          "base_uri": "https://localhost:8080/"
        },
        "id": "BfZJYlOzM_EV",
        "outputId": "e82d2884-82f1-4aeb-ef2d-a6a8479cea24"
      },
      "execution_count": 12,
      "outputs": [
        {
          "output_type": "stream",
          "name": "stdout",
          "text": [
            "torch.Size([8, 1, 48, 48]) torch.Size([8])\n",
            "torch.Size([8, 1, 48, 48]) torch.Size([8])\n"
          ]
        }
      ]
    },
    {
      "cell_type": "code",
      "source": [
        "class CNNModel1(nn.Module):\n",
        "    def __init__(self, in_channels, n_classes):\n",
        "        super(CNNModel1, self).__init__()\n",
        "        self.conv1 = nn.Sequential(\n",
        "            nn.Conv2d(in_channels, 4, 3),\n",
        "            nn.BatchNorm2d(4),\n",
        "            nn.ReLU(),\n",
        "        )\n",
        "        self.pool1 = nn.MaxPool2d(2, 2)\n",
        "\n",
        "        self.conv2 = nn.Sequential(\n",
        "            nn.Conv2d(4, 8, 3),\n",
        "            nn.BatchNorm2d(8),\n",
        "            nn.ReLU(),\n",
        "        )\n",
        "        self.pool2 = nn.MaxPool2d(2, 2)\n",
        "\n",
        "        self.flat = nn.Flatten()\n",
        "        self.fc1 = nn.Sequential(\n",
        "            nn.Linear(800, n_classes),\n",
        "        )\n",
        "        self.sm = nn.Softmax(dim=1)\n",
        "\n",
        "    def forward(self, x):\n",
        "        x = self.conv1(x)\n",
        "        x = self.pool1(x)\n",
        "\n",
        "        x = self.conv2(x)\n",
        "        x = self.pool2(x)\n",
        "\n",
        "        x = self.flat(x)\n",
        "        x = self.fc1(x)\n",
        "        out = self.sm(x)\n",
        "        return out\n",
        "\n",
        "n_classes = 4\n",
        "model = CNNModel1(in_channels=1, n_classes=n_classes)\n",
        "batch_image, batch_label = next(iter(trainloader))\n",
        "batch_output = model(batch_image)\n",
        "batch_output.shape, batch_label.shape"
      ],
      "metadata": {
        "colab": {
          "base_uri": "https://localhost:8080/"
        },
        "id": "UgBTlq1cOUxv",
        "outputId": "4cc03cd5-f264-4495-eada-53a61b51efbd"
      },
      "execution_count": 13,
      "outputs": [
        {
          "output_type": "execute_result",
          "data": {
            "text/plain": [
              "(torch.Size([8, 4]), torch.Size([8]))"
            ]
          },
          "metadata": {},
          "execution_count": 13
        }
      ]
    },
    {
      "cell_type": "code",
      "source": [
        "train, test = get_image_paths()\n",
        "trainloader = DataLoader(MyDataset1(train, is_train=True), num_workers=2, batch_size=8, shuffle=True)\n",
        "testloader = DataLoader(MyDataset1(test, is_train=False), num_workers=2, batch_size=8, shuffle=True)\n",
        "\n",
        "n_classes = 4\n",
        "model = CNNModel1(in_channels=1, n_classes=n_classes)\n",
        "\n",
        "optimizer = torch.optim.Adam(model.parameters(), lr=0.0001)\n",
        "criterion = nn.CrossEntropyLoss()\n",
        "train_losses, test_losses, train_accs, test_accs = trainer(model, optimizer, criterion, trainloader, testloader, epochs=100, model_name=\"CNNModel1.pth\")"
      ],
      "metadata": {
        "colab": {
          "base_uri": "https://localhost:8080/"
        },
        "id": "-R6qPSM4Okyy",
        "outputId": "6ecb7714-7106-42ad-d8c1-7813972fc33f"
      },
      "execution_count": 14,
      "outputs": [
        {
          "output_type": "stream",
          "name": "stderr",
          "text": [
            "100%|██████████| 7/7 [00:01<00:00,  5.55it/s]\n",
            "100%|██████████| 3/3 [00:00<00:00,  3.70it/s]\n"
          ]
        },
        {
          "output_type": "stream",
          "name": "stdout",
          "text": [
            "epoch=0 train loss=1.363456 test loss=0.581511 train accuracy=0.315 test accuracy=0.375\n"
          ]
        },
        {
          "output_type": "stream",
          "name": "stderr",
          "text": [
            "100%|██████████| 7/7 [00:00<00:00,  7.26it/s]\n",
            "100%|██████████| 3/3 [00:00<00:00,  3.81it/s]\n"
          ]
        },
        {
          "output_type": "stream",
          "name": "stdout",
          "text": [
            "epoch=1 train loss=1.327891 test loss=0.566212 train accuracy=0.370 test accuracy=0.458\n"
          ]
        },
        {
          "output_type": "stream",
          "name": "stderr",
          "text": [
            "100%|██████████| 7/7 [00:01<00:00,  6.96it/s]\n",
            "100%|██████████| 3/3 [00:00<00:00,  4.57it/s]\n"
          ]
        },
        {
          "output_type": "stream",
          "name": "stdout",
          "text": [
            "epoch=2 train loss=1.297339 test loss=0.551257 train accuracy=0.426 test accuracy=0.583\n"
          ]
        },
        {
          "output_type": "stream",
          "name": "stderr",
          "text": [
            "100%|██████████| 7/7 [00:00<00:00,  7.38it/s]\n",
            "100%|██████████| 3/3 [00:00<00:00,  4.30it/s]\n"
          ]
        },
        {
          "output_type": "stream",
          "name": "stdout",
          "text": [
            "epoch=3 train loss=1.263140 test loss=0.536806 train accuracy=0.463 test accuracy=0.583\n"
          ]
        },
        {
          "output_type": "stream",
          "name": "stderr",
          "text": [
            "100%|██████████| 7/7 [00:01<00:00,  6.76it/s]\n",
            "100%|██████████| 3/3 [00:00<00:00,  7.27it/s]\n"
          ]
        },
        {
          "output_type": "stream",
          "name": "stdout",
          "text": [
            "epoch=4 train loss=1.235424 test loss=0.525119 train accuracy=0.574 test accuracy=0.583\n"
          ]
        },
        {
          "output_type": "stream",
          "name": "stderr",
          "text": [
            "100%|██████████| 7/7 [00:00<00:00,  9.64it/s]\n",
            "100%|██████████| 3/3 [00:00<00:00,  6.52it/s]\n"
          ]
        },
        {
          "output_type": "stream",
          "name": "stdout",
          "text": [
            "epoch=5 train loss=1.200939 test loss=0.515587 train accuracy=0.648 test accuracy=0.583\n"
          ]
        },
        {
          "output_type": "stream",
          "name": "stderr",
          "text": [
            "100%|██████████| 7/7 [00:00<00:00, 11.07it/s]\n",
            "100%|██████████| 3/3 [00:00<00:00,  5.80it/s]\n"
          ]
        },
        {
          "output_type": "stream",
          "name": "stdout",
          "text": [
            "epoch=6 train loss=1.172451 test loss=0.508449 train accuracy=0.648 test accuracy=0.583\n"
          ]
        },
        {
          "output_type": "stream",
          "name": "stderr",
          "text": [
            "100%|██████████| 7/7 [00:00<00:00, 10.87it/s]\n",
            "100%|██████████| 3/3 [00:00<00:00,  4.78it/s]\n"
          ]
        },
        {
          "output_type": "stream",
          "name": "stdout",
          "text": [
            "epoch=7 train loss=1.147721 test loss=0.501872 train accuracy=0.667 test accuracy=0.583\n"
          ]
        },
        {
          "output_type": "stream",
          "name": "stderr",
          "text": [
            "100%|██████████| 7/7 [00:00<00:00, 12.02it/s]\n",
            "100%|██████████| 3/3 [00:00<00:00,  7.35it/s]\n"
          ]
        },
        {
          "output_type": "stream",
          "name": "stdout",
          "text": [
            "epoch=8 train loss=1.118710 test loss=0.495967 train accuracy=0.685 test accuracy=0.583\n"
          ]
        },
        {
          "output_type": "stream",
          "name": "stderr",
          "text": [
            "100%|██████████| 7/7 [00:00<00:00, 13.36it/s]\n",
            "100%|██████████| 3/3 [00:00<00:00, 12.94it/s]\n"
          ]
        },
        {
          "output_type": "stream",
          "name": "stdout",
          "text": [
            "epoch=9 train loss=1.102070 test loss=0.490594 train accuracy=0.722 test accuracy=0.583\n"
          ]
        },
        {
          "output_type": "stream",
          "name": "stderr",
          "text": [
            "100%|██████████| 7/7 [00:00<00:00, 19.51it/s]\n",
            "100%|██████████| 3/3 [00:00<00:00, 13.47it/s]\n"
          ]
        },
        {
          "output_type": "stream",
          "name": "stdout",
          "text": [
            "epoch=10 train loss=1.073229 test loss=0.485516 train accuracy=0.759 test accuracy=0.583\n"
          ]
        },
        {
          "output_type": "stream",
          "name": "stderr",
          "text": [
            "100%|██████████| 7/7 [00:00<00:00, 19.34it/s]\n",
            "100%|██████████| 3/3 [00:00<00:00, 13.64it/s]\n"
          ]
        },
        {
          "output_type": "stream",
          "name": "stdout",
          "text": [
            "epoch=11 train loss=1.054829 test loss=0.480705 train accuracy=0.815 test accuracy=0.667\n"
          ]
        },
        {
          "output_type": "stream",
          "name": "stderr",
          "text": [
            "100%|██████████| 7/7 [00:00<00:00, 19.91it/s]\n",
            "100%|██████████| 3/3 [00:00<00:00, 13.55it/s]\n"
          ]
        },
        {
          "output_type": "stream",
          "name": "stdout",
          "text": [
            "epoch=12 train loss=1.045893 test loss=0.475944 train accuracy=0.889 test accuracy=0.667\n"
          ]
        },
        {
          "output_type": "stream",
          "name": "stderr",
          "text": [
            "100%|██████████| 7/7 [00:00<00:00, 19.57it/s]\n",
            "100%|██████████| 3/3 [00:00<00:00, 13.15it/s]\n"
          ]
        },
        {
          "output_type": "stream",
          "name": "stdout",
          "text": [
            "epoch=13 train loss=1.021877 test loss=0.471621 train accuracy=0.889 test accuracy=0.667\n"
          ]
        },
        {
          "output_type": "stream",
          "name": "stderr",
          "text": [
            "100%|██████████| 7/7 [00:00<00:00, 19.95it/s]\n",
            "100%|██████████| 3/3 [00:00<00:00, 12.66it/s]\n"
          ]
        },
        {
          "output_type": "stream",
          "name": "stdout",
          "text": [
            "epoch=14 train loss=1.003375 test loss=0.467350 train accuracy=0.889 test accuracy=0.708\n"
          ]
        },
        {
          "output_type": "stream",
          "name": "stderr",
          "text": [
            "100%|██████████| 7/7 [00:00<00:00, 20.40it/s]\n",
            "100%|██████████| 3/3 [00:00<00:00, 13.16it/s]\n"
          ]
        },
        {
          "output_type": "stream",
          "name": "stdout",
          "text": [
            "epoch=15 train loss=0.980901 test loss=0.463151 train accuracy=0.944 test accuracy=0.750\n"
          ]
        },
        {
          "output_type": "stream",
          "name": "stderr",
          "text": [
            "100%|██████████| 7/7 [00:00<00:00, 19.82it/s]\n",
            "100%|██████████| 3/3 [00:00<00:00, 13.83it/s]\n"
          ]
        },
        {
          "output_type": "stream",
          "name": "stdout",
          "text": [
            "epoch=16 train loss=0.966220 test loss=0.459060 train accuracy=0.944 test accuracy=0.750\n"
          ]
        },
        {
          "output_type": "stream",
          "name": "stderr",
          "text": [
            "100%|██████████| 7/7 [00:00<00:00, 19.63it/s]\n",
            "100%|██████████| 3/3 [00:00<00:00, 13.18it/s]\n"
          ]
        },
        {
          "output_type": "stream",
          "name": "stdout",
          "text": [
            "epoch=17 train loss=0.959633 test loss=0.455229 train accuracy=0.944 test accuracy=0.750\n"
          ]
        },
        {
          "output_type": "stream",
          "name": "stderr",
          "text": [
            "100%|██████████| 7/7 [00:00<00:00, 19.64it/s]\n",
            "100%|██████████| 3/3 [00:00<00:00, 12.51it/s]\n"
          ]
        },
        {
          "output_type": "stream",
          "name": "stdout",
          "text": [
            "epoch=18 train loss=0.939354 test loss=0.452006 train accuracy=0.963 test accuracy=0.750\n"
          ]
        },
        {
          "output_type": "stream",
          "name": "stderr",
          "text": [
            "100%|██████████| 7/7 [00:00<00:00, 19.77it/s]\n",
            "100%|██████████| 3/3 [00:00<00:00, 12.92it/s]\n"
          ]
        },
        {
          "output_type": "stream",
          "name": "stdout",
          "text": [
            "epoch=19 train loss=0.930047 test loss=0.448746 train accuracy=0.963 test accuracy=0.750\n"
          ]
        },
        {
          "output_type": "stream",
          "name": "stderr",
          "text": [
            "100%|██████████| 7/7 [00:00<00:00, 18.94it/s]\n",
            "100%|██████████| 3/3 [00:00<00:00, 13.48it/s]\n"
          ]
        },
        {
          "output_type": "stream",
          "name": "stdout",
          "text": [
            "epoch=20 train loss=0.917141 test loss=0.445648 train accuracy=0.963 test accuracy=0.750\n"
          ]
        },
        {
          "output_type": "stream",
          "name": "stderr",
          "text": [
            "100%|██████████| 7/7 [00:00<00:00, 19.69it/s]\n",
            "100%|██████████| 3/3 [00:00<00:00, 13.45it/s]\n"
          ]
        },
        {
          "output_type": "stream",
          "name": "stdout",
          "text": [
            "epoch=21 train loss=0.912512 test loss=0.442674 train accuracy=0.981 test accuracy=0.750\n"
          ]
        },
        {
          "output_type": "stream",
          "name": "stderr",
          "text": [
            "100%|██████████| 7/7 [00:00<00:00, 19.16it/s]\n",
            "100%|██████████| 3/3 [00:00<00:00, 13.66it/s]\n"
          ]
        },
        {
          "output_type": "stream",
          "name": "stdout",
          "text": [
            "epoch=22 train loss=0.896659 test loss=0.440118 train accuracy=0.981 test accuracy=0.750\n"
          ]
        },
        {
          "output_type": "stream",
          "name": "stderr",
          "text": [
            "100%|██████████| 7/7 [00:00<00:00, 19.48it/s]\n",
            "100%|██████████| 3/3 [00:00<00:00, 13.15it/s]\n"
          ]
        },
        {
          "output_type": "stream",
          "name": "stdout",
          "text": [
            "epoch=23 train loss=0.889024 test loss=0.437370 train accuracy=0.981 test accuracy=0.750\n"
          ]
        },
        {
          "output_type": "stream",
          "name": "stderr",
          "text": [
            "100%|██████████| 7/7 [00:00<00:00, 19.37it/s]\n",
            "100%|██████████| 3/3 [00:00<00:00, 13.26it/s]\n"
          ]
        },
        {
          "output_type": "stream",
          "name": "stdout",
          "text": [
            "epoch=24 train loss=0.881465 test loss=0.435286 train accuracy=0.963 test accuracy=0.750\n"
          ]
        },
        {
          "output_type": "stream",
          "name": "stderr",
          "text": [
            "100%|██████████| 7/7 [00:00<00:00, 19.57it/s]\n",
            "100%|██████████| 3/3 [00:00<00:00, 13.12it/s]\n"
          ]
        },
        {
          "output_type": "stream",
          "name": "stdout",
          "text": [
            "epoch=25 train loss=0.878568 test loss=0.432940 train accuracy=0.981 test accuracy=0.750\n"
          ]
        },
        {
          "output_type": "stream",
          "name": "stderr",
          "text": [
            "100%|██████████| 7/7 [00:00<00:00, 19.08it/s]\n",
            "100%|██████████| 3/3 [00:00<00:00, 13.04it/s]\n"
          ]
        },
        {
          "output_type": "stream",
          "name": "stdout",
          "text": [
            "epoch=26 train loss=0.871994 test loss=0.430816 train accuracy=0.981 test accuracy=0.750\n"
          ]
        },
        {
          "output_type": "stream",
          "name": "stderr",
          "text": [
            "100%|██████████| 7/7 [00:00<00:00, 19.63it/s]\n",
            "100%|██████████| 3/3 [00:00<00:00, 13.61it/s]\n"
          ]
        },
        {
          "output_type": "stream",
          "name": "stdout",
          "text": [
            "epoch=27 train loss=0.859576 test loss=0.429041 train accuracy=0.981 test accuracy=0.750\n"
          ]
        },
        {
          "output_type": "stream",
          "name": "stderr",
          "text": [
            "100%|██████████| 7/7 [00:00<00:00, 19.83it/s]\n",
            "100%|██████████| 3/3 [00:00<00:00, 13.45it/s]\n"
          ]
        },
        {
          "output_type": "stream",
          "name": "stdout",
          "text": [
            "epoch=28 train loss=0.855299 test loss=0.427582 train accuracy=0.981 test accuracy=0.750\n"
          ]
        },
        {
          "output_type": "stream",
          "name": "stderr",
          "text": [
            "100%|██████████| 7/7 [00:00<00:00, 19.86it/s]\n",
            "100%|██████████| 3/3 [00:00<00:00, 13.70it/s]\n"
          ]
        },
        {
          "output_type": "stream",
          "name": "stdout",
          "text": [
            "epoch=29 train loss=0.852431 test loss=0.426032 train accuracy=0.981 test accuracy=0.750\n"
          ]
        },
        {
          "output_type": "stream",
          "name": "stderr",
          "text": [
            "100%|██████████| 7/7 [00:00<00:00, 19.36it/s]\n",
            "100%|██████████| 3/3 [00:00<00:00, 13.55it/s]\n"
          ]
        },
        {
          "output_type": "stream",
          "name": "stdout",
          "text": [
            "epoch=30 train loss=0.848997 test loss=0.424539 train accuracy=0.981 test accuracy=0.750\n"
          ]
        },
        {
          "output_type": "stream",
          "name": "stderr",
          "text": [
            "100%|██████████| 7/7 [00:00<00:00, 19.63it/s]\n",
            "100%|██████████| 3/3 [00:00<00:00, 12.59it/s]\n"
          ]
        },
        {
          "output_type": "stream",
          "name": "stdout",
          "text": [
            "epoch=31 train loss=0.841221 test loss=0.422973 train accuracy=0.981 test accuracy=0.750\n"
          ]
        },
        {
          "output_type": "stream",
          "name": "stderr",
          "text": [
            "100%|██████████| 7/7 [00:00<00:00, 19.99it/s]\n",
            "100%|██████████| 3/3 [00:00<00:00, 13.76it/s]\n"
          ]
        },
        {
          "output_type": "stream",
          "name": "stdout",
          "text": [
            "epoch=32 train loss=0.835327 test loss=0.421620 train accuracy=0.981 test accuracy=0.750\n"
          ]
        },
        {
          "output_type": "stream",
          "name": "stderr",
          "text": [
            "100%|██████████| 7/7 [00:00<00:00, 18.74it/s]\n",
            "100%|██████████| 3/3 [00:00<00:00, 14.05it/s]\n"
          ]
        },
        {
          "output_type": "stream",
          "name": "stdout",
          "text": [
            "epoch=33 train loss=0.832131 test loss=0.420401 train accuracy=0.981 test accuracy=0.750\n"
          ]
        },
        {
          "output_type": "stream",
          "name": "stderr",
          "text": [
            "100%|██████████| 7/7 [00:00<00:00, 19.95it/s]\n",
            "100%|██████████| 3/3 [00:00<00:00, 14.17it/s]\n"
          ]
        },
        {
          "output_type": "stream",
          "name": "stdout",
          "text": [
            "epoch=34 train loss=0.829630 test loss=0.419294 train accuracy=0.981 test accuracy=0.750\n"
          ]
        },
        {
          "output_type": "stream",
          "name": "stderr",
          "text": [
            "100%|██████████| 7/7 [00:00<00:00, 19.48it/s]\n",
            "100%|██████████| 3/3 [00:00<00:00, 13.53it/s]\n"
          ]
        },
        {
          "output_type": "stream",
          "name": "stdout",
          "text": [
            "epoch=35 train loss=0.827761 test loss=0.418262 train accuracy=0.981 test accuracy=0.792\n"
          ]
        },
        {
          "output_type": "stream",
          "name": "stderr",
          "text": [
            "100%|██████████| 7/7 [00:00<00:00, 20.39it/s]\n",
            "100%|██████████| 3/3 [00:00<00:00, 12.89it/s]\n"
          ]
        },
        {
          "output_type": "stream",
          "name": "stdout",
          "text": [
            "epoch=36 train loss=0.820507 test loss=0.417365 train accuracy=1.000 test accuracy=0.792\n"
          ]
        },
        {
          "output_type": "stream",
          "name": "stderr",
          "text": [
            "100%|██████████| 7/7 [00:00<00:00, 19.83it/s]\n",
            "100%|██████████| 3/3 [00:00<00:00, 13.56it/s]\n"
          ]
        },
        {
          "output_type": "stream",
          "name": "stdout",
          "text": [
            "epoch=37 train loss=0.819886 test loss=0.416803 train accuracy=1.000 test accuracy=0.792\n"
          ]
        },
        {
          "output_type": "stream",
          "name": "stderr",
          "text": [
            "100%|██████████| 7/7 [00:00<00:00, 19.39it/s]\n",
            "100%|██████████| 3/3 [00:00<00:00, 13.66it/s]\n"
          ]
        },
        {
          "output_type": "stream",
          "name": "stdout",
          "text": [
            "epoch=38 train loss=0.815437 test loss=0.415855 train accuracy=1.000 test accuracy=0.792\n"
          ]
        },
        {
          "output_type": "stream",
          "name": "stderr",
          "text": [
            "100%|██████████| 7/7 [00:00<00:00, 20.34it/s]\n",
            "100%|██████████| 3/3 [00:00<00:00, 13.96it/s]\n"
          ]
        },
        {
          "output_type": "stream",
          "name": "stdout",
          "text": [
            "epoch=39 train loss=0.812173 test loss=0.415176 train accuracy=1.000 test accuracy=0.792\n"
          ]
        },
        {
          "output_type": "stream",
          "name": "stderr",
          "text": [
            "100%|██████████| 7/7 [00:00<00:00, 19.35it/s]\n",
            "100%|██████████| 3/3 [00:00<00:00, 14.03it/s]\n"
          ]
        },
        {
          "output_type": "stream",
          "name": "stdout",
          "text": [
            "epoch=40 train loss=0.809663 test loss=0.414669 train accuracy=1.000 test accuracy=0.792\n"
          ]
        },
        {
          "output_type": "stream",
          "name": "stderr",
          "text": [
            "100%|██████████| 7/7 [00:00<00:00, 20.48it/s]\n",
            "100%|██████████| 3/3 [00:00<00:00, 13.16it/s]\n"
          ]
        },
        {
          "output_type": "stream",
          "name": "stdout",
          "text": [
            "epoch=41 train loss=0.808581 test loss=0.413941 train accuracy=1.000 test accuracy=0.792\n"
          ]
        },
        {
          "output_type": "stream",
          "name": "stderr",
          "text": [
            "100%|██████████| 7/7 [00:00<00:00, 19.76it/s]\n",
            "100%|██████████| 3/3 [00:00<00:00, 13.37it/s]\n"
          ]
        },
        {
          "output_type": "stream",
          "name": "stdout",
          "text": [
            "epoch=42 train loss=0.806237 test loss=0.413230 train accuracy=1.000 test accuracy=0.833\n"
          ]
        },
        {
          "output_type": "stream",
          "name": "stderr",
          "text": [
            "100%|██████████| 7/7 [00:00<00:00, 19.55it/s]\n",
            "100%|██████████| 3/3 [00:00<00:00, 12.88it/s]\n"
          ]
        },
        {
          "output_type": "stream",
          "name": "stdout",
          "text": [
            "epoch=43 train loss=0.802516 test loss=0.412354 train accuracy=1.000 test accuracy=0.833\n"
          ]
        },
        {
          "output_type": "stream",
          "name": "stderr",
          "text": [
            "100%|██████████| 7/7 [00:00<00:00, 19.64it/s]\n",
            "100%|██████████| 3/3 [00:00<00:00, 13.52it/s]\n"
          ]
        },
        {
          "output_type": "stream",
          "name": "stdout",
          "text": [
            "epoch=44 train loss=0.800842 test loss=0.412102 train accuracy=1.000 test accuracy=0.833\n"
          ]
        },
        {
          "output_type": "stream",
          "name": "stderr",
          "text": [
            "100%|██████████| 7/7 [00:00<00:00, 19.35it/s]\n",
            "100%|██████████| 3/3 [00:00<00:00, 14.00it/s]\n"
          ]
        },
        {
          "output_type": "stream",
          "name": "stdout",
          "text": [
            "epoch=45 train loss=0.797900 test loss=0.411710 train accuracy=1.000 test accuracy=0.792\n"
          ]
        },
        {
          "output_type": "stream",
          "name": "stderr",
          "text": [
            "100%|██████████| 7/7 [00:00<00:00, 19.85it/s]\n",
            "100%|██████████| 3/3 [00:00<00:00, 13.34it/s]\n"
          ]
        },
        {
          "output_type": "stream",
          "name": "stdout",
          "text": [
            "epoch=46 train loss=0.797710 test loss=0.410975 train accuracy=1.000 test accuracy=0.792\n"
          ]
        },
        {
          "output_type": "stream",
          "name": "stderr",
          "text": [
            "100%|██████████| 7/7 [00:00<00:00, 19.72it/s]\n",
            "100%|██████████| 3/3 [00:00<00:00, 13.30it/s]\n"
          ]
        },
        {
          "output_type": "stream",
          "name": "stdout",
          "text": [
            "epoch=47 train loss=0.793536 test loss=0.410927 train accuracy=1.000 test accuracy=0.792\n"
          ]
        },
        {
          "output_type": "stream",
          "name": "stderr",
          "text": [
            "100%|██████████| 7/7 [00:00<00:00, 19.26it/s]\n",
            "100%|██████████| 3/3 [00:00<00:00, 13.23it/s]\n"
          ]
        },
        {
          "output_type": "stream",
          "name": "stdout",
          "text": [
            "epoch=48 train loss=0.790920 test loss=0.410434 train accuracy=1.000 test accuracy=0.792\n"
          ]
        },
        {
          "output_type": "stream",
          "name": "stderr",
          "text": [
            "100%|██████████| 7/7 [00:00<00:00, 20.13it/s]\n",
            "100%|██████████| 3/3 [00:00<00:00, 13.55it/s]\n"
          ]
        },
        {
          "output_type": "stream",
          "name": "stdout",
          "text": [
            "epoch=49 train loss=0.790129 test loss=0.409703 train accuracy=1.000 test accuracy=0.792\n"
          ]
        },
        {
          "output_type": "stream",
          "name": "stderr",
          "text": [
            "100%|██████████| 7/7 [00:00<00:00, 19.12it/s]\n",
            "100%|██████████| 3/3 [00:00<00:00, 13.71it/s]\n"
          ]
        },
        {
          "output_type": "stream",
          "name": "stdout",
          "text": [
            "epoch=50 train loss=0.789246 test loss=0.409077 train accuracy=1.000 test accuracy=0.792\n"
          ]
        },
        {
          "output_type": "stream",
          "name": "stderr",
          "text": [
            "100%|██████████| 7/7 [00:00<00:00, 20.23it/s]\n",
            "100%|██████████| 3/3 [00:00<00:00, 13.58it/s]\n"
          ]
        },
        {
          "output_type": "stream",
          "name": "stdout",
          "text": [
            "epoch=51 train loss=0.787671 test loss=0.409009 train accuracy=1.000 test accuracy=0.792\n"
          ]
        },
        {
          "output_type": "stream",
          "name": "stderr",
          "text": [
            "100%|██████████| 7/7 [00:00<00:00, 19.59it/s]\n",
            "100%|██████████| 3/3 [00:00<00:00, 13.93it/s]\n"
          ]
        },
        {
          "output_type": "stream",
          "name": "stdout",
          "text": [
            "epoch=52 train loss=0.783907 test loss=0.408785 train accuracy=1.000 test accuracy=0.792\n"
          ]
        },
        {
          "output_type": "stream",
          "name": "stderr",
          "text": [
            "100%|██████████| 7/7 [00:00<00:00, 19.58it/s]\n",
            "100%|██████████| 3/3 [00:00<00:00, 12.99it/s]\n"
          ]
        },
        {
          "output_type": "stream",
          "name": "stdout",
          "text": [
            "epoch=53 train loss=0.785303 test loss=0.408430 train accuracy=1.000 test accuracy=0.792\n"
          ]
        },
        {
          "output_type": "stream",
          "name": "stderr",
          "text": [
            "100%|██████████| 7/7 [00:00<00:00, 19.96it/s]\n",
            "100%|██████████| 3/3 [00:00<00:00, 13.27it/s]\n"
          ]
        },
        {
          "output_type": "stream",
          "name": "stdout",
          "text": [
            "epoch=54 train loss=0.781730 test loss=0.408116 train accuracy=1.000 test accuracy=0.792\n"
          ]
        },
        {
          "output_type": "stream",
          "name": "stderr",
          "text": [
            "100%|██████████| 7/7 [00:00<00:00, 19.87it/s]\n",
            "100%|██████████| 3/3 [00:00<00:00, 14.11it/s]\n"
          ]
        },
        {
          "output_type": "stream",
          "name": "stdout",
          "text": [
            "epoch=55 train loss=0.782760 test loss=0.407906 train accuracy=1.000 test accuracy=0.792\n"
          ]
        },
        {
          "output_type": "stream",
          "name": "stderr",
          "text": [
            "100%|██████████| 7/7 [00:00<00:00, 20.13it/s]\n",
            "100%|██████████| 3/3 [00:00<00:00, 13.60it/s]\n"
          ]
        },
        {
          "output_type": "stream",
          "name": "stdout",
          "text": [
            "epoch=56 train loss=0.780985 test loss=0.407399 train accuracy=1.000 test accuracy=0.792\n"
          ]
        },
        {
          "output_type": "stream",
          "name": "stderr",
          "text": [
            "100%|██████████| 7/7 [00:00<00:00, 19.46it/s]\n",
            "100%|██████████| 3/3 [00:00<00:00, 13.48it/s]\n"
          ]
        },
        {
          "output_type": "stream",
          "name": "stdout",
          "text": [
            "epoch=57 train loss=0.779831 test loss=0.407411 train accuracy=1.000 test accuracy=0.792\n"
          ]
        },
        {
          "output_type": "stream",
          "name": "stderr",
          "text": [
            "100%|██████████| 7/7 [00:00<00:00, 20.27it/s]\n",
            "100%|██████████| 3/3 [00:00<00:00, 12.32it/s]\n"
          ]
        },
        {
          "output_type": "stream",
          "name": "stdout",
          "text": [
            "epoch=58 train loss=0.778007 test loss=0.407213 train accuracy=1.000 test accuracy=0.792\n"
          ]
        },
        {
          "output_type": "stream",
          "name": "stderr",
          "text": [
            "100%|██████████| 7/7 [00:00<00:00, 19.12it/s]\n",
            "100%|██████████| 3/3 [00:00<00:00, 13.07it/s]\n"
          ]
        },
        {
          "output_type": "stream",
          "name": "stdout",
          "text": [
            "epoch=59 train loss=0.776450 test loss=0.406563 train accuracy=1.000 test accuracy=0.833\n"
          ]
        },
        {
          "output_type": "stream",
          "name": "stderr",
          "text": [
            "100%|██████████| 7/7 [00:00<00:00, 19.45it/s]\n",
            "100%|██████████| 3/3 [00:00<00:00, 13.10it/s]\n"
          ]
        },
        {
          "output_type": "stream",
          "name": "stdout",
          "text": [
            "epoch=60 train loss=0.776895 test loss=0.406315 train accuracy=1.000 test accuracy=0.833\n"
          ]
        },
        {
          "output_type": "stream",
          "name": "stderr",
          "text": [
            "100%|██████████| 7/7 [00:00<00:00, 19.64it/s]\n",
            "100%|██████████| 3/3 [00:00<00:00, 13.63it/s]\n"
          ]
        },
        {
          "output_type": "stream",
          "name": "stdout",
          "text": [
            "epoch=61 train loss=0.773986 test loss=0.406262 train accuracy=1.000 test accuracy=0.833\n"
          ]
        },
        {
          "output_type": "stream",
          "name": "stderr",
          "text": [
            "100%|██████████| 7/7 [00:00<00:00, 19.58it/s]\n",
            "100%|██████████| 3/3 [00:00<00:00, 13.62it/s]\n"
          ]
        },
        {
          "output_type": "stream",
          "name": "stdout",
          "text": [
            "epoch=62 train loss=0.772676 test loss=0.406046 train accuracy=1.000 test accuracy=0.833\n"
          ]
        },
        {
          "output_type": "stream",
          "name": "stderr",
          "text": [
            "100%|██████████| 7/7 [00:00<00:00, 20.11it/s]\n",
            "100%|██████████| 3/3 [00:00<00:00, 13.52it/s]\n"
          ]
        },
        {
          "output_type": "stream",
          "name": "stdout",
          "text": [
            "epoch=63 train loss=0.771303 test loss=0.405626 train accuracy=1.000 test accuracy=0.833\n"
          ]
        },
        {
          "output_type": "stream",
          "name": "stderr",
          "text": [
            "100%|██████████| 7/7 [00:00<00:00, 19.69it/s]\n",
            "100%|██████████| 3/3 [00:00<00:00, 12.82it/s]\n"
          ]
        },
        {
          "output_type": "stream",
          "name": "stdout",
          "text": [
            "epoch=64 train loss=0.771647 test loss=0.405456 train accuracy=1.000 test accuracy=0.833\n"
          ]
        },
        {
          "output_type": "stream",
          "name": "stderr",
          "text": [
            "100%|██████████| 7/7 [00:00<00:00, 19.64it/s]\n",
            "100%|██████████| 3/3 [00:00<00:00, 13.14it/s]\n"
          ]
        },
        {
          "output_type": "stream",
          "name": "stdout",
          "text": [
            "epoch=65 train loss=0.770754 test loss=0.405254 train accuracy=1.000 test accuracy=0.833\n"
          ]
        },
        {
          "output_type": "stream",
          "name": "stderr",
          "text": [
            "100%|██████████| 7/7 [00:00<00:00, 19.65it/s]\n",
            "100%|██████████| 3/3 [00:00<00:00, 13.79it/s]\n"
          ]
        },
        {
          "output_type": "stream",
          "name": "stdout",
          "text": [
            "epoch=66 train loss=0.769687 test loss=0.405232 train accuracy=1.000 test accuracy=0.833\n"
          ]
        },
        {
          "output_type": "stream",
          "name": "stderr",
          "text": [
            "100%|██████████| 7/7 [00:00<00:00, 19.44it/s]\n",
            "100%|██████████| 3/3 [00:00<00:00, 13.31it/s]\n"
          ]
        },
        {
          "output_type": "stream",
          "name": "stdout",
          "text": [
            "epoch=67 train loss=0.770327 test loss=0.405174 train accuracy=1.000 test accuracy=0.833\n"
          ]
        },
        {
          "output_type": "stream",
          "name": "stderr",
          "text": [
            "100%|██████████| 7/7 [00:00<00:00, 19.89it/s]\n",
            "100%|██████████| 3/3 [00:00<00:00, 13.25it/s]\n"
          ]
        },
        {
          "output_type": "stream",
          "name": "stdout",
          "text": [
            "epoch=68 train loss=0.769293 test loss=0.405112 train accuracy=1.000 test accuracy=0.833\n"
          ]
        },
        {
          "output_type": "stream",
          "name": "stderr",
          "text": [
            "100%|██████████| 7/7 [00:00<00:00, 19.67it/s]\n",
            "100%|██████████| 3/3 [00:00<00:00, 13.33it/s]\n"
          ]
        },
        {
          "output_type": "stream",
          "name": "stdout",
          "text": [
            "epoch=69 train loss=0.769079 test loss=0.404972 train accuracy=1.000 test accuracy=0.833\n"
          ]
        },
        {
          "output_type": "stream",
          "name": "stderr",
          "text": [
            "100%|██████████| 7/7 [00:00<00:00, 19.96it/s]\n",
            "100%|██████████| 3/3 [00:00<00:00, 13.05it/s]\n"
          ]
        },
        {
          "output_type": "stream",
          "name": "stdout",
          "text": [
            "epoch=70 train loss=0.767883 test loss=0.404517 train accuracy=1.000 test accuracy=0.833\n"
          ]
        },
        {
          "output_type": "stream",
          "name": "stderr",
          "text": [
            "100%|██████████| 7/7 [00:00<00:00, 19.97it/s]\n",
            "100%|██████████| 3/3 [00:00<00:00, 13.53it/s]\n"
          ]
        },
        {
          "output_type": "stream",
          "name": "stdout",
          "text": [
            "epoch=71 train loss=0.767836 test loss=0.404345 train accuracy=1.000 test accuracy=0.833\n"
          ]
        },
        {
          "output_type": "stream",
          "name": "stderr",
          "text": [
            "100%|██████████| 7/7 [00:00<00:00, 19.57it/s]\n",
            "100%|██████████| 3/3 [00:00<00:00, 13.90it/s]\n"
          ]
        },
        {
          "output_type": "stream",
          "name": "stdout",
          "text": [
            "epoch=72 train loss=0.765642 test loss=0.403964 train accuracy=1.000 test accuracy=0.833\n"
          ]
        },
        {
          "output_type": "stream",
          "name": "stderr",
          "text": [
            "100%|██████████| 7/7 [00:00<00:00, 20.05it/s]\n",
            "100%|██████████| 3/3 [00:00<00:00, 13.58it/s]\n"
          ]
        },
        {
          "output_type": "stream",
          "name": "stdout",
          "text": [
            "epoch=73 train loss=0.767608 test loss=0.403568 train accuracy=1.000 test accuracy=0.833\n"
          ]
        },
        {
          "output_type": "stream",
          "name": "stderr",
          "text": [
            "100%|██████████| 7/7 [00:00<00:00, 19.36it/s]\n",
            "100%|██████████| 3/3 [00:00<00:00, 13.44it/s]\n"
          ]
        },
        {
          "output_type": "stream",
          "name": "stdout",
          "text": [
            "epoch=74 train loss=0.765215 test loss=0.403696 train accuracy=1.000 test accuracy=0.833\n"
          ]
        },
        {
          "output_type": "stream",
          "name": "stderr",
          "text": [
            "100%|██████████| 7/7 [00:00<00:00, 19.50it/s]\n",
            "100%|██████████| 3/3 [00:00<00:00, 12.02it/s]\n"
          ]
        },
        {
          "output_type": "stream",
          "name": "stdout",
          "text": [
            "epoch=75 train loss=0.765085 test loss=0.403595 train accuracy=1.000 test accuracy=0.833\n"
          ]
        },
        {
          "output_type": "stream",
          "name": "stderr",
          "text": [
            "100%|██████████| 7/7 [00:00<00:00, 18.98it/s]\n",
            "100%|██████████| 3/3 [00:00<00:00, 13.05it/s]\n"
          ]
        },
        {
          "output_type": "stream",
          "name": "stdout",
          "text": [
            "epoch=76 train loss=0.763183 test loss=0.403495 train accuracy=1.000 test accuracy=0.833\n"
          ]
        },
        {
          "output_type": "stream",
          "name": "stderr",
          "text": [
            "100%|██████████| 7/7 [00:00<00:00, 19.34it/s]\n",
            "100%|██████████| 3/3 [00:00<00:00, 13.14it/s]\n"
          ]
        },
        {
          "output_type": "stream",
          "name": "stdout",
          "text": [
            "epoch=77 train loss=0.762567 test loss=0.403622 train accuracy=1.000 test accuracy=0.833\n"
          ]
        },
        {
          "output_type": "stream",
          "name": "stderr",
          "text": [
            "100%|██████████| 7/7 [00:00<00:00, 19.26it/s]\n",
            "100%|██████████| 3/3 [00:00<00:00, 13.37it/s]\n"
          ]
        },
        {
          "output_type": "stream",
          "name": "stdout",
          "text": [
            "epoch=78 train loss=0.762304 test loss=0.403467 train accuracy=1.000 test accuracy=0.833\n"
          ]
        },
        {
          "output_type": "stream",
          "name": "stderr",
          "text": [
            "100%|██████████| 7/7 [00:00<00:00, 19.31it/s]\n",
            "100%|██████████| 3/3 [00:00<00:00, 12.91it/s]\n"
          ]
        },
        {
          "output_type": "stream",
          "name": "stdout",
          "text": [
            "epoch=79 train loss=0.761591 test loss=0.403488 train accuracy=1.000 test accuracy=0.833\n"
          ]
        },
        {
          "output_type": "stream",
          "name": "stderr",
          "text": [
            "100%|██████████| 7/7 [00:00<00:00, 19.92it/s]\n",
            "100%|██████████| 3/3 [00:00<00:00, 12.64it/s]\n"
          ]
        },
        {
          "output_type": "stream",
          "name": "stdout",
          "text": [
            "epoch=80 train loss=0.761742 test loss=0.403717 train accuracy=1.000 test accuracy=0.833\n"
          ]
        },
        {
          "output_type": "stream",
          "name": "stderr",
          "text": [
            "100%|██████████| 7/7 [00:00<00:00, 18.79it/s]\n",
            "100%|██████████| 3/3 [00:00<00:00, 13.09it/s]\n"
          ]
        },
        {
          "output_type": "stream",
          "name": "stdout",
          "text": [
            "epoch=81 train loss=0.760285 test loss=0.403545 train accuracy=1.000 test accuracy=0.833\n"
          ]
        },
        {
          "output_type": "stream",
          "name": "stderr",
          "text": [
            "100%|██████████| 7/7 [00:00<00:00, 19.00it/s]\n",
            "100%|██████████| 3/3 [00:00<00:00, 12.86it/s]\n"
          ]
        },
        {
          "output_type": "stream",
          "name": "stdout",
          "text": [
            "epoch=82 train loss=0.760239 test loss=0.402891 train accuracy=1.000 test accuracy=0.833\n"
          ]
        },
        {
          "output_type": "stream",
          "name": "stderr",
          "text": [
            "100%|██████████| 7/7 [00:00<00:00, 19.48it/s]\n",
            "100%|██████████| 3/3 [00:00<00:00, 13.65it/s]\n"
          ]
        },
        {
          "output_type": "stream",
          "name": "stdout",
          "text": [
            "epoch=83 train loss=0.760017 test loss=0.402877 train accuracy=1.000 test accuracy=0.833\n"
          ]
        },
        {
          "output_type": "stream",
          "name": "stderr",
          "text": [
            "100%|██████████| 7/7 [00:00<00:00, 18.72it/s]\n",
            "100%|██████████| 3/3 [00:00<00:00, 13.38it/s]\n"
          ]
        },
        {
          "output_type": "stream",
          "name": "stdout",
          "text": [
            "epoch=84 train loss=0.760179 test loss=0.402868 train accuracy=1.000 test accuracy=0.833\n"
          ]
        },
        {
          "output_type": "stream",
          "name": "stderr",
          "text": [
            "100%|██████████| 7/7 [00:00<00:00, 19.88it/s]\n",
            "100%|██████████| 3/3 [00:00<00:00, 12.95it/s]\n"
          ]
        },
        {
          "output_type": "stream",
          "name": "stdout",
          "text": [
            "epoch=85 train loss=0.759796 test loss=0.402074 train accuracy=1.000 test accuracy=0.833\n"
          ]
        },
        {
          "output_type": "stream",
          "name": "stderr",
          "text": [
            "100%|██████████| 7/7 [00:00<00:00, 20.23it/s]\n",
            "100%|██████████| 3/3 [00:00<00:00, 13.40it/s]\n"
          ]
        },
        {
          "output_type": "stream",
          "name": "stdout",
          "text": [
            "epoch=86 train loss=0.758230 test loss=0.401923 train accuracy=1.000 test accuracy=0.833\n"
          ]
        },
        {
          "output_type": "stream",
          "name": "stderr",
          "text": [
            "100%|██████████| 7/7 [00:00<00:00, 19.69it/s]\n",
            "100%|██████████| 3/3 [00:00<00:00, 13.09it/s]\n"
          ]
        },
        {
          "output_type": "stream",
          "name": "stdout",
          "text": [
            "epoch=87 train loss=0.758561 test loss=0.402039 train accuracy=1.000 test accuracy=0.833\n"
          ]
        },
        {
          "output_type": "stream",
          "name": "stderr",
          "text": [
            "100%|██████████| 7/7 [00:00<00:00, 19.95it/s]\n",
            "100%|██████████| 3/3 [00:00<00:00, 13.57it/s]\n"
          ]
        },
        {
          "output_type": "stream",
          "name": "stdout",
          "text": [
            "epoch=88 train loss=0.758107 test loss=0.401988 train accuracy=1.000 test accuracy=0.833\n"
          ]
        },
        {
          "output_type": "stream",
          "name": "stderr",
          "text": [
            "100%|██████████| 7/7 [00:00<00:00, 19.28it/s]\n",
            "100%|██████████| 3/3 [00:00<00:00, 13.39it/s]\n"
          ]
        },
        {
          "output_type": "stream",
          "name": "stdout",
          "text": [
            "epoch=89 train loss=0.758419 test loss=0.402056 train accuracy=1.000 test accuracy=0.833\n"
          ]
        },
        {
          "output_type": "stream",
          "name": "stderr",
          "text": [
            "100%|██████████| 7/7 [00:00<00:00, 19.93it/s]\n",
            "100%|██████████| 3/3 [00:00<00:00, 12.84it/s]\n"
          ]
        },
        {
          "output_type": "stream",
          "name": "stdout",
          "text": [
            "epoch=90 train loss=0.757646 test loss=0.402180 train accuracy=1.000 test accuracy=0.833\n"
          ]
        },
        {
          "output_type": "stream",
          "name": "stderr",
          "text": [
            "100%|██████████| 7/7 [00:00<00:00, 20.07it/s]\n",
            "100%|██████████| 3/3 [00:00<00:00, 13.40it/s]\n"
          ]
        },
        {
          "output_type": "stream",
          "name": "stdout",
          "text": [
            "epoch=91 train loss=0.757288 test loss=0.401822 train accuracy=1.000 test accuracy=0.833\n"
          ]
        },
        {
          "output_type": "stream",
          "name": "stderr",
          "text": [
            "100%|██████████| 7/7 [00:00<00:00, 20.10it/s]\n",
            "100%|██████████| 3/3 [00:00<00:00, 12.37it/s]\n"
          ]
        },
        {
          "output_type": "stream",
          "name": "stdout",
          "text": [
            "epoch=92 train loss=0.756692 test loss=0.401817 train accuracy=1.000 test accuracy=0.833\n"
          ]
        },
        {
          "output_type": "stream",
          "name": "stderr",
          "text": [
            "100%|██████████| 7/7 [00:00<00:00, 19.80it/s]\n",
            "100%|██████████| 3/3 [00:00<00:00, 13.44it/s]\n"
          ]
        },
        {
          "output_type": "stream",
          "name": "stdout",
          "text": [
            "epoch=93 train loss=0.756170 test loss=0.401981 train accuracy=1.000 test accuracy=0.833\n"
          ]
        },
        {
          "output_type": "stream",
          "name": "stderr",
          "text": [
            "100%|██████████| 7/7 [00:00<00:00, 18.46it/s]\n",
            "100%|██████████| 3/3 [00:00<00:00, 13.18it/s]\n"
          ]
        },
        {
          "output_type": "stream",
          "name": "stdout",
          "text": [
            "epoch=94 train loss=0.756160 test loss=0.402145 train accuracy=1.000 test accuracy=0.833\n"
          ]
        },
        {
          "output_type": "stream",
          "name": "stderr",
          "text": [
            "100%|██████████| 7/7 [00:00<00:00, 19.21it/s]\n",
            "100%|██████████| 3/3 [00:00<00:00, 12.42it/s]\n"
          ]
        },
        {
          "output_type": "stream",
          "name": "stdout",
          "text": [
            "epoch=95 train loss=0.756127 test loss=0.401604 train accuracy=1.000 test accuracy=0.833\n"
          ]
        },
        {
          "output_type": "stream",
          "name": "stderr",
          "text": [
            "100%|██████████| 7/7 [00:00<00:00, 18.96it/s]\n",
            "100%|██████████| 3/3 [00:00<00:00, 13.76it/s]\n"
          ]
        },
        {
          "output_type": "stream",
          "name": "stdout",
          "text": [
            "epoch=96 train loss=0.755952 test loss=0.401489 train accuracy=1.000 test accuracy=0.833\n"
          ]
        },
        {
          "output_type": "stream",
          "name": "stderr",
          "text": [
            "100%|██████████| 7/7 [00:00<00:00, 19.54it/s]\n",
            "100%|██████████| 3/3 [00:00<00:00, 13.15it/s]\n"
          ]
        },
        {
          "output_type": "stream",
          "name": "stdout",
          "text": [
            "epoch=97 train loss=0.756264 test loss=0.401069 train accuracy=1.000 test accuracy=0.833\n"
          ]
        },
        {
          "output_type": "stream",
          "name": "stderr",
          "text": [
            "100%|██████████| 7/7 [00:00<00:00, 19.48it/s]\n",
            "100%|██████████| 3/3 [00:00<00:00, 14.14it/s]\n"
          ]
        },
        {
          "output_type": "stream",
          "name": "stdout",
          "text": [
            "epoch=98 train loss=0.754823 test loss=0.401154 train accuracy=1.000 test accuracy=0.833\n"
          ]
        },
        {
          "output_type": "stream",
          "name": "stderr",
          "text": [
            "100%|██████████| 7/7 [00:00<00:00, 19.02it/s]\n",
            "100%|██████████| 3/3 [00:00<00:00, 12.79it/s]"
          ]
        },
        {
          "output_type": "stream",
          "name": "stdout",
          "text": [
            "epoch=99 train loss=0.755061 test loss=0.400956 train accuracy=1.000 test accuracy=0.833\n"
          ]
        },
        {
          "output_type": "stream",
          "name": "stderr",
          "text": [
            "\n"
          ]
        }
      ]
    },
    {
      "cell_type": "code",
      "source": [
        "model = CNNModel1(in_channels=1, n_classes=n_classes)\n",
        "model.load_state_dict(torch.load(\"CNNModel1.pth\", map_location=torch.device(\"cuda\" if torch.cuda.is_available() else \"cpu\")))\n",
        "\n",
        "activities = [\"left\", \"palm\", \"peace\", \"right\"]\n",
        "plot_accuracy_per_epoch(train_accs, test_accs)\n",
        "plot_avg_loss_per_epoch(train_losses, test_losses)\n",
        "y_true, y_pred = tester(model, testloader)\n",
        "\n",
        "# Compute confusion matrix\n",
        "cnf_matrix = confusion_matrix(y_true, y_pred)\n",
        "np.set_printoptions(precision=2)\n",
        "\n",
        "# Plot non-normalized confusion matrix\n",
        "plot_confusion_matrix(cnf_matrix, classes=activities, title='CNN Testing Confusion Matrix Without Normalization')\n",
        "\n",
        "# Plot normalized confusion matrix\n",
        "plot_confusion_matrix(cnf_matrix, classes=activities, normalize=True, title='CNN Testing Normalized Confusion Matrix')"
      ],
      "metadata": {
        "colab": {
          "base_uri": "https://localhost:8080/",
          "height": 1000
        },
        "id": "jmeLkS0HPKPz",
        "outputId": "0be2e9d2-763c-40c5-b6cc-a921cda96825"
      },
      "execution_count": 15,
      "outputs": [
        {
          "output_type": "display_data",
          "data": {
            "image/png": "[encoded data removed]",
            "text/plain": [
              "<Figure size 720x576 with 1 Axes>"
            ]
          },
          "metadata": {
            "needs_background": "light"
          }
        },
        {
          "output_type": "display_data",
          "data": {
            "image/png": "[encoded data removed]",
            "text/plain": [
              "<Figure size 720x576 with 1 Axes>"
            ]
          },
          "metadata": {
            "needs_background": "light"
          }
        },
        {
          "output_type": "stream",
          "name": "stdout",
          "text": [
            "Confusion Matrix Without Normalization\n"
          ]
        },
        {
          "output_type": "display_data",
          "data": {
            "image/png": "[encoded data removed]",
            "text/plain": [
              "<Figure size 1080x576 with 2 Axes>"
            ]
          },
          "metadata": {
            "needs_background": "light"
          }
        },
        {
          "output_type": "stream",
          "name": "stdout",
          "text": [
            "Normalized Confusion Matrix\n"
          ]
        },
        {
          "output_type": "display_data",
          "data": {
            "image/png": "[encoded data removed]",
            "text/plain": [
              "<Figure size 1080x576 with 2 Axes>"
            ]
          },
          "metadata": {
            "needs_background": "light"
          }
        }
      ]
    },
    {
      "cell_type": "code",
      "source": [
        "accuracy_score(y_true, y_pred)"
      ],
      "metadata": {
        "colab": {
          "base_uri": "https://localhost:8080/"
        },
        "id": "9c-pmK7jPOGQ",
        "outputId": "45d92fb6-7a1c-4ba8-c170-dbf0bfb24b46"
      },
      "execution_count": 16,
      "outputs": [
        {
          "output_type": "execute_result",
          "data": {
            "text/plain": [
              "0.8333333333333334"
            ]
          },
          "metadata": {},
          "execution_count": 16
        }
      ]
    },
    {
      "cell_type": "code",
      "source": [
        "class MyDataset2(Dataset):\n",
        "    def __init__(self, data, is_train):\n",
        "        self.data = data\n",
        "        self.is_train = is_train\n",
        "\n",
        "        self.image_transform_train = transforms.Compose(\n",
        "            [\n",
        "                transforms.Grayscale(),\n",
        "                transforms.Resize(48), \n",
        "                transforms.CenterCrop(48),\n",
        "                transforms.ToTensor(),\n",
        "            ]\n",
        "        )\n",
        "        self.image_transform_test = transforms.Compose(\n",
        "            [\n",
        "                transforms.Grayscale(),\n",
        "                transforms.Resize(48),\n",
        "                transforms.CenterCrop(48), \n",
        "                transforms.ToTensor(),\n",
        "            ]\n",
        "        )\n",
        "\n",
        "    def __getitem__(self, idx):\n",
        "        image_name, label = self.data[idx]\n",
        "        image = Image.open(image_name).convert(\"RGB\")\n",
        "        if self.is_train:\n",
        "            image_inp = self.image_transform_train(image)\n",
        "        else:\n",
        "            image_inp = self.image_transform_test(image)\n",
        "        return image_inp, label\n",
        "\n",
        "    def __len__(self):\n",
        "        return len(self.data)\n",
        "\n",
        "train, test = get_image_paths()\n",
        "trainloader = DataLoader(MyDataset2(train, is_train=True), batch_size=8, shuffle=True)\n",
        "testloader = DataLoader(MyDataset2(test, is_train=False), batch_size=8, shuffle=True)\n",
        "\n",
        "imgs, labels = next(iter(trainloader))\n",
        "print(imgs.shape, labels.shape)\n",
        "imgs, labels = next(iter(testloader))\n",
        "print(imgs.shape, labels.shape)"
      ],
      "metadata": {
        "colab": {
          "base_uri": "https://localhost:8080/"
        },
        "id": "DfRUQJF8oSjB",
        "outputId": "51714bd0-ee75-40ca-a4e3-8ce30281107d"
      },
      "execution_count": 17,
      "outputs": [
        {
          "output_type": "stream",
          "name": "stdout",
          "text": [
            "torch.Size([8, 1, 48, 48]) torch.Size([8])\n",
            "torch.Size([8, 1, 48, 48]) torch.Size([8])\n"
          ]
        }
      ]
    },
    {
      "cell_type": "code",
      "source": [
        "class CNNModel2(nn.Module):\n",
        "    def __init__(self, in_channels, n_classes):\n",
        "        super(CNNModel2, self).__init__()\n",
        "        self.conv1 = nn.Sequential(\n",
        "            nn.Conv2d(in_channels, 4, 3),\n",
        "            nn.BatchNorm2d(4),\n",
        "            nn.ReLU(),\n",
        "        )\n",
        "        self.pool1 = nn.MaxPool2d(2, 2)\n",
        "\n",
        "        self.conv2 = nn.Sequential(\n",
        "            nn.Conv2d(4, 8, 3),\n",
        "            nn.BatchNorm2d(8),\n",
        "            nn.ReLU(),\n",
        "        )\n",
        "        self.pool2 = nn.MaxPool2d(2, 2)\n",
        "\n",
        "        self.flat = nn.Flatten()\n",
        "        self.fc1 = nn.Sequential(\n",
        "            nn.Linear(800, n_classes),\n",
        "        )\n",
        "        self.sm = nn.Softmax(dim=1)\n",
        "\n",
        "    def forward(self, x):\n",
        "        x = self.conv1(x)\n",
        "        x = self.pool1(x)\n",
        "\n",
        "        x = self.conv2(x)\n",
        "        x = self.pool2(x)\n",
        "\n",
        "        x = self.flat(x)\n",
        "        x = self.fc1(x)\n",
        "        out = self.sm(x)\n",
        "        return out\n",
        "\n",
        "n_classes = 4\n",
        "model = CNNModel2(in_channels=1, n_classes=n_classes)\n",
        "batch_image, batch_label = next(iter(trainloader))\n",
        "batch_output = model(batch_image)\n",
        "batch_output.shape, batch_label.shape"
      ],
      "metadata": {
        "colab": {
          "base_uri": "https://localhost:8080/"
        },
        "id": "6rVAlswWNcLs",
        "outputId": "988a14ed-430b-476e-9d36-a91373c12edd"
      },
      "execution_count": 18,
      "outputs": [
        {
          "output_type": "execute_result",
          "data": {
            "text/plain": [
              "(torch.Size([8, 4]), torch.Size([8]))"
            ]
          },
          "metadata": {},
          "execution_count": 18
        }
      ]
    },
    {
      "cell_type": "code",
      "source": [
        "train, test = get_image_paths()\n",
        "trainloader = DataLoader(MyDataset2(train, is_train=True), num_workers=2, batch_size=8, shuffle=True)\n",
        "testloader = DataLoader(MyDataset2(test, is_train=False), num_workers=2, batch_size=8, shuffle=True)\n",
        "\n",
        "n_classes = 4\n",
        "model = CNNModel2(in_channels=1, n_classes=n_classes)\n",
        "\n",
        "optimizer = torch.optim.Adam(model.parameters(), lr=0.0001)\n",
        "criterion = nn.CrossEntropyLoss()\n",
        "train_losses, test_losses, train_accs, test_accs = trainer(model, optimizer, criterion, trainloader, testloader, epochs=100, model_name=\"CNNModel2.pth\")"
      ],
      "metadata": {
        "colab": {
          "base_uri": "https://localhost:8080/"
        },
        "id": "tIzAFYNlNede",
        "outputId": "64f5adb0-ef67-45e0-dbec-57c107c74df3"
      },
      "execution_count": 19,
      "outputs": [
        {
          "output_type": "stream",
          "name": "stderr",
          "text": [
            "100%|██████████| 7/7 [00:00<00:00, 15.97it/s]\n",
            "100%|██████████| 3/3 [00:00<00:00, 10.99it/s]\n"
          ]
        },
        {
          "output_type": "stream",
          "name": "stdout",
          "text": [
            "epoch=0 train loss=1.330451 test loss=0.589782 train accuracy=0.537 test accuracy=0.375\n"
          ]
        },
        {
          "output_type": "stream",
          "name": "stderr",
          "text": [
            "100%|██████████| 7/7 [00:00<00:00, 15.48it/s]\n",
            "100%|██████████| 3/3 [00:00<00:00, 11.44it/s]\n"
          ]
        },
        {
          "output_type": "stream",
          "name": "stdout",
          "text": [
            "epoch=1 train loss=1.295163 test loss=0.582558 train accuracy=0.611 test accuracy=0.375\n"
          ]
        },
        {
          "output_type": "stream",
          "name": "stderr",
          "text": [
            "100%|██████████| 7/7 [00:00<00:00, 15.69it/s]\n",
            "100%|██████████| 3/3 [00:00<00:00, 10.94it/s]\n"
          ]
        },
        {
          "output_type": "stream",
          "name": "stdout",
          "text": [
            "epoch=2 train loss=1.255836 test loss=0.569487 train accuracy=0.704 test accuracy=0.417\n"
          ]
        },
        {
          "output_type": "stream",
          "name": "stderr",
          "text": [
            "100%|██████████| 7/7 [00:00<00:00, 15.31it/s]\n",
            "100%|██████████| 3/3 [00:00<00:00, 10.12it/s]\n"
          ]
        },
        {
          "output_type": "stream",
          "name": "stdout",
          "text": [
            "epoch=3 train loss=1.219874 test loss=0.550498 train accuracy=0.704 test accuracy=0.625\n"
          ]
        },
        {
          "output_type": "stream",
          "name": "stderr",
          "text": [
            "100%|██████████| 7/7 [00:00<00:00, 15.74it/s]\n",
            "100%|██████████| 3/3 [00:00<00:00, 11.00it/s]\n"
          ]
        },
        {
          "output_type": "stream",
          "name": "stdout",
          "text": [
            "epoch=4 train loss=1.183762 test loss=0.526875 train accuracy=0.704 test accuracy=0.750\n"
          ]
        },
        {
          "output_type": "stream",
          "name": "stderr",
          "text": [
            "100%|██████████| 7/7 [00:00<00:00, 15.89it/s]\n",
            "100%|██████████| 3/3 [00:00<00:00, 11.48it/s]\n"
          ]
        },
        {
          "output_type": "stream",
          "name": "stdout",
          "text": [
            "epoch=5 train loss=1.153177 test loss=0.503031 train accuracy=0.704 test accuracy=0.792\n"
          ]
        },
        {
          "output_type": "stream",
          "name": "stderr",
          "text": [
            "100%|██████████| 7/7 [00:00<00:00, 15.78it/s]\n",
            "100%|██████████| 3/3 [00:00<00:00, 11.11it/s]\n"
          ]
        },
        {
          "output_type": "stream",
          "name": "stdout",
          "text": [
            "epoch=6 train loss=1.128159 test loss=0.483067 train accuracy=0.722 test accuracy=0.792\n"
          ]
        },
        {
          "output_type": "stream",
          "name": "stderr",
          "text": [
            "100%|██████████| 7/7 [00:00<00:00, 15.86it/s]\n",
            "100%|██████████| 3/3 [00:00<00:00, 11.17it/s]\n"
          ]
        },
        {
          "output_type": "stream",
          "name": "stdout",
          "text": [
            "epoch=7 train loss=1.108409 test loss=0.465882 train accuracy=0.704 test accuracy=0.792\n"
          ]
        },
        {
          "output_type": "stream",
          "name": "stderr",
          "text": [
            "100%|██████████| 7/7 [00:00<00:00, 15.81it/s]\n",
            "100%|██████████| 3/3 [00:00<00:00, 11.11it/s]\n"
          ]
        },
        {
          "output_type": "stream",
          "name": "stdout",
          "text": [
            "epoch=8 train loss=1.085232 test loss=0.453210 train accuracy=0.741 test accuracy=0.833\n"
          ]
        },
        {
          "output_type": "stream",
          "name": "stderr",
          "text": [
            "100%|██████████| 7/7 [00:00<00:00, 15.72it/s]\n",
            "100%|██████████| 3/3 [00:00<00:00, 10.73it/s]\n"
          ]
        },
        {
          "output_type": "stream",
          "name": "stdout",
          "text": [
            "epoch=9 train loss=1.079461 test loss=0.444033 train accuracy=0.759 test accuracy=0.833\n"
          ]
        },
        {
          "output_type": "stream",
          "name": "stderr",
          "text": [
            "100%|██████████| 7/7 [00:00<00:00, 15.60it/s]\n",
            "100%|██████████| 3/3 [00:00<00:00, 11.07it/s]\n"
          ]
        },
        {
          "output_type": "stream",
          "name": "stdout",
          "text": [
            "epoch=10 train loss=1.046374 test loss=0.435958 train accuracy=0.759 test accuracy=0.833\n"
          ]
        },
        {
          "output_type": "stream",
          "name": "stderr",
          "text": [
            "100%|██████████| 7/7 [00:00<00:00, 16.19it/s]\n",
            "100%|██████████| 3/3 [00:00<00:00, 11.25it/s]\n"
          ]
        },
        {
          "output_type": "stream",
          "name": "stdout",
          "text": [
            "epoch=11 train loss=1.029505 test loss=0.428243 train accuracy=0.759 test accuracy=0.833\n"
          ]
        },
        {
          "output_type": "stream",
          "name": "stderr",
          "text": [
            "100%|██████████| 7/7 [00:00<00:00, 16.39it/s]\n",
            "100%|██████████| 3/3 [00:00<00:00, 11.08it/s]\n"
          ]
        },
        {
          "output_type": "stream",
          "name": "stdout",
          "text": [
            "epoch=12 train loss=1.015632 test loss=0.423718 train accuracy=0.796 test accuracy=0.833\n"
          ]
        },
        {
          "output_type": "stream",
          "name": "stderr",
          "text": [
            "100%|██████████| 7/7 [00:00<00:00, 16.13it/s]\n",
            "100%|██████████| 3/3 [00:00<00:00, 10.98it/s]\n"
          ]
        },
        {
          "output_type": "stream",
          "name": "stdout",
          "text": [
            "epoch=13 train loss=1.013999 test loss=0.418528 train accuracy=0.778 test accuracy=0.833\n"
          ]
        },
        {
          "output_type": "stream",
          "name": "stderr",
          "text": [
            "100%|██████████| 7/7 [00:00<00:00, 16.04it/s]\n",
            "100%|██████████| 3/3 [00:00<00:00, 10.97it/s]\n"
          ]
        },
        {
          "output_type": "stream",
          "name": "stdout",
          "text": [
            "epoch=14 train loss=0.990120 test loss=0.414492 train accuracy=0.815 test accuracy=0.833\n"
          ]
        },
        {
          "output_type": "stream",
          "name": "stderr",
          "text": [
            "100%|██████████| 7/7 [00:00<00:00, 16.11it/s]\n",
            "100%|██████████| 3/3 [00:00<00:00, 11.29it/s]\n"
          ]
        },
        {
          "output_type": "stream",
          "name": "stdout",
          "text": [
            "epoch=15 train loss=0.977855 test loss=0.410015 train accuracy=0.815 test accuracy=0.833\n"
          ]
        },
        {
          "output_type": "stream",
          "name": "stderr",
          "text": [
            "100%|██████████| 7/7 [00:00<00:00, 15.93it/s]\n",
            "100%|██████████| 3/3 [00:00<00:00, 11.41it/s]\n"
          ]
        },
        {
          "output_type": "stream",
          "name": "stdout",
          "text": [
            "epoch=16 train loss=0.963006 test loss=0.405288 train accuracy=0.815 test accuracy=0.833\n"
          ]
        },
        {
          "output_type": "stream",
          "name": "stderr",
          "text": [
            "100%|██████████| 7/7 [00:00<00:00, 16.41it/s]\n",
            "100%|██████████| 3/3 [00:00<00:00, 10.44it/s]\n"
          ]
        },
        {
          "output_type": "stream",
          "name": "stdout",
          "text": [
            "epoch=17 train loss=0.957723 test loss=0.400335 train accuracy=0.907 test accuracy=0.917\n"
          ]
        },
        {
          "output_type": "stream",
          "name": "stderr",
          "text": [
            "100%|██████████| 7/7 [00:00<00:00, 15.78it/s]\n",
            "100%|██████████| 3/3 [00:00<00:00, 10.78it/s]\n"
          ]
        },
        {
          "output_type": "stream",
          "name": "stdout",
          "text": [
            "epoch=18 train loss=0.937069 test loss=0.395181 train accuracy=0.926 test accuracy=0.917\n"
          ]
        },
        {
          "output_type": "stream",
          "name": "stderr",
          "text": [
            "100%|██████████| 7/7 [00:00<00:00, 15.55it/s]\n",
            "100%|██████████| 3/3 [00:00<00:00, 11.09it/s]\n"
          ]
        },
        {
          "output_type": "stream",
          "name": "stdout",
          "text": [
            "epoch=19 train loss=0.920319 test loss=0.390475 train accuracy=0.926 test accuracy=0.917\n"
          ]
        },
        {
          "output_type": "stream",
          "name": "stderr",
          "text": [
            "100%|██████████| 7/7 [00:00<00:00, 15.68it/s]\n",
            "100%|██████████| 3/3 [00:00<00:00, 10.77it/s]\n"
          ]
        },
        {
          "output_type": "stream",
          "name": "stdout",
          "text": [
            "epoch=20 train loss=0.908614 test loss=0.384659 train accuracy=0.963 test accuracy=0.958\n"
          ]
        },
        {
          "output_type": "stream",
          "name": "stderr",
          "text": [
            "100%|██████████| 7/7 [00:00<00:00, 15.57it/s]\n",
            "100%|██████████| 3/3 [00:00<00:00, 10.72it/s]\n"
          ]
        },
        {
          "output_type": "stream",
          "name": "stdout",
          "text": [
            "epoch=21 train loss=0.892680 test loss=0.379993 train accuracy=0.963 test accuracy=0.958\n"
          ]
        },
        {
          "output_type": "stream",
          "name": "stderr",
          "text": [
            "100%|██████████| 7/7 [00:00<00:00, 15.74it/s]\n",
            "100%|██████████| 3/3 [00:00<00:00, 11.16it/s]\n"
          ]
        },
        {
          "output_type": "stream",
          "name": "stdout",
          "text": [
            "epoch=22 train loss=0.879620 test loss=0.375480 train accuracy=1.000 test accuracy=0.958\n"
          ]
        },
        {
          "output_type": "stream",
          "name": "stderr",
          "text": [
            "100%|██████████| 7/7 [00:00<00:00, 15.55it/s]\n",
            "100%|██████████| 3/3 [00:00<00:00, 11.02it/s]\n"
          ]
        },
        {
          "output_type": "stream",
          "name": "stdout",
          "text": [
            "epoch=23 train loss=0.865098 test loss=0.372234 train accuracy=1.000 test accuracy=0.958\n"
          ]
        },
        {
          "output_type": "stream",
          "name": "stderr",
          "text": [
            "100%|██████████| 7/7 [00:00<00:00, 16.06it/s]\n",
            "100%|██████████| 3/3 [00:00<00:00, 11.06it/s]\n"
          ]
        },
        {
          "output_type": "stream",
          "name": "stdout",
          "text": [
            "epoch=24 train loss=0.856796 test loss=0.369277 train accuracy=1.000 test accuracy=0.958\n"
          ]
        },
        {
          "output_type": "stream",
          "name": "stderr",
          "text": [
            "100%|██████████| 7/7 [00:00<00:00, 15.30it/s]\n",
            "100%|██████████| 3/3 [00:00<00:00, 10.78it/s]\n"
          ]
        },
        {
          "output_type": "stream",
          "name": "stdout",
          "text": [
            "epoch=25 train loss=0.845896 test loss=0.366611 train accuracy=1.000 test accuracy=0.958\n"
          ]
        },
        {
          "output_type": "stream",
          "name": "stderr",
          "text": [
            "100%|██████████| 7/7 [00:00<00:00, 15.92it/s]\n",
            "100%|██████████| 3/3 [00:00<00:00, 11.18it/s]\n"
          ]
        },
        {
          "output_type": "stream",
          "name": "stdout",
          "text": [
            "epoch=26 train loss=0.841236 test loss=0.363734 train accuracy=1.000 test accuracy=0.958\n"
          ]
        },
        {
          "output_type": "stream",
          "name": "stderr",
          "text": [
            "100%|██████████| 7/7 [00:00<00:00, 15.43it/s]\n",
            "100%|██████████| 3/3 [00:00<00:00, 10.83it/s]\n"
          ]
        },
        {
          "output_type": "stream",
          "name": "stdout",
          "text": [
            "epoch=27 train loss=0.836203 test loss=0.362212 train accuracy=1.000 test accuracy=0.958\n"
          ]
        },
        {
          "output_type": "stream",
          "name": "stderr",
          "text": [
            "100%|██████████| 7/7 [00:00<00:00, 15.87it/s]\n",
            "100%|██████████| 3/3 [00:00<00:00, 10.54it/s]\n"
          ]
        },
        {
          "output_type": "stream",
          "name": "stdout",
          "text": [
            "epoch=28 train loss=0.826700 test loss=0.360000 train accuracy=1.000 test accuracy=0.958\n"
          ]
        },
        {
          "output_type": "stream",
          "name": "stderr",
          "text": [
            "100%|██████████| 7/7 [00:00<00:00, 15.85it/s]\n",
            "100%|██████████| 3/3 [00:00<00:00, 11.30it/s]\n"
          ]
        },
        {
          "output_type": "stream",
          "name": "stdout",
          "text": [
            "epoch=29 train loss=0.821903 test loss=0.357952 train accuracy=1.000 test accuracy=0.958\n"
          ]
        },
        {
          "output_type": "stream",
          "name": "stderr",
          "text": [
            "100%|██████████| 7/7 [00:00<00:00, 16.04it/s]\n",
            "100%|██████████| 3/3 [00:00<00:00, 10.50it/s]\n"
          ]
        },
        {
          "output_type": "stream",
          "name": "stdout",
          "text": [
            "epoch=30 train loss=0.815868 test loss=0.356271 train accuracy=1.000 test accuracy=0.958\n"
          ]
        },
        {
          "output_type": "stream",
          "name": "stderr",
          "text": [
            "100%|██████████| 7/7 [00:00<00:00, 15.51it/s]\n",
            "100%|██████████| 3/3 [00:00<00:00, 10.90it/s]\n"
          ]
        },
        {
          "output_type": "stream",
          "name": "stdout",
          "text": [
            "epoch=31 train loss=0.814311 test loss=0.353828 train accuracy=1.000 test accuracy=0.958\n"
          ]
        },
        {
          "output_type": "stream",
          "name": "stderr",
          "text": [
            "100%|██████████| 7/7 [00:00<00:00, 15.82it/s]\n",
            "100%|██████████| 3/3 [00:00<00:00,  9.77it/s]\n"
          ]
        },
        {
          "output_type": "stream",
          "name": "stdout",
          "text": [
            "epoch=32 train loss=0.807410 test loss=0.352490 train accuracy=1.000 test accuracy=0.958\n"
          ]
        },
        {
          "output_type": "stream",
          "name": "stderr",
          "text": [
            "100%|██████████| 7/7 [00:00<00:00, 15.98it/s]\n",
            "100%|██████████| 3/3 [00:00<00:00, 11.04it/s]\n"
          ]
        },
        {
          "output_type": "stream",
          "name": "stdout",
          "text": [
            "epoch=33 train loss=0.802227 test loss=0.352016 train accuracy=1.000 test accuracy=0.958\n"
          ]
        },
        {
          "output_type": "stream",
          "name": "stderr",
          "text": [
            "100%|██████████| 7/7 [00:00<00:00, 15.69it/s]\n",
            "100%|██████████| 3/3 [00:00<00:00, 11.00it/s]\n"
          ]
        },
        {
          "output_type": "stream",
          "name": "stdout",
          "text": [
            "epoch=34 train loss=0.802311 test loss=0.351057 train accuracy=1.000 test accuracy=0.958\n"
          ]
        },
        {
          "output_type": "stream",
          "name": "stderr",
          "text": [
            "100%|██████████| 7/7 [00:00<00:00, 15.50it/s]\n",
            "100%|██████████| 3/3 [00:00<00:00, 10.96it/s]\n"
          ]
        },
        {
          "output_type": "stream",
          "name": "stdout",
          "text": [
            "epoch=35 train loss=0.795419 test loss=0.349809 train accuracy=1.000 test accuracy=0.958\n"
          ]
        },
        {
          "output_type": "stream",
          "name": "stderr",
          "text": [
            "100%|██████████| 7/7 [00:00<00:00, 15.87it/s]\n",
            "100%|██████████| 3/3 [00:00<00:00, 10.91it/s]\n"
          ]
        },
        {
          "output_type": "stream",
          "name": "stdout",
          "text": [
            "epoch=36 train loss=0.793906 test loss=0.348667 train accuracy=1.000 test accuracy=0.958\n"
          ]
        },
        {
          "output_type": "stream",
          "name": "stderr",
          "text": [
            "100%|██████████| 7/7 [00:00<00:00, 15.67it/s]\n",
            "100%|██████████| 3/3 [00:00<00:00, 11.40it/s]\n"
          ]
        },
        {
          "output_type": "stream",
          "name": "stdout",
          "text": [
            "epoch=37 train loss=0.789036 test loss=0.347962 train accuracy=1.000 test accuracy=0.958\n"
          ]
        },
        {
          "output_type": "stream",
          "name": "stderr",
          "text": [
            "100%|██████████| 7/7 [00:00<00:00, 15.52it/s]\n",
            "100%|██████████| 3/3 [00:00<00:00, 10.89it/s]\n"
          ]
        },
        {
          "output_type": "stream",
          "name": "stdout",
          "text": [
            "epoch=38 train loss=0.790222 test loss=0.347527 train accuracy=1.000 test accuracy=0.958\n"
          ]
        },
        {
          "output_type": "stream",
          "name": "stderr",
          "text": [
            "100%|██████████| 7/7 [00:00<00:00, 15.76it/s]\n",
            "100%|██████████| 3/3 [00:00<00:00, 10.50it/s]\n"
          ]
        },
        {
          "output_type": "stream",
          "name": "stdout",
          "text": [
            "epoch=39 train loss=0.783834 test loss=0.346819 train accuracy=1.000 test accuracy=0.958\n"
          ]
        },
        {
          "output_type": "stream",
          "name": "stderr",
          "text": [
            "100%|██████████| 7/7 [00:00<00:00, 16.00it/s]\n",
            "100%|██████████| 3/3 [00:00<00:00, 10.34it/s]\n"
          ]
        },
        {
          "output_type": "stream",
          "name": "stdout",
          "text": [
            "epoch=40 train loss=0.782931 test loss=0.346241 train accuracy=1.000 test accuracy=0.958\n"
          ]
        },
        {
          "output_type": "stream",
          "name": "stderr",
          "text": [
            "100%|██████████| 7/7 [00:00<00:00, 15.51it/s]\n",
            "100%|██████████| 3/3 [00:00<00:00, 11.28it/s]\n"
          ]
        },
        {
          "output_type": "stream",
          "name": "stdout",
          "text": [
            "epoch=41 train loss=0.785109 test loss=0.345593 train accuracy=1.000 test accuracy=0.958\n"
          ]
        },
        {
          "output_type": "stream",
          "name": "stderr",
          "text": [
            "100%|██████████| 7/7 [00:00<00:00, 15.77it/s]\n",
            "100%|██████████| 3/3 [00:00<00:00, 10.91it/s]\n"
          ]
        },
        {
          "output_type": "stream",
          "name": "stdout",
          "text": [
            "epoch=42 train loss=0.783021 test loss=0.345153 train accuracy=1.000 test accuracy=0.958\n"
          ]
        },
        {
          "output_type": "stream",
          "name": "stderr",
          "text": [
            "100%|██████████| 7/7 [00:01<00:00,  5.93it/s]\n",
            "100%|██████████| 3/3 [00:00<00:00, 11.37it/s]\n"
          ]
        },
        {
          "output_type": "stream",
          "name": "stdout",
          "text": [
            "epoch=43 train loss=0.777648 test loss=0.344110 train accuracy=1.000 test accuracy=0.958\n"
          ]
        },
        {
          "output_type": "stream",
          "name": "stderr",
          "text": [
            "100%|██████████| 7/7 [00:00<00:00, 14.88it/s]\n",
            "100%|██████████| 3/3 [00:00<00:00, 11.22it/s]\n"
          ]
        },
        {
          "output_type": "stream",
          "name": "stdout",
          "text": [
            "epoch=44 train loss=0.776060 test loss=0.343209 train accuracy=1.000 test accuracy=0.958\n"
          ]
        },
        {
          "output_type": "stream",
          "name": "stderr",
          "text": [
            "100%|██████████| 7/7 [00:00<00:00,  7.63it/s]\n",
            "100%|██████████| 3/3 [00:00<00:00, 10.65it/s]\n"
          ]
        },
        {
          "output_type": "stream",
          "name": "stdout",
          "text": [
            "epoch=45 train loss=0.774519 test loss=0.342520 train accuracy=1.000 test accuracy=0.958\n"
          ]
        },
        {
          "output_type": "stream",
          "name": "stderr",
          "text": [
            "100%|██████████| 7/7 [00:00<00:00,  7.42it/s]\n",
            "100%|██████████| 3/3 [00:00<00:00, 11.13it/s]\n"
          ]
        },
        {
          "output_type": "stream",
          "name": "stdout",
          "text": [
            "epoch=46 train loss=0.776868 test loss=0.342200 train accuracy=1.000 test accuracy=0.958\n"
          ]
        },
        {
          "output_type": "stream",
          "name": "stderr",
          "text": [
            "100%|██████████| 7/7 [00:00<00:00,  7.57it/s]\n",
            "100%|██████████| 3/3 [00:00<00:00, 10.65it/s]\n"
          ]
        },
        {
          "output_type": "stream",
          "name": "stdout",
          "text": [
            "epoch=47 train loss=0.774682 test loss=0.342044 train accuracy=1.000 test accuracy=0.958\n"
          ]
        },
        {
          "output_type": "stream",
          "name": "stderr",
          "text": [
            "100%|██████████| 7/7 [00:00<00:00, 16.05it/s]\n",
            "100%|██████████| 3/3 [00:00<00:00, 11.11it/s]\n"
          ]
        },
        {
          "output_type": "stream",
          "name": "stdout",
          "text": [
            "epoch=48 train loss=0.773292 test loss=0.341577 train accuracy=1.000 test accuracy=0.958\n"
          ]
        },
        {
          "output_type": "stream",
          "name": "stderr",
          "text": [
            "100%|██████████| 7/7 [00:00<00:00, 15.63it/s]\n",
            "100%|██████████| 3/3 [00:00<00:00, 10.75it/s]\n"
          ]
        },
        {
          "output_type": "stream",
          "name": "stdout",
          "text": [
            "epoch=49 train loss=0.772509 test loss=0.340642 train accuracy=1.000 test accuracy=0.958\n"
          ]
        },
        {
          "output_type": "stream",
          "name": "stderr",
          "text": [
            "100%|██████████| 7/7 [00:00<00:00, 15.95it/s]\n",
            "100%|██████████| 3/3 [00:00<00:00, 11.41it/s]\n"
          ]
        },
        {
          "output_type": "stream",
          "name": "stdout",
          "text": [
            "epoch=50 train loss=0.768880 test loss=0.340589 train accuracy=1.000 test accuracy=0.958\n"
          ]
        },
        {
          "output_type": "stream",
          "name": "stderr",
          "text": [
            "100%|██████████| 7/7 [00:00<00:00, 15.61it/s]\n",
            "100%|██████████| 3/3 [00:00<00:00, 10.73it/s]\n"
          ]
        },
        {
          "output_type": "stream",
          "name": "stdout",
          "text": [
            "epoch=51 train loss=0.768505 test loss=0.339995 train accuracy=1.000 test accuracy=0.958\n"
          ]
        },
        {
          "output_type": "stream",
          "name": "stderr",
          "text": [
            "100%|██████████| 7/7 [00:00<00:00, 16.17it/s]\n",
            "100%|██████████| 3/3 [00:00<00:00, 11.22it/s]\n"
          ]
        },
        {
          "output_type": "stream",
          "name": "stdout",
          "text": [
            "epoch=52 train loss=0.767647 test loss=0.339366 train accuracy=1.000 test accuracy=0.958\n"
          ]
        },
        {
          "output_type": "stream",
          "name": "stderr",
          "text": [
            "100%|██████████| 7/7 [00:00<00:00, 15.71it/s]\n",
            "100%|██████████| 3/3 [00:00<00:00, 11.02it/s]\n"
          ]
        },
        {
          "output_type": "stream",
          "name": "stdout",
          "text": [
            "epoch=53 train loss=0.768548 test loss=0.339510 train accuracy=1.000 test accuracy=0.958\n"
          ]
        },
        {
          "output_type": "stream",
          "name": "stderr",
          "text": [
            "100%|██████████| 7/7 [00:00<00:00, 15.89it/s]\n",
            "100%|██████████| 3/3 [00:00<00:00, 10.87it/s]\n"
          ]
        },
        {
          "output_type": "stream",
          "name": "stdout",
          "text": [
            "epoch=54 train loss=0.765455 test loss=0.338998 train accuracy=1.000 test accuracy=0.958\n"
          ]
        },
        {
          "output_type": "stream",
          "name": "stderr",
          "text": [
            "100%|██████████| 7/7 [00:00<00:00, 15.60it/s]\n",
            "100%|██████████| 3/3 [00:00<00:00, 11.02it/s]\n"
          ]
        },
        {
          "output_type": "stream",
          "name": "stdout",
          "text": [
            "epoch=55 train loss=0.767322 test loss=0.338496 train accuracy=1.000 test accuracy=0.958\n"
          ]
        },
        {
          "output_type": "stream",
          "name": "stderr",
          "text": [
            "100%|██████████| 7/7 [00:00<00:00, 16.01it/s]\n",
            "100%|██████████| 3/3 [00:00<00:00, 11.00it/s]\n"
          ]
        },
        {
          "output_type": "stream",
          "name": "stdout",
          "text": [
            "epoch=56 train loss=0.764336 test loss=0.338777 train accuracy=1.000 test accuracy=0.958\n"
          ]
        },
        {
          "output_type": "stream",
          "name": "stderr",
          "text": [
            "100%|██████████| 7/7 [00:00<00:00, 14.82it/s]\n",
            "100%|██████████| 3/3 [00:00<00:00, 11.01it/s]\n"
          ]
        },
        {
          "output_type": "stream",
          "name": "stdout",
          "text": [
            "epoch=57 train loss=0.764493 test loss=0.338314 train accuracy=1.000 test accuracy=0.958\n"
          ]
        },
        {
          "output_type": "stream",
          "name": "stderr",
          "text": [
            "100%|██████████| 7/7 [00:00<00:00, 15.35it/s]\n",
            "100%|██████████| 3/3 [00:00<00:00, 10.72it/s]\n"
          ]
        },
        {
          "output_type": "stream",
          "name": "stdout",
          "text": [
            "epoch=58 train loss=0.763642 test loss=0.338001 train accuracy=1.000 test accuracy=0.958\n"
          ]
        },
        {
          "output_type": "stream",
          "name": "stderr",
          "text": [
            "100%|██████████| 7/7 [00:00<00:00, 15.73it/s]\n",
            "100%|██████████| 3/3 [00:00<00:00, 11.16it/s]\n"
          ]
        },
        {
          "output_type": "stream",
          "name": "stdout",
          "text": [
            "epoch=59 train loss=0.761678 test loss=0.337973 train accuracy=1.000 test accuracy=0.958\n"
          ]
        },
        {
          "output_type": "stream",
          "name": "stderr",
          "text": [
            "100%|██████████| 7/7 [00:00<00:00, 15.37it/s]\n",
            "100%|██████████| 3/3 [00:00<00:00, 10.59it/s]\n"
          ]
        },
        {
          "output_type": "stream",
          "name": "stdout",
          "text": [
            "epoch=60 train loss=0.763451 test loss=0.337991 train accuracy=1.000 test accuracy=0.958\n"
          ]
        },
        {
          "output_type": "stream",
          "name": "stderr",
          "text": [
            "100%|██████████| 7/7 [00:00<00:00, 15.39it/s]\n",
            "100%|██████████| 3/3 [00:00<00:00, 10.64it/s]\n"
          ]
        },
        {
          "output_type": "stream",
          "name": "stdout",
          "text": [
            "epoch=61 train loss=0.761684 test loss=0.338022 train accuracy=1.000 test accuracy=0.958\n"
          ]
        },
        {
          "output_type": "stream",
          "name": "stderr",
          "text": [
            "100%|██████████| 7/7 [00:00<00:00, 14.97it/s]\n",
            "100%|██████████| 3/3 [00:00<00:00, 10.30it/s]\n"
          ]
        },
        {
          "output_type": "stream",
          "name": "stdout",
          "text": [
            "epoch=62 train loss=0.760522 test loss=0.337447 train accuracy=1.000 test accuracy=0.958\n"
          ]
        },
        {
          "output_type": "stream",
          "name": "stderr",
          "text": [
            "100%|██████████| 7/7 [00:00<00:00, 15.48it/s]\n",
            "100%|██████████| 3/3 [00:00<00:00, 10.62it/s]\n"
          ]
        },
        {
          "output_type": "stream",
          "name": "stdout",
          "text": [
            "epoch=63 train loss=0.761296 test loss=0.337252 train accuracy=1.000 test accuracy=0.958\n"
          ]
        },
        {
          "output_type": "stream",
          "name": "stderr",
          "text": [
            "100%|██████████| 7/7 [00:00<00:00, 15.30it/s]\n",
            "100%|██████████| 3/3 [00:00<00:00, 10.60it/s]\n"
          ]
        },
        {
          "output_type": "stream",
          "name": "stdout",
          "text": [
            "epoch=64 train loss=0.760626 test loss=0.337146 train accuracy=1.000 test accuracy=0.958\n"
          ]
        },
        {
          "output_type": "stream",
          "name": "stderr",
          "text": [
            "100%|██████████| 7/7 [00:00<00:00, 15.54it/s]\n",
            "100%|██████████| 3/3 [00:00<00:00, 11.08it/s]\n"
          ]
        },
        {
          "output_type": "stream",
          "name": "stdout",
          "text": [
            "epoch=65 train loss=0.760678 test loss=0.336645 train accuracy=1.000 test accuracy=0.958\n"
          ]
        },
        {
          "output_type": "stream",
          "name": "stderr",
          "text": [
            "100%|██████████| 7/7 [00:00<00:00, 15.85it/s]\n",
            "100%|██████████| 3/3 [00:00<00:00, 10.45it/s]\n"
          ]
        },
        {
          "output_type": "stream",
          "name": "stdout",
          "text": [
            "epoch=66 train loss=0.758594 test loss=0.336891 train accuracy=1.000 test accuracy=0.958\n"
          ]
        },
        {
          "output_type": "stream",
          "name": "stderr",
          "text": [
            "100%|██████████| 7/7 [00:00<00:00, 15.74it/s]\n",
            "100%|██████████| 3/3 [00:00<00:00, 10.83it/s]\n"
          ]
        },
        {
          "output_type": "stream",
          "name": "stdout",
          "text": [
            "epoch=67 train loss=0.759848 test loss=0.336904 train accuracy=1.000 test accuracy=0.958\n"
          ]
        },
        {
          "output_type": "stream",
          "name": "stderr",
          "text": [
            "100%|██████████| 7/7 [00:00<00:00, 14.83it/s]\n",
            "100%|██████████| 3/3 [00:00<00:00, 10.71it/s]\n"
          ]
        },
        {
          "output_type": "stream",
          "name": "stdout",
          "text": [
            "epoch=68 train loss=0.758291 test loss=0.336689 train accuracy=1.000 test accuracy=0.958\n"
          ]
        },
        {
          "output_type": "stream",
          "name": "stderr",
          "text": [
            "100%|██████████| 7/7 [00:00<00:00, 15.88it/s]\n",
            "100%|██████████| 3/3 [00:00<00:00, 11.13it/s]\n"
          ]
        },
        {
          "output_type": "stream",
          "name": "stdout",
          "text": [
            "epoch=69 train loss=0.757726 test loss=0.336630 train accuracy=1.000 test accuracy=0.958\n"
          ]
        },
        {
          "output_type": "stream",
          "name": "stderr",
          "text": [
            "100%|██████████| 7/7 [00:00<00:00, 16.16it/s]\n",
            "100%|██████████| 3/3 [00:00<00:00, 11.04it/s]\n"
          ]
        },
        {
          "output_type": "stream",
          "name": "stdout",
          "text": [
            "epoch=70 train loss=0.757966 test loss=0.336292 train accuracy=1.000 test accuracy=0.958\n"
          ]
        },
        {
          "output_type": "stream",
          "name": "stderr",
          "text": [
            "100%|██████████| 7/7 [00:00<00:00, 15.44it/s]\n",
            "100%|██████████| 3/3 [00:00<00:00, 10.89it/s]\n"
          ]
        },
        {
          "output_type": "stream",
          "name": "stdout",
          "text": [
            "epoch=71 train loss=0.756438 test loss=0.335923 train accuracy=1.000 test accuracy=0.958\n"
          ]
        },
        {
          "output_type": "stream",
          "name": "stderr",
          "text": [
            "100%|██████████| 7/7 [00:00<00:00, 15.41it/s]\n",
            "100%|██████████| 3/3 [00:00<00:00, 11.10it/s]\n"
          ]
        },
        {
          "output_type": "stream",
          "name": "stdout",
          "text": [
            "epoch=72 train loss=0.756043 test loss=0.335976 train accuracy=1.000 test accuracy=0.958\n"
          ]
        },
        {
          "output_type": "stream",
          "name": "stderr",
          "text": [
            "100%|██████████| 7/7 [00:00<00:00, 15.83it/s]\n",
            "100%|██████████| 3/3 [00:00<00:00, 10.29it/s]\n"
          ]
        },
        {
          "output_type": "stream",
          "name": "stdout",
          "text": [
            "epoch=73 train loss=0.755800 test loss=0.336075 train accuracy=1.000 test accuracy=0.958\n"
          ]
        },
        {
          "output_type": "stream",
          "name": "stderr",
          "text": [
            "100%|██████████| 7/7 [00:00<00:00, 15.51it/s]\n",
            "100%|██████████| 3/3 [00:00<00:00, 10.70it/s]\n"
          ]
        },
        {
          "output_type": "stream",
          "name": "stdout",
          "text": [
            "epoch=74 train loss=0.754648 test loss=0.335654 train accuracy=1.000 test accuracy=0.958\n"
          ]
        },
        {
          "output_type": "stream",
          "name": "stderr",
          "text": [
            "100%|██████████| 7/7 [00:00<00:00, 15.52it/s]\n",
            "100%|██████████| 3/3 [00:00<00:00, 11.08it/s]\n"
          ]
        },
        {
          "output_type": "stream",
          "name": "stdout",
          "text": [
            "epoch=75 train loss=0.755287 test loss=0.335591 train accuracy=1.000 test accuracy=0.958\n"
          ]
        },
        {
          "output_type": "stream",
          "name": "stderr",
          "text": [
            "100%|██████████| 7/7 [00:00<00:00, 15.50it/s]\n",
            "100%|██████████| 3/3 [00:00<00:00, 10.82it/s]\n"
          ]
        },
        {
          "output_type": "stream",
          "name": "stdout",
          "text": [
            "epoch=76 train loss=0.756247 test loss=0.335672 train accuracy=1.000 test accuracy=0.958\n"
          ]
        },
        {
          "output_type": "stream",
          "name": "stderr",
          "text": [
            "100%|██████████| 7/7 [00:00<00:00, 15.66it/s]\n",
            "100%|██████████| 3/3 [00:00<00:00, 10.40it/s]\n"
          ]
        },
        {
          "output_type": "stream",
          "name": "stdout",
          "text": [
            "epoch=77 train loss=0.754583 test loss=0.335608 train accuracy=1.000 test accuracy=0.958\n"
          ]
        },
        {
          "output_type": "stream",
          "name": "stderr",
          "text": [
            "100%|██████████| 7/7 [00:00<00:00, 16.00it/s]\n",
            "100%|██████████| 3/3 [00:00<00:00, 11.15it/s]\n"
          ]
        },
        {
          "output_type": "stream",
          "name": "stdout",
          "text": [
            "epoch=78 train loss=0.754637 test loss=0.335429 train accuracy=1.000 test accuracy=0.958\n"
          ]
        },
        {
          "output_type": "stream",
          "name": "stderr",
          "text": [
            "100%|██████████| 7/7 [00:00<00:00, 15.50it/s]\n",
            "100%|██████████| 3/3 [00:00<00:00, 11.31it/s]\n"
          ]
        },
        {
          "output_type": "stream",
          "name": "stdout",
          "text": [
            "epoch=79 train loss=0.754957 test loss=0.334968 train accuracy=1.000 test accuracy=0.958\n"
          ]
        },
        {
          "output_type": "stream",
          "name": "stderr",
          "text": [
            "100%|██████████| 7/7 [00:00<00:00, 15.69it/s]\n",
            "100%|██████████| 3/3 [00:00<00:00, 10.88it/s]\n"
          ]
        },
        {
          "output_type": "stream",
          "name": "stdout",
          "text": [
            "epoch=80 train loss=0.754364 test loss=0.334889 train accuracy=1.000 test accuracy=0.958\n"
          ]
        },
        {
          "output_type": "stream",
          "name": "stderr",
          "text": [
            "100%|██████████| 7/7 [00:00<00:00, 15.63it/s]\n",
            "100%|██████████| 3/3 [00:00<00:00, 11.53it/s]\n"
          ]
        },
        {
          "output_type": "stream",
          "name": "stdout",
          "text": [
            "epoch=81 train loss=0.752798 test loss=0.335087 train accuracy=1.000 test accuracy=0.958\n"
          ]
        },
        {
          "output_type": "stream",
          "name": "stderr",
          "text": [
            "100%|██████████| 7/7 [00:00<00:00, 15.21it/s]\n",
            "100%|██████████| 3/3 [00:00<00:00, 10.85it/s]\n"
          ]
        },
        {
          "output_type": "stream",
          "name": "stdout",
          "text": [
            "epoch=82 train loss=0.753442 test loss=0.335088 train accuracy=1.000 test accuracy=0.958\n"
          ]
        },
        {
          "output_type": "stream",
          "name": "stderr",
          "text": [
            "100%|██████████| 7/7 [00:00<00:00, 15.14it/s]\n",
            "100%|██████████| 3/3 [00:00<00:00, 11.40it/s]\n"
          ]
        },
        {
          "output_type": "stream",
          "name": "stdout",
          "text": [
            "epoch=83 train loss=0.754337 test loss=0.335168 train accuracy=1.000 test accuracy=0.958\n"
          ]
        },
        {
          "output_type": "stream",
          "name": "stderr",
          "text": [
            "100%|██████████| 7/7 [00:00<00:00, 15.64it/s]\n",
            "100%|██████████| 3/3 [00:00<00:00, 10.18it/s]\n"
          ]
        },
        {
          "output_type": "stream",
          "name": "stdout",
          "text": [
            "epoch=84 train loss=0.752920 test loss=0.335036 train accuracy=1.000 test accuracy=0.958\n"
          ]
        },
        {
          "output_type": "stream",
          "name": "stderr",
          "text": [
            "100%|██████████| 7/7 [00:00<00:00, 15.50it/s]\n",
            "100%|██████████| 3/3 [00:00<00:00, 10.80it/s]\n"
          ]
        },
        {
          "output_type": "stream",
          "name": "stdout",
          "text": [
            "epoch=85 train loss=0.752982 test loss=0.334973 train accuracy=1.000 test accuracy=0.958\n"
          ]
        },
        {
          "output_type": "stream",
          "name": "stderr",
          "text": [
            "100%|██████████| 7/7 [00:00<00:00, 15.06it/s]\n",
            "100%|██████████| 3/3 [00:00<00:00, 10.87it/s]\n"
          ]
        },
        {
          "output_type": "stream",
          "name": "stdout",
          "text": [
            "epoch=86 train loss=0.752551 test loss=0.334986 train accuracy=1.000 test accuracy=0.958\n"
          ]
        },
        {
          "output_type": "stream",
          "name": "stderr",
          "text": [
            "100%|██████████| 7/7 [00:00<00:00, 15.37it/s]\n",
            "100%|██████████| 3/3 [00:00<00:00, 10.52it/s]\n"
          ]
        },
        {
          "output_type": "stream",
          "name": "stdout",
          "text": [
            "epoch=87 train loss=0.752161 test loss=0.334651 train accuracy=1.000 test accuracy=0.958\n"
          ]
        },
        {
          "output_type": "stream",
          "name": "stderr",
          "text": [
            "100%|██████████| 7/7 [00:00<00:00, 15.82it/s]\n",
            "100%|██████████| 3/3 [00:00<00:00, 10.83it/s]\n"
          ]
        },
        {
          "output_type": "stream",
          "name": "stdout",
          "text": [
            "epoch=88 train loss=0.752305 test loss=0.334609 train accuracy=1.000 test accuracy=0.958\n"
          ]
        },
        {
          "output_type": "stream",
          "name": "stderr",
          "text": [
            "100%|██████████| 7/7 [00:00<00:00, 15.33it/s]\n",
            "100%|██████████| 3/3 [00:00<00:00, 10.84it/s]\n"
          ]
        },
        {
          "output_type": "stream",
          "name": "stdout",
          "text": [
            "epoch=89 train loss=0.752267 test loss=0.334611 train accuracy=1.000 test accuracy=0.958\n"
          ]
        },
        {
          "output_type": "stream",
          "name": "stderr",
          "text": [
            "100%|██████████| 7/7 [00:00<00:00, 15.62it/s]\n",
            "100%|██████████| 3/3 [00:00<00:00, 10.83it/s]\n"
          ]
        },
        {
          "output_type": "stream",
          "name": "stdout",
          "text": [
            "epoch=90 train loss=0.751612 test loss=0.334291 train accuracy=1.000 test accuracy=0.958\n"
          ]
        },
        {
          "output_type": "stream",
          "name": "stderr",
          "text": [
            "100%|██████████| 7/7 [00:00<00:00, 15.43it/s]\n",
            "100%|██████████| 3/3 [00:00<00:00, 10.77it/s]\n"
          ]
        },
        {
          "output_type": "stream",
          "name": "stdout",
          "text": [
            "epoch=91 train loss=0.752011 test loss=0.334370 train accuracy=1.000 test accuracy=0.958\n"
          ]
        },
        {
          "output_type": "stream",
          "name": "stderr",
          "text": [
            "100%|██████████| 7/7 [00:00<00:00, 15.52it/s]\n",
            "100%|██████████| 3/3 [00:00<00:00, 11.11it/s]\n"
          ]
        },
        {
          "output_type": "stream",
          "name": "stdout",
          "text": [
            "epoch=92 train loss=0.752394 test loss=0.334286 train accuracy=1.000 test accuracy=0.958\n"
          ]
        },
        {
          "output_type": "stream",
          "name": "stderr",
          "text": [
            "100%|██████████| 7/7 [00:00<00:00, 15.49it/s]\n",
            "100%|██████████| 3/3 [00:00<00:00, 10.67it/s]\n"
          ]
        },
        {
          "output_type": "stream",
          "name": "stdout",
          "text": [
            "epoch=93 train loss=0.751261 test loss=0.334440 train accuracy=1.000 test accuracy=0.958\n"
          ]
        },
        {
          "output_type": "stream",
          "name": "stderr",
          "text": [
            "100%|██████████| 7/7 [00:00<00:00, 15.59it/s]\n",
            "100%|██████████| 3/3 [00:00<00:00, 10.64it/s]\n"
          ]
        },
        {
          "output_type": "stream",
          "name": "stdout",
          "text": [
            "epoch=94 train loss=0.751378 test loss=0.334395 train accuracy=1.000 test accuracy=0.958\n"
          ]
        },
        {
          "output_type": "stream",
          "name": "stderr",
          "text": [
            "100%|██████████| 7/7 [00:00<00:00, 15.46it/s]\n",
            "100%|██████████| 3/3 [00:00<00:00, 10.76it/s]\n"
          ]
        },
        {
          "output_type": "stream",
          "name": "stdout",
          "text": [
            "epoch=95 train loss=0.750910 test loss=0.334383 train accuracy=1.000 test accuracy=0.958\n"
          ]
        },
        {
          "output_type": "stream",
          "name": "stderr",
          "text": [
            "100%|██████████| 7/7 [00:00<00:00, 15.44it/s]\n",
            "100%|██████████| 3/3 [00:00<00:00, 11.01it/s]\n"
          ]
        },
        {
          "output_type": "stream",
          "name": "stdout",
          "text": [
            "epoch=96 train loss=0.751119 test loss=0.334382 train accuracy=1.000 test accuracy=0.958\n"
          ]
        },
        {
          "output_type": "stream",
          "name": "stderr",
          "text": [
            "100%|██████████| 7/7 [00:00<00:00, 15.39it/s]\n",
            "100%|██████████| 3/3 [00:00<00:00, 10.72it/s]\n"
          ]
        },
        {
          "output_type": "stream",
          "name": "stdout",
          "text": [
            "epoch=97 train loss=0.750690 test loss=0.334289 train accuracy=1.000 test accuracy=0.958\n"
          ]
        },
        {
          "output_type": "stream",
          "name": "stderr",
          "text": [
            "100%|██████████| 7/7 [00:00<00:00, 14.97it/s]\n",
            "100%|██████████| 3/3 [00:00<00:00, 10.46it/s]\n"
          ]
        },
        {
          "output_type": "stream",
          "name": "stdout",
          "text": [
            "epoch=98 train loss=0.750378 test loss=0.334179 train accuracy=1.000 test accuracy=0.958\n"
          ]
        },
        {
          "output_type": "stream",
          "name": "stderr",
          "text": [
            "100%|██████████| 7/7 [00:00<00:00, 15.06it/s]\n",
            "100%|██████████| 3/3 [00:00<00:00, 10.66it/s]"
          ]
        },
        {
          "output_type": "stream",
          "name": "stdout",
          "text": [
            "epoch=99 train loss=0.750247 test loss=0.334000 train accuracy=1.000 test accuracy=0.958\n"
          ]
        },
        {
          "output_type": "stream",
          "name": "stderr",
          "text": [
            "\n"
          ]
        }
      ]
    },
    {
      "cell_type": "code",
      "source": [
        "model = CNNModel2(in_channels=1, n_classes=n_classes)\n",
        "model.load_state_dict(torch.load(\"CNNModel2.pth\", map_location=torch.device(\"cuda\" if torch.cuda.is_available() else \"cpu\")))\n",
        "\n",
        "activities = [\"left\", \"palm\", \"peace\", \"right\"]\n",
        "plot_accuracy_per_epoch(train_accs, test_accs)\n",
        "plot_avg_loss_per_epoch(train_losses, test_losses)\n",
        "y_true, y_pred = tester(model, testloader)\n",
        "\n",
        "# Compute confusion matrix\n",
        "cnf_matrix = confusion_matrix(y_true, y_pred)\n",
        "np.set_printoptions(precision=2)\n",
        "\n",
        "# Plot non-normalized confusion matrix\n",
        "plot_confusion_matrix(cnf_matrix, classes=activities, title='CNN Testing Confusion Matrix Without Normalization')\n",
        "\n",
        "# Plot normalized confusion matrix\n",
        "plot_confusion_matrix(cnf_matrix, classes=activities, normalize=True, title='CNN Testing Normalized Confusion Matrix')"
      ],
      "metadata": {
        "colab": {
          "base_uri": "https://localhost:8080/",
          "height": 1000
        },
        "id": "y9eMk94oN8i_",
        "outputId": "6b4db29f-4208-426d-bd3c-11d5973456dd"
      },
      "execution_count": 20,
      "outputs": [
        {
          "output_type": "display_data",
          "data": {
            "image/png": "[encoded data removed]",
            "text/plain": [
              "<Figure size 720x576 with 1 Axes>"
            ]
          },
          "metadata": {
            "needs_background": "light"
          }
        },
        {
          "output_type": "display_data",
          "data": {
            "image/png": "[encoded data removed]",
            "text/plain": [
              "<Figure size 720x576 with 1 Axes>"
            ]
          },
          "metadata": {
            "needs_background": "light"
          }
        },
        {
          "output_type": "stream",
          "name": "stdout",
          "text": [
            "Confusion Matrix Without Normalization\n"
          ]
        },
        {
          "output_type": "display_data",
          "data": {
            "image/png": "[encoded data removed]",
            "text/plain": [
              "<Figure size 1080x576 with 2 Axes>"
            ]
          },
          "metadata": {
            "needs_background": "light"
          }
        },
        {
          "output_type": "stream",
          "name": "stdout",
          "text": [
            "Normalized Confusion Matrix\n"
          ]
        },
        {
          "output_type": "display_data",
          "data": {
            "image/png": "[encoded data removed]",
            "text/plain": [
              "<Figure size 1080x576 with 2 Axes>"
            ]
          },
          "metadata": {
            "needs_background": "light"
          }
        }
      ]
    },
    {
      "cell_type": "code",
      "source": [
        "accuracy_score(y_true, y_pred)"
      ],
      "metadata": {
        "colab": {
          "base_uri": "https://localhost:8080/"
        },
        "id": "KzrjZYAyOCT3",
        "outputId": "5daf1d03-ceb8-418a-ac23-0fbdd940d556"
      },
      "execution_count": 21,
      "outputs": [
        {
          "output_type": "execute_result",
          "data": {
            "text/plain": [
              "0.9583333333333334"
            ]
          },
          "metadata": {},
          "execution_count": 21
        }
      ]
    },
    {
      "cell_type": "code",
      "source": [
        "class CNNModel3(nn.Module):\n",
        "    def __init__(self, in_channels, n_classes):\n",
        "        super(CNNModel3, self).__init__()\n",
        "        self.conv1 = nn.Sequential(\n",
        "            nn.Conv2d(in_channels, 4, 3),\n",
        "            nn.BatchNorm2d(4),\n",
        "            nn.ReLU(),\n",
        "        )\n",
        "        self.pool1 = nn.MaxPool2d(2, 2)\n",
        "\n",
        "        self.conv2 = nn.Sequential(\n",
        "            nn.Conv2d(4, 8, 3),\n",
        "            nn.BatchNorm2d(8),\n",
        "            nn.ReLU(),\n",
        "        )\n",
        "        self.pool2 = nn.MaxPool2d(2, 2)\n",
        "\n",
        "        self.conv3 = nn.Sequential(\n",
        "            nn.Conv2d(8, 8, 3),\n",
        "            nn.BatchNorm2d(8),\n",
        "            nn.ReLU(),\n",
        "        )\n",
        "        self.pool3 = nn.MaxPool2d(2, 2)\n",
        "\n",
        "        self.flat = nn.Flatten()\n",
        "        self.fc1 = nn.Sequential(\n",
        "            nn.Linear(128, n_classes),\n",
        "        )\n",
        "        self.sm = nn.Softmax(dim=1)\n",
        "\n",
        "    def forward(self, x):\n",
        "        x = self.conv1(x)\n",
        "        x = self.pool1(x)\n",
        "\n",
        "        x = self.conv2(x)\n",
        "        x = self.pool2(x)\n",
        "\n",
        "        x = self.conv3(x)\n",
        "        x = self.pool3(x)\n",
        "\n",
        "        x = self.flat(x)\n",
        "        x = self.fc1(x)\n",
        "        out = self.sm(x)\n",
        "        return out\n",
        "\n",
        "n_classes = 4\n",
        "model = CNNModel3(in_channels=1, n_classes=n_classes)\n",
        "batch_image, batch_label = next(iter(trainloader))\n",
        "batch_output = model(batch_image)\n",
        "batch_output.shape, batch_label.shape"
      ],
      "metadata": {
        "colab": {
          "base_uri": "https://localhost:8080/"
        },
        "id": "OIxM9GC3RsBF",
        "outputId": "2cdf10f3-c2c9-4e00-acdc-cdcfdbe71195"
      },
      "execution_count": 22,
      "outputs": [
        {
          "output_type": "execute_result",
          "data": {
            "text/plain": [
              "(torch.Size([8, 4]), torch.Size([8]))"
            ]
          },
          "metadata": {},
          "execution_count": 22
        }
      ]
    },
    {
      "cell_type": "code",
      "source": [
        "train, test = get_image_paths()\n",
        "trainloader = DataLoader(MyDataset2(train, is_train=True), num_workers=2, batch_size=8, shuffle=True)\n",
        "testloader = DataLoader(MyDataset2(test, is_train=False), num_workers=2, batch_size=8, shuffle=True)\n",
        "\n",
        "n_classes = 4\n",
        "model = CNNModel3(in_channels=1, n_classes=n_classes)\n",
        "\n",
        "optimizer = torch.optim.Adam(model.parameters(), lr=0.0001)\n",
        "criterion = nn.CrossEntropyLoss()\n",
        "train_losses, test_losses, train_accs, test_accs = trainer(model, optimizer, criterion, trainloader, testloader, epochs=100, model_name=\"CNNModel3.pth\")"
      ],
      "metadata": {
        "colab": {
          "base_uri": "https://localhost:8080/"
        },
        "id": "9cdbFA0sR9HG",
        "outputId": "4e325901-00f9-464e-b92e-fc52903db115"
      },
      "execution_count": 23,
      "outputs": [
        {
          "output_type": "stream",
          "name": "stderr",
          "text": [
            "100%|██████████| 7/7 [00:00<00:00, 15.03it/s]\n",
            "100%|██████████| 3/3 [00:00<00:00, 10.31it/s]\n"
          ]
        },
        {
          "output_type": "stream",
          "name": "stdout",
          "text": [
            "epoch=0 train loss=1.435713 test loss=0.594315 train accuracy=0.259 test accuracy=0.167\n"
          ]
        },
        {
          "output_type": "stream",
          "name": "stderr",
          "text": [
            "100%|██████████| 7/7 [00:00<00:00, 15.35it/s]\n",
            "100%|██████████| 3/3 [00:00<00:00, 10.60it/s]\n"
          ]
        },
        {
          "output_type": "stream",
          "name": "stdout",
          "text": [
            "epoch=1 train loss=1.418367 test loss=0.593262 train accuracy=0.278 test accuracy=0.333\n"
          ]
        },
        {
          "output_type": "stream",
          "name": "stderr",
          "text": [
            "100%|██████████| 7/7 [00:00<00:00, 14.56it/s]\n",
            "100%|██████████| 3/3 [00:00<00:00, 10.56it/s]\n"
          ]
        },
        {
          "output_type": "stream",
          "name": "stdout",
          "text": [
            "epoch=2 train loss=1.404749 test loss=0.592708 train accuracy=0.278 test accuracy=0.167\n"
          ]
        },
        {
          "output_type": "stream",
          "name": "stderr",
          "text": [
            "100%|██████████| 7/7 [00:00<00:00, 15.04it/s]\n",
            "100%|██████████| 3/3 [00:00<00:00, 10.70it/s]\n"
          ]
        },
        {
          "output_type": "stream",
          "name": "stdout",
          "text": [
            "epoch=3 train loss=1.393123 test loss=0.592535 train accuracy=0.315 test accuracy=0.125\n"
          ]
        },
        {
          "output_type": "stream",
          "name": "stderr",
          "text": [
            "100%|██████████| 7/7 [00:00<00:00, 15.27it/s]\n",
            "100%|██████████| 3/3 [00:00<00:00, 10.35it/s]\n"
          ]
        },
        {
          "output_type": "stream",
          "name": "stdout",
          "text": [
            "epoch=4 train loss=1.383064 test loss=0.592545 train accuracy=0.315 test accuracy=0.167\n"
          ]
        },
        {
          "output_type": "stream",
          "name": "stderr",
          "text": [
            "100%|██████████| 7/7 [00:00<00:00, 15.28it/s]\n",
            "100%|██████████| 3/3 [00:00<00:00, 10.36it/s]\n"
          ]
        },
        {
          "output_type": "stream",
          "name": "stdout",
          "text": [
            "epoch=5 train loss=1.367643 test loss=0.591482 train accuracy=0.370 test accuracy=0.250\n"
          ]
        },
        {
          "output_type": "stream",
          "name": "stderr",
          "text": [
            "100%|██████████| 7/7 [00:00<00:00, 14.78it/s]\n",
            "100%|██████████| 3/3 [00:00<00:00, 10.80it/s]\n"
          ]
        },
        {
          "output_type": "stream",
          "name": "stdout",
          "text": [
            "epoch=6 train loss=1.363365 test loss=0.586700 train accuracy=0.370 test accuracy=0.375\n"
          ]
        },
        {
          "output_type": "stream",
          "name": "stderr",
          "text": [
            "100%|██████████| 7/7 [00:00<00:00, 15.89it/s]\n",
            "100%|██████████| 3/3 [00:00<00:00, 10.10it/s]\n"
          ]
        },
        {
          "output_type": "stream",
          "name": "stdout",
          "text": [
            "epoch=7 train loss=1.346782 test loss=0.579878 train accuracy=0.370 test accuracy=0.375\n"
          ]
        },
        {
          "output_type": "stream",
          "name": "stderr",
          "text": [
            "100%|██████████| 7/7 [00:00<00:00, 15.20it/s]\n",
            "100%|██████████| 3/3 [00:00<00:00, 10.64it/s]\n"
          ]
        },
        {
          "output_type": "stream",
          "name": "stdout",
          "text": [
            "epoch=8 train loss=1.335924 test loss=0.571674 train accuracy=0.407 test accuracy=0.417\n"
          ]
        },
        {
          "output_type": "stream",
          "name": "stderr",
          "text": [
            "100%|██████████| 7/7 [00:00<00:00, 14.73it/s]\n",
            "100%|██████████| 3/3 [00:00<00:00, 10.64it/s]\n"
          ]
        },
        {
          "output_type": "stream",
          "name": "stdout",
          "text": [
            "epoch=9 train loss=1.320310 test loss=0.562869 train accuracy=0.426 test accuracy=0.500\n"
          ]
        },
        {
          "output_type": "stream",
          "name": "stderr",
          "text": [
            "100%|██████████| 7/7 [00:00<00:00, 14.66it/s]\n",
            "100%|██████████| 3/3 [00:00<00:00, 10.50it/s]\n"
          ]
        },
        {
          "output_type": "stream",
          "name": "stdout",
          "text": [
            "epoch=10 train loss=1.309887 test loss=0.554300 train accuracy=0.444 test accuracy=0.542\n"
          ]
        },
        {
          "output_type": "stream",
          "name": "stderr",
          "text": [
            "100%|██████████| 7/7 [00:00<00:00, 15.42it/s]\n",
            "100%|██████████| 3/3 [00:00<00:00, 10.33it/s]\n"
          ]
        },
        {
          "output_type": "stream",
          "name": "stdout",
          "text": [
            "epoch=11 train loss=1.301784 test loss=0.547047 train accuracy=0.463 test accuracy=0.625\n"
          ]
        },
        {
          "output_type": "stream",
          "name": "stderr",
          "text": [
            "100%|██████████| 7/7 [00:00<00:00, 15.35it/s]\n",
            "100%|██████████| 3/3 [00:00<00:00, 10.78it/s]\n"
          ]
        },
        {
          "output_type": "stream",
          "name": "stdout",
          "text": [
            "epoch=12 train loss=1.291020 test loss=0.541125 train accuracy=0.481 test accuracy=0.667\n"
          ]
        },
        {
          "output_type": "stream",
          "name": "stderr",
          "text": [
            "100%|██████████| 7/7 [00:00<00:00, 15.51it/s]\n",
            "100%|██████████| 3/3 [00:00<00:00, 10.58it/s]\n"
          ]
        },
        {
          "output_type": "stream",
          "name": "stdout",
          "text": [
            "epoch=13 train loss=1.275199 test loss=0.536313 train accuracy=0.519 test accuracy=0.667\n"
          ]
        },
        {
          "output_type": "stream",
          "name": "stderr",
          "text": [
            "100%|██████████| 7/7 [00:00<00:00, 14.61it/s]\n",
            "100%|██████████| 3/3 [00:00<00:00, 10.65it/s]\n"
          ]
        },
        {
          "output_type": "stream",
          "name": "stdout",
          "text": [
            "epoch=14 train loss=1.269399 test loss=0.531648 train accuracy=0.500 test accuracy=0.667\n"
          ]
        },
        {
          "output_type": "stream",
          "name": "stderr",
          "text": [
            "100%|██████████| 7/7 [00:00<00:00, 15.18it/s]\n",
            "100%|██████████| 3/3 [00:00<00:00, 10.17it/s]\n"
          ]
        },
        {
          "output_type": "stream",
          "name": "stdout",
          "text": [
            "epoch=15 train loss=1.255852 test loss=0.527400 train accuracy=0.556 test accuracy=0.667\n"
          ]
        },
        {
          "output_type": "stream",
          "name": "stderr",
          "text": [
            "100%|██████████| 7/7 [00:00<00:00, 15.67it/s]\n",
            "100%|██████████| 3/3 [00:00<00:00, 10.96it/s]\n"
          ]
        },
        {
          "output_type": "stream",
          "name": "stdout",
          "text": [
            "epoch=16 train loss=1.246213 test loss=0.524465 train accuracy=0.556 test accuracy=0.667\n"
          ]
        },
        {
          "output_type": "stream",
          "name": "stderr",
          "text": [
            "100%|██████████| 7/7 [00:00<00:00, 15.17it/s]\n",
            "100%|██████████| 3/3 [00:00<00:00, 10.89it/s]\n"
          ]
        },
        {
          "output_type": "stream",
          "name": "stdout",
          "text": [
            "epoch=17 train loss=1.234138 test loss=0.520410 train accuracy=0.630 test accuracy=0.667\n"
          ]
        },
        {
          "output_type": "stream",
          "name": "stderr",
          "text": [
            "100%|██████████| 7/7 [00:00<00:00, 15.14it/s]\n",
            "100%|██████████| 3/3 [00:00<00:00, 10.89it/s]\n"
          ]
        },
        {
          "output_type": "stream",
          "name": "stdout",
          "text": [
            "epoch=18 train loss=1.220054 test loss=0.516875 train accuracy=0.648 test accuracy=0.667\n"
          ]
        },
        {
          "output_type": "stream",
          "name": "stderr",
          "text": [
            "100%|██████████| 7/7 [00:00<00:00, 14.84it/s]\n",
            "100%|██████████| 3/3 [00:00<00:00, 10.67it/s]\n"
          ]
        },
        {
          "output_type": "stream",
          "name": "stdout",
          "text": [
            "epoch=19 train loss=1.210108 test loss=0.513821 train accuracy=0.648 test accuracy=0.667\n"
          ]
        },
        {
          "output_type": "stream",
          "name": "stderr",
          "text": [
            "100%|██████████| 7/7 [00:00<00:00, 15.66it/s]\n",
            "100%|██████████| 3/3 [00:00<00:00, 11.05it/s]\n"
          ]
        },
        {
          "output_type": "stream",
          "name": "stdout",
          "text": [
            "epoch=20 train loss=1.198547 test loss=0.510763 train accuracy=0.667 test accuracy=0.667\n"
          ]
        },
        {
          "output_type": "stream",
          "name": "stderr",
          "text": [
            "100%|██████████| 7/7 [00:00<00:00, 14.88it/s]\n",
            "100%|██████████| 3/3 [00:00<00:00, 10.89it/s]\n"
          ]
        },
        {
          "output_type": "stream",
          "name": "stdout",
          "text": [
            "epoch=21 train loss=1.199062 test loss=0.507125 train accuracy=0.704 test accuracy=0.667\n"
          ]
        },
        {
          "output_type": "stream",
          "name": "stderr",
          "text": [
            "100%|██████████| 7/7 [00:00<00:00, 15.42it/s]\n",
            "100%|██████████| 3/3 [00:00<00:00, 10.14it/s]\n"
          ]
        },
        {
          "output_type": "stream",
          "name": "stdout",
          "text": [
            "epoch=22 train loss=1.185764 test loss=0.504074 train accuracy=0.685 test accuracy=0.667\n"
          ]
        },
        {
          "output_type": "stream",
          "name": "stderr",
          "text": [
            "100%|██████████| 7/7 [00:00<00:00, 14.88it/s]\n",
            "100%|██████████| 3/3 [00:00<00:00, 10.00it/s]\n"
          ]
        },
        {
          "output_type": "stream",
          "name": "stdout",
          "text": [
            "epoch=23 train loss=1.176511 test loss=0.502133 train accuracy=0.667 test accuracy=0.667\n"
          ]
        },
        {
          "output_type": "stream",
          "name": "stderr",
          "text": [
            "100%|██████████| 7/7 [00:00<00:00, 15.47it/s]\n",
            "100%|██████████| 3/3 [00:00<00:00, 10.72it/s]\n"
          ]
        },
        {
          "output_type": "stream",
          "name": "stdout",
          "text": [
            "epoch=24 train loss=1.164918 test loss=0.499267 train accuracy=0.685 test accuracy=0.667\n"
          ]
        },
        {
          "output_type": "stream",
          "name": "stderr",
          "text": [
            "100%|██████████| 7/7 [00:00<00:00, 14.95it/s]\n",
            "100%|██████████| 3/3 [00:00<00:00, 10.89it/s]\n"
          ]
        },
        {
          "output_type": "stream",
          "name": "stdout",
          "text": [
            "epoch=25 train loss=1.158753 test loss=0.495661 train accuracy=0.667 test accuracy=0.667\n"
          ]
        },
        {
          "output_type": "stream",
          "name": "stderr",
          "text": [
            "100%|██████████| 7/7 [00:00<00:00, 14.73it/s]\n",
            "100%|██████████| 3/3 [00:00<00:00, 10.82it/s]\n"
          ]
        },
        {
          "output_type": "stream",
          "name": "stdout",
          "text": [
            "epoch=26 train loss=1.154868 test loss=0.493775 train accuracy=0.704 test accuracy=0.667\n"
          ]
        },
        {
          "output_type": "stream",
          "name": "stderr",
          "text": [
            "100%|██████████| 7/7 [00:00<00:00, 15.37it/s]\n",
            "100%|██████████| 3/3 [00:00<00:00, 10.14it/s]\n"
          ]
        },
        {
          "output_type": "stream",
          "name": "stdout",
          "text": [
            "epoch=27 train loss=1.147576 test loss=0.491815 train accuracy=0.722 test accuracy=0.708\n"
          ]
        },
        {
          "output_type": "stream",
          "name": "stderr",
          "text": [
            "100%|██████████| 7/7 [00:00<00:00, 15.30it/s]\n",
            "100%|██████████| 3/3 [00:00<00:00, 10.68it/s]\n"
          ]
        },
        {
          "output_type": "stream",
          "name": "stdout",
          "text": [
            "epoch=28 train loss=1.143115 test loss=0.489011 train accuracy=0.704 test accuracy=0.708\n"
          ]
        },
        {
          "output_type": "stream",
          "name": "stderr",
          "text": [
            "100%|██████████| 7/7 [00:00<00:00, 15.25it/s]\n",
            "100%|██████████| 3/3 [00:00<00:00, 10.76it/s]\n"
          ]
        },
        {
          "output_type": "stream",
          "name": "stdout",
          "text": [
            "epoch=29 train loss=1.130180 test loss=0.487025 train accuracy=0.704 test accuracy=0.708\n"
          ]
        },
        {
          "output_type": "stream",
          "name": "stderr",
          "text": [
            "100%|██████████| 7/7 [00:00<00:00, 15.17it/s]\n",
            "100%|██████████| 3/3 [00:00<00:00, 10.60it/s]\n"
          ]
        },
        {
          "output_type": "stream",
          "name": "stdout",
          "text": [
            "epoch=30 train loss=1.118771 test loss=0.485334 train accuracy=0.722 test accuracy=0.708\n"
          ]
        },
        {
          "output_type": "stream",
          "name": "stderr",
          "text": [
            "100%|██████████| 7/7 [00:00<00:00, 15.47it/s]\n",
            "100%|██████████| 3/3 [00:00<00:00, 10.12it/s]\n"
          ]
        },
        {
          "output_type": "stream",
          "name": "stdout",
          "text": [
            "epoch=31 train loss=1.117394 test loss=0.483345 train accuracy=0.704 test accuracy=0.708\n"
          ]
        },
        {
          "output_type": "stream",
          "name": "stderr",
          "text": [
            "100%|██████████| 7/7 [00:00<00:00, 14.98it/s]\n",
            "100%|██████████| 3/3 [00:00<00:00, 10.78it/s]\n"
          ]
        },
        {
          "output_type": "stream",
          "name": "stdout",
          "text": [
            "epoch=32 train loss=1.108540 test loss=0.480650 train accuracy=0.722 test accuracy=0.708\n"
          ]
        },
        {
          "output_type": "stream",
          "name": "stderr",
          "text": [
            "100%|██████████| 7/7 [00:00<00:00, 15.41it/s]\n",
            "100%|██████████| 3/3 [00:00<00:00, 10.43it/s]\n"
          ]
        },
        {
          "output_type": "stream",
          "name": "stdout",
          "text": [
            "epoch=33 train loss=1.098250 test loss=0.478528 train accuracy=0.722 test accuracy=0.750\n"
          ]
        },
        {
          "output_type": "stream",
          "name": "stderr",
          "text": [
            "100%|██████████| 7/7 [00:00<00:00, 14.66it/s]\n",
            "100%|██████████| 3/3 [00:00<00:00, 10.43it/s]\n"
          ]
        },
        {
          "output_type": "stream",
          "name": "stdout",
          "text": [
            "epoch=34 train loss=1.108217 test loss=0.476664 train accuracy=0.722 test accuracy=0.750\n"
          ]
        },
        {
          "output_type": "stream",
          "name": "stderr",
          "text": [
            "100%|██████████| 7/7 [00:00<00:00, 15.46it/s]\n",
            "100%|██████████| 3/3 [00:00<00:00, 10.12it/s]\n"
          ]
        },
        {
          "output_type": "stream",
          "name": "stdout",
          "text": [
            "epoch=35 train loss=1.097930 test loss=0.475365 train accuracy=0.722 test accuracy=0.750\n"
          ]
        },
        {
          "output_type": "stream",
          "name": "stderr",
          "text": [
            "100%|██████████| 7/7 [00:00<00:00, 14.37it/s]\n",
            "100%|██████████| 3/3 [00:00<00:00, 10.49it/s]\n"
          ]
        },
        {
          "output_type": "stream",
          "name": "stdout",
          "text": [
            "epoch=36 train loss=1.091725 test loss=0.473737 train accuracy=0.722 test accuracy=0.750\n"
          ]
        },
        {
          "output_type": "stream",
          "name": "stderr",
          "text": [
            "100%|██████████| 7/7 [00:00<00:00, 14.92it/s]\n",
            "100%|██████████| 3/3 [00:00<00:00, 10.75it/s]\n"
          ]
        },
        {
          "output_type": "stream",
          "name": "stdout",
          "text": [
            "epoch=37 train loss=1.083898 test loss=0.471646 train accuracy=0.722 test accuracy=0.750\n"
          ]
        },
        {
          "output_type": "stream",
          "name": "stderr",
          "text": [
            "100%|██████████| 7/7 [00:00<00:00, 15.10it/s]\n",
            "100%|██████████| 3/3 [00:00<00:00, 10.42it/s]\n"
          ]
        },
        {
          "output_type": "stream",
          "name": "stdout",
          "text": [
            "epoch=38 train loss=1.087030 test loss=0.470328 train accuracy=0.722 test accuracy=0.750\n"
          ]
        },
        {
          "output_type": "stream",
          "name": "stderr",
          "text": [
            "100%|██████████| 7/7 [00:00<00:00, 15.07it/s]\n",
            "100%|██████████| 3/3 [00:00<00:00, 10.42it/s]\n"
          ]
        },
        {
          "output_type": "stream",
          "name": "stdout",
          "text": [
            "epoch=39 train loss=1.075796 test loss=0.468137 train accuracy=0.722 test accuracy=0.750\n"
          ]
        },
        {
          "output_type": "stream",
          "name": "stderr",
          "text": [
            "100%|██████████| 7/7 [00:00<00:00, 14.81it/s]\n",
            "100%|██████████| 3/3 [00:00<00:00, 10.79it/s]\n"
          ]
        },
        {
          "output_type": "stream",
          "name": "stdout",
          "text": [
            "epoch=40 train loss=1.079449 test loss=0.466773 train accuracy=0.722 test accuracy=0.750\n"
          ]
        },
        {
          "output_type": "stream",
          "name": "stderr",
          "text": [
            "100%|██████████| 7/7 [00:00<00:00, 15.44it/s]\n",
            "100%|██████████| 3/3 [00:00<00:00, 10.58it/s]\n"
          ]
        },
        {
          "output_type": "stream",
          "name": "stdout",
          "text": [
            "epoch=41 train loss=1.068665 test loss=0.466269 train accuracy=0.722 test accuracy=0.750\n"
          ]
        },
        {
          "output_type": "stream",
          "name": "stderr",
          "text": [
            "100%|██████████| 7/7 [00:00<00:00, 15.23it/s]\n",
            "100%|██████████| 3/3 [00:00<00:00, 10.81it/s]\n"
          ]
        },
        {
          "output_type": "stream",
          "name": "stdout",
          "text": [
            "epoch=42 train loss=1.065004 test loss=0.463954 train accuracy=0.722 test accuracy=0.750\n"
          ]
        },
        {
          "output_type": "stream",
          "name": "stderr",
          "text": [
            "100%|██████████| 7/7 [00:00<00:00, 15.63it/s]\n",
            "100%|██████████| 3/3 [00:00<00:00, 10.36it/s]\n"
          ]
        },
        {
          "output_type": "stream",
          "name": "stdout",
          "text": [
            "epoch=43 train loss=1.058964 test loss=0.461973 train accuracy=0.722 test accuracy=0.750\n"
          ]
        },
        {
          "output_type": "stream",
          "name": "stderr",
          "text": [
            "100%|██████████| 7/7 [00:00<00:00, 15.17it/s]\n",
            "100%|██████████| 3/3 [00:00<00:00, 10.85it/s]\n"
          ]
        },
        {
          "output_type": "stream",
          "name": "stdout",
          "text": [
            "epoch=44 train loss=1.058291 test loss=0.459952 train accuracy=0.722 test accuracy=0.750\n"
          ]
        },
        {
          "output_type": "stream",
          "name": "stderr",
          "text": [
            "100%|██████████| 7/7 [00:00<00:00, 14.62it/s]\n",
            "100%|██████████| 3/3 [00:00<00:00, 10.46it/s]\n"
          ]
        },
        {
          "output_type": "stream",
          "name": "stdout",
          "text": [
            "epoch=45 train loss=1.051601 test loss=0.458486 train accuracy=0.722 test accuracy=0.750\n"
          ]
        },
        {
          "output_type": "stream",
          "name": "stderr",
          "text": [
            "100%|██████████| 7/7 [00:00<00:00, 14.75it/s]\n",
            "100%|██████████| 3/3 [00:00<00:00, 10.20it/s]\n"
          ]
        },
        {
          "output_type": "stream",
          "name": "stdout",
          "text": [
            "epoch=46 train loss=1.042175 test loss=0.457339 train accuracy=0.722 test accuracy=0.750\n"
          ]
        },
        {
          "output_type": "stream",
          "name": "stderr",
          "text": [
            "100%|██████████| 7/7 [00:00<00:00, 14.88it/s]\n",
            "100%|██████████| 3/3 [00:00<00:00, 10.41it/s]\n"
          ]
        },
        {
          "output_type": "stream",
          "name": "stdout",
          "text": [
            "epoch=47 train loss=1.036049 test loss=0.455417 train accuracy=0.722 test accuracy=0.750\n"
          ]
        },
        {
          "output_type": "stream",
          "name": "stderr",
          "text": [
            "100%|██████████| 7/7 [00:00<00:00, 15.67it/s]\n",
            "100%|██████████| 3/3 [00:00<00:00, 10.97it/s]\n"
          ]
        },
        {
          "output_type": "stream",
          "name": "stdout",
          "text": [
            "epoch=48 train loss=1.040840 test loss=0.454422 train accuracy=0.741 test accuracy=0.750\n"
          ]
        },
        {
          "output_type": "stream",
          "name": "stderr",
          "text": [
            "100%|██████████| 7/7 [00:00<00:00, 13.77it/s]\n",
            "100%|██████████| 3/3 [00:00<00:00, 10.34it/s]\n"
          ]
        },
        {
          "output_type": "stream",
          "name": "stdout",
          "text": [
            "epoch=49 train loss=1.034293 test loss=0.453199 train accuracy=0.722 test accuracy=0.750\n"
          ]
        },
        {
          "output_type": "stream",
          "name": "stderr",
          "text": [
            "100%|██████████| 7/7 [00:00<00:00, 14.75it/s]\n",
            "100%|██████████| 3/3 [00:00<00:00, 10.57it/s]\n"
          ]
        },
        {
          "output_type": "stream",
          "name": "stdout",
          "text": [
            "epoch=50 train loss=1.033512 test loss=0.451920 train accuracy=0.741 test accuracy=0.750\n"
          ]
        },
        {
          "output_type": "stream",
          "name": "stderr",
          "text": [
            "100%|██████████| 7/7 [00:00<00:00, 15.15it/s]\n",
            "100%|██████████| 3/3 [00:00<00:00, 10.20it/s]\n"
          ]
        },
        {
          "output_type": "stream",
          "name": "stdout",
          "text": [
            "epoch=51 train loss=1.032466 test loss=0.449988 train accuracy=0.741 test accuracy=0.750\n"
          ]
        },
        {
          "output_type": "stream",
          "name": "stderr",
          "text": [
            "100%|██████████| 7/7 [00:00<00:00, 15.25it/s]\n",
            "100%|██████████| 3/3 [00:00<00:00, 10.39it/s]\n"
          ]
        },
        {
          "output_type": "stream",
          "name": "stdout",
          "text": [
            "epoch=52 train loss=1.020446 test loss=0.448689 train accuracy=0.759 test accuracy=0.750\n"
          ]
        },
        {
          "output_type": "stream",
          "name": "stderr",
          "text": [
            "100%|██████████| 7/7 [00:00<00:00, 15.13it/s]\n",
            "100%|██████████| 3/3 [00:00<00:00, 10.95it/s]\n"
          ]
        },
        {
          "output_type": "stream",
          "name": "stdout",
          "text": [
            "epoch=53 train loss=1.022479 test loss=0.447066 train accuracy=0.759 test accuracy=0.750\n"
          ]
        },
        {
          "output_type": "stream",
          "name": "stderr",
          "text": [
            "100%|██████████| 7/7 [00:00<00:00, 15.09it/s]\n",
            "100%|██████████| 3/3 [00:00<00:00, 10.96it/s]\n"
          ]
        },
        {
          "output_type": "stream",
          "name": "stdout",
          "text": [
            "epoch=54 train loss=1.028449 test loss=0.445749 train accuracy=0.759 test accuracy=0.750\n"
          ]
        },
        {
          "output_type": "stream",
          "name": "stderr",
          "text": [
            "100%|██████████| 7/7 [00:00<00:00, 15.18it/s]\n",
            "100%|██████████| 3/3 [00:00<00:00, 10.33it/s]\n"
          ]
        },
        {
          "output_type": "stream",
          "name": "stdout",
          "text": [
            "epoch=55 train loss=1.025943 test loss=0.443448 train accuracy=0.759 test accuracy=0.750\n"
          ]
        },
        {
          "output_type": "stream",
          "name": "stderr",
          "text": [
            "100%|██████████| 7/7 [00:00<00:00, 14.78it/s]\n",
            "100%|██████████| 3/3 [00:00<00:00, 10.53it/s]\n"
          ]
        },
        {
          "output_type": "stream",
          "name": "stdout",
          "text": [
            "epoch=56 train loss=1.012619 test loss=0.441718 train accuracy=0.778 test accuracy=0.792\n"
          ]
        },
        {
          "output_type": "stream",
          "name": "stderr",
          "text": [
            "100%|██████████| 7/7 [00:00<00:00, 14.95it/s]\n",
            "100%|██████████| 3/3 [00:00<00:00, 10.87it/s]\n"
          ]
        },
        {
          "output_type": "stream",
          "name": "stdout",
          "text": [
            "epoch=57 train loss=1.014201 test loss=0.439788 train accuracy=0.741 test accuracy=0.792\n"
          ]
        },
        {
          "output_type": "stream",
          "name": "stderr",
          "text": [
            "100%|██████████| 7/7 [00:00<00:00, 14.94it/s]\n",
            "100%|██████████| 3/3 [00:00<00:00, 11.02it/s]\n"
          ]
        },
        {
          "output_type": "stream",
          "name": "stdout",
          "text": [
            "epoch=58 train loss=1.001166 test loss=0.438447 train accuracy=0.778 test accuracy=0.792\n"
          ]
        },
        {
          "output_type": "stream",
          "name": "stderr",
          "text": [
            "100%|██████████| 7/7 [00:00<00:00, 15.15it/s]\n",
            "100%|██████████| 3/3 [00:00<00:00, 10.25it/s]\n"
          ]
        },
        {
          "output_type": "stream",
          "name": "stdout",
          "text": [
            "epoch=59 train loss=0.999043 test loss=0.436729 train accuracy=0.778 test accuracy=0.833\n"
          ]
        },
        {
          "output_type": "stream",
          "name": "stderr",
          "text": [
            "100%|██████████| 7/7 [00:00<00:00, 15.95it/s]\n",
            "100%|██████████| 3/3 [00:00<00:00, 10.73it/s]\n"
          ]
        },
        {
          "output_type": "stream",
          "name": "stdout",
          "text": [
            "epoch=60 train loss=0.992787 test loss=0.435098 train accuracy=0.796 test accuracy=0.833\n"
          ]
        },
        {
          "output_type": "stream",
          "name": "stderr",
          "text": [
            "100%|██████████| 7/7 [00:00<00:00, 15.27it/s]\n",
            "100%|██████████| 3/3 [00:00<00:00, 10.55it/s]\n"
          ]
        },
        {
          "output_type": "stream",
          "name": "stdout",
          "text": [
            "epoch=61 train loss=0.993177 test loss=0.433651 train accuracy=0.815 test accuracy=0.833\n"
          ]
        },
        {
          "output_type": "stream",
          "name": "stderr",
          "text": [
            "100%|██████████| 7/7 [00:00<00:00, 14.31it/s]\n",
            "100%|██████████| 3/3 [00:00<00:00, 10.21it/s]\n"
          ]
        },
        {
          "output_type": "stream",
          "name": "stdout",
          "text": [
            "epoch=62 train loss=0.988571 test loss=0.431376 train accuracy=0.815 test accuracy=0.833\n"
          ]
        },
        {
          "output_type": "stream",
          "name": "stderr",
          "text": [
            "100%|██████████| 7/7 [00:00<00:00, 15.32it/s]\n",
            "100%|██████████| 3/3 [00:00<00:00, 10.17it/s]\n"
          ]
        },
        {
          "output_type": "stream",
          "name": "stdout",
          "text": [
            "epoch=63 train loss=0.974757 test loss=0.428210 train accuracy=0.815 test accuracy=0.833\n"
          ]
        },
        {
          "output_type": "stream",
          "name": "stderr",
          "text": [
            "100%|██████████| 7/7 [00:00<00:00, 14.90it/s]\n",
            "100%|██████████| 3/3 [00:00<00:00, 10.97it/s]\n"
          ]
        },
        {
          "output_type": "stream",
          "name": "stdout",
          "text": [
            "epoch=64 train loss=0.980180 test loss=0.427215 train accuracy=0.852 test accuracy=0.833\n"
          ]
        },
        {
          "output_type": "stream",
          "name": "stderr",
          "text": [
            "100%|██████████| 7/7 [00:00<00:00, 15.25it/s]\n",
            "100%|██████████| 3/3 [00:00<00:00, 10.89it/s]\n"
          ]
        },
        {
          "output_type": "stream",
          "name": "stdout",
          "text": [
            "epoch=65 train loss=0.967806 test loss=0.425715 train accuracy=0.815 test accuracy=0.875\n"
          ]
        },
        {
          "output_type": "stream",
          "name": "stderr",
          "text": [
            "100%|██████████| 7/7 [00:00<00:00, 14.81it/s]\n",
            "100%|██████████| 3/3 [00:00<00:00, 11.04it/s]\n"
          ]
        },
        {
          "output_type": "stream",
          "name": "stdout",
          "text": [
            "epoch=66 train loss=0.972637 test loss=0.423096 train accuracy=0.833 test accuracy=0.917\n"
          ]
        },
        {
          "output_type": "stream",
          "name": "stderr",
          "text": [
            "100%|██████████| 7/7 [00:00<00:00, 15.45it/s]\n",
            "100%|██████████| 3/3 [00:00<00:00, 10.29it/s]\n"
          ]
        },
        {
          "output_type": "stream",
          "name": "stdout",
          "text": [
            "epoch=67 train loss=0.955637 test loss=0.420765 train accuracy=0.870 test accuracy=0.958\n"
          ]
        },
        {
          "output_type": "stream",
          "name": "stderr",
          "text": [
            "100%|██████████| 7/7 [00:00<00:00, 15.57it/s]\n",
            "100%|██████████| 3/3 [00:00<00:00, 10.80it/s]\n"
          ]
        },
        {
          "output_type": "stream",
          "name": "stdout",
          "text": [
            "epoch=68 train loss=0.960705 test loss=0.420148 train accuracy=0.870 test accuracy=0.958\n"
          ]
        },
        {
          "output_type": "stream",
          "name": "stderr",
          "text": [
            "100%|██████████| 7/7 [00:00<00:00, 15.19it/s]\n",
            "100%|██████████| 3/3 [00:00<00:00, 10.41it/s]\n"
          ]
        },
        {
          "output_type": "stream",
          "name": "stdout",
          "text": [
            "epoch=69 train loss=0.953040 test loss=0.418500 train accuracy=0.889 test accuracy=0.958\n"
          ]
        },
        {
          "output_type": "stream",
          "name": "stderr",
          "text": [
            "100%|██████████| 7/7 [00:00<00:00, 14.54it/s]\n",
            "100%|██████████| 3/3 [00:00<00:00, 10.70it/s]\n"
          ]
        },
        {
          "output_type": "stream",
          "name": "stdout",
          "text": [
            "epoch=70 train loss=0.944365 test loss=0.416398 train accuracy=0.889 test accuracy=0.958\n"
          ]
        },
        {
          "output_type": "stream",
          "name": "stderr",
          "text": [
            "100%|██████████| 7/7 [00:00<00:00, 15.00it/s]\n",
            "100%|██████████| 3/3 [00:00<00:00, 10.64it/s]\n"
          ]
        },
        {
          "output_type": "stream",
          "name": "stdout",
          "text": [
            "epoch=71 train loss=0.939533 test loss=0.413664 train accuracy=0.981 test accuracy=0.958\n"
          ]
        },
        {
          "output_type": "stream",
          "name": "stderr",
          "text": [
            "100%|██████████| 7/7 [00:00<00:00, 15.41it/s]\n",
            "100%|██████████| 3/3 [00:00<00:00, 10.85it/s]\n"
          ]
        },
        {
          "output_type": "stream",
          "name": "stdout",
          "text": [
            "epoch=72 train loss=0.938829 test loss=0.411964 train accuracy=0.944 test accuracy=0.958\n"
          ]
        },
        {
          "output_type": "stream",
          "name": "stderr",
          "text": [
            "100%|██████████| 7/7 [00:00<00:00, 14.96it/s]\n",
            "100%|██████████| 3/3 [00:00<00:00, 10.89it/s]\n"
          ]
        },
        {
          "output_type": "stream",
          "name": "stdout",
          "text": [
            "epoch=73 train loss=0.932776 test loss=0.410730 train accuracy=0.944 test accuracy=0.958\n"
          ]
        },
        {
          "output_type": "stream",
          "name": "stderr",
          "text": [
            "100%|██████████| 7/7 [00:00<00:00, 14.92it/s]\n",
            "100%|██████████| 3/3 [00:00<00:00, 10.53it/s]\n"
          ]
        },
        {
          "output_type": "stream",
          "name": "stdout",
          "text": [
            "epoch=74 train loss=0.929134 test loss=0.409712 train accuracy=0.963 test accuracy=0.958\n"
          ]
        },
        {
          "output_type": "stream",
          "name": "stderr",
          "text": [
            "100%|██████████| 7/7 [00:00<00:00, 15.14it/s]\n",
            "100%|██████████| 3/3 [00:00<00:00, 10.24it/s]\n"
          ]
        },
        {
          "output_type": "stream",
          "name": "stdout",
          "text": [
            "epoch=75 train loss=0.921351 test loss=0.407261 train accuracy=0.963 test accuracy=0.958\n"
          ]
        },
        {
          "output_type": "stream",
          "name": "stderr",
          "text": [
            "100%|██████████| 7/7 [00:00<00:00, 14.58it/s]\n",
            "100%|██████████| 3/3 [00:00<00:00,  6.66it/s]\n"
          ]
        },
        {
          "output_type": "stream",
          "name": "stdout",
          "text": [
            "epoch=76 train loss=0.922822 test loss=0.403944 train accuracy=0.963 test accuracy=0.958\n"
          ]
        },
        {
          "output_type": "stream",
          "name": "stderr",
          "text": [
            "100%|██████████| 7/7 [00:01<00:00,  6.68it/s]\n",
            "100%|██████████| 3/3 [00:00<00:00, 10.44it/s]\n"
          ]
        },
        {
          "output_type": "stream",
          "name": "stdout",
          "text": [
            "epoch=77 train loss=0.926283 test loss=0.402727 train accuracy=0.963 test accuracy=0.958\n"
          ]
        },
        {
          "output_type": "stream",
          "name": "stderr",
          "text": [
            "100%|██████████| 7/7 [00:00<00:00, 15.22it/s]\n",
            "100%|██████████| 3/3 [00:00<00:00, 10.67it/s]\n"
          ]
        },
        {
          "output_type": "stream",
          "name": "stdout",
          "text": [
            "epoch=78 train loss=0.912660 test loss=0.401737 train accuracy=0.981 test accuracy=0.958\n"
          ]
        },
        {
          "output_type": "stream",
          "name": "stderr",
          "text": [
            "100%|██████████| 7/7 [00:00<00:00, 15.27it/s]\n",
            "100%|██████████| 3/3 [00:00<00:00, 10.15it/s]\n"
          ]
        },
        {
          "output_type": "stream",
          "name": "stdout",
          "text": [
            "epoch=79 train loss=0.907423 test loss=0.401529 train accuracy=0.963 test accuracy=0.958\n"
          ]
        },
        {
          "output_type": "stream",
          "name": "stderr",
          "text": [
            "100%|██████████| 7/7 [00:00<00:00, 14.84it/s]\n",
            "100%|██████████| 3/3 [00:00<00:00, 10.79it/s]\n"
          ]
        },
        {
          "output_type": "stream",
          "name": "stdout",
          "text": [
            "epoch=80 train loss=0.896686 test loss=0.399195 train accuracy=0.981 test accuracy=0.958\n"
          ]
        },
        {
          "output_type": "stream",
          "name": "stderr",
          "text": [
            "100%|██████████| 7/7 [00:00<00:00, 13.97it/s]\n",
            "100%|██████████| 3/3 [00:00<00:00, 10.83it/s]\n"
          ]
        },
        {
          "output_type": "stream",
          "name": "stdout",
          "text": [
            "epoch=81 train loss=0.896222 test loss=0.396445 train accuracy=0.963 test accuracy=1.000\n"
          ]
        },
        {
          "output_type": "stream",
          "name": "stderr",
          "text": [
            "100%|██████████| 7/7 [00:00<00:00, 15.20it/s]\n",
            "100%|██████████| 3/3 [00:00<00:00, 10.31it/s]\n"
          ]
        },
        {
          "output_type": "stream",
          "name": "stdout",
          "text": [
            "epoch=82 train loss=0.899363 test loss=0.394189 train accuracy=0.944 test accuracy=1.000\n"
          ]
        },
        {
          "output_type": "stream",
          "name": "stderr",
          "text": [
            "100%|██████████| 7/7 [00:00<00:00, 15.14it/s]\n",
            "100%|██████████| 3/3 [00:00<00:00, 10.72it/s]\n"
          ]
        },
        {
          "output_type": "stream",
          "name": "stdout",
          "text": [
            "epoch=83 train loss=0.886251 test loss=0.393499 train accuracy=0.963 test accuracy=1.000\n"
          ]
        },
        {
          "output_type": "stream",
          "name": "stderr",
          "text": [
            "100%|██████████| 7/7 [00:00<00:00, 15.32it/s]\n",
            "100%|██████████| 3/3 [00:00<00:00, 10.07it/s]\n"
          ]
        },
        {
          "output_type": "stream",
          "name": "stdout",
          "text": [
            "epoch=84 train loss=0.887121 test loss=0.391672 train accuracy=1.000 test accuracy=1.000\n"
          ]
        },
        {
          "output_type": "stream",
          "name": "stderr",
          "text": [
            "100%|██████████| 7/7 [00:00<00:00, 14.81it/s]\n",
            "100%|██████████| 3/3 [00:00<00:00, 10.74it/s]\n"
          ]
        },
        {
          "output_type": "stream",
          "name": "stdout",
          "text": [
            "epoch=85 train loss=0.882600 test loss=0.390768 train accuracy=1.000 test accuracy=1.000\n"
          ]
        },
        {
          "output_type": "stream",
          "name": "stderr",
          "text": [
            "100%|██████████| 7/7 [00:00<00:00, 15.21it/s]\n",
            "100%|██████████| 3/3 [00:00<00:00,  9.95it/s]\n"
          ]
        },
        {
          "output_type": "stream",
          "name": "stdout",
          "text": [
            "epoch=86 train loss=0.879099 test loss=0.389701 train accuracy=1.000 test accuracy=1.000\n"
          ]
        },
        {
          "output_type": "stream",
          "name": "stderr",
          "text": [
            "100%|██████████| 7/7 [00:00<00:00, 14.83it/s]\n",
            "100%|██████████| 3/3 [00:00<00:00, 10.71it/s]\n"
          ]
        },
        {
          "output_type": "stream",
          "name": "stdout",
          "text": [
            "epoch=87 train loss=0.870850 test loss=0.388660 train accuracy=0.981 test accuracy=1.000\n"
          ]
        },
        {
          "output_type": "stream",
          "name": "stderr",
          "text": [
            "100%|██████████| 7/7 [00:00<00:00, 14.15it/s]\n",
            "100%|██████████| 3/3 [00:00<00:00, 10.61it/s]\n"
          ]
        },
        {
          "output_type": "stream",
          "name": "stdout",
          "text": [
            "epoch=88 train loss=0.869249 test loss=0.385876 train accuracy=1.000 test accuracy=1.000\n"
          ]
        },
        {
          "output_type": "stream",
          "name": "stderr",
          "text": [
            "100%|██████████| 7/7 [00:00<00:00, 14.78it/s]\n",
            "100%|██████████| 3/3 [00:00<00:00, 10.44it/s]\n"
          ]
        },
        {
          "output_type": "stream",
          "name": "stdout",
          "text": [
            "epoch=89 train loss=0.868988 test loss=0.385025 train accuracy=0.981 test accuracy=1.000\n"
          ]
        },
        {
          "output_type": "stream",
          "name": "stderr",
          "text": [
            "100%|██████████| 7/7 [00:00<00:00, 15.05it/s]\n",
            "100%|██████████| 3/3 [00:00<00:00, 10.46it/s]\n"
          ]
        },
        {
          "output_type": "stream",
          "name": "stdout",
          "text": [
            "epoch=90 train loss=0.864896 test loss=0.382938 train accuracy=1.000 test accuracy=1.000\n"
          ]
        },
        {
          "output_type": "stream",
          "name": "stderr",
          "text": [
            "100%|██████████| 7/7 [00:00<00:00, 15.19it/s]\n",
            "100%|██████████| 3/3 [00:00<00:00, 10.01it/s]\n"
          ]
        },
        {
          "output_type": "stream",
          "name": "stdout",
          "text": [
            "epoch=91 train loss=0.857781 test loss=0.381953 train accuracy=1.000 test accuracy=1.000\n"
          ]
        },
        {
          "output_type": "stream",
          "name": "stderr",
          "text": [
            "100%|██████████| 7/7 [00:00<00:00, 15.23it/s]\n",
            "100%|██████████| 3/3 [00:00<00:00, 11.17it/s]\n"
          ]
        },
        {
          "output_type": "stream",
          "name": "stdout",
          "text": [
            "epoch=92 train loss=0.863860 test loss=0.380363 train accuracy=1.000 test accuracy=1.000\n"
          ]
        },
        {
          "output_type": "stream",
          "name": "stderr",
          "text": [
            "100%|██████████| 7/7 [00:00<00:00, 15.08it/s]\n",
            "100%|██████████| 3/3 [00:00<00:00, 10.25it/s]\n"
          ]
        },
        {
          "output_type": "stream",
          "name": "stdout",
          "text": [
            "epoch=93 train loss=0.855716 test loss=0.379921 train accuracy=1.000 test accuracy=1.000\n"
          ]
        },
        {
          "output_type": "stream",
          "name": "stderr",
          "text": [
            "100%|██████████| 7/7 [00:00<00:00, 15.48it/s]\n",
            "100%|██████████| 3/3 [00:00<00:00, 10.28it/s]\n"
          ]
        },
        {
          "output_type": "stream",
          "name": "stdout",
          "text": [
            "epoch=94 train loss=0.853224 test loss=0.379197 train accuracy=1.000 test accuracy=1.000\n"
          ]
        },
        {
          "output_type": "stream",
          "name": "stderr",
          "text": [
            "100%|██████████| 7/7 [00:00<00:00, 14.94it/s]\n",
            "100%|██████████| 3/3 [00:00<00:00,  9.84it/s]\n"
          ]
        },
        {
          "output_type": "stream",
          "name": "stdout",
          "text": [
            "epoch=95 train loss=0.847162 test loss=0.377880 train accuracy=1.000 test accuracy=1.000\n"
          ]
        },
        {
          "output_type": "stream",
          "name": "stderr",
          "text": [
            "100%|██████████| 7/7 [00:00<00:00, 15.57it/s]\n",
            "100%|██████████| 3/3 [00:00<00:00, 10.67it/s]\n"
          ]
        },
        {
          "output_type": "stream",
          "name": "stdout",
          "text": [
            "epoch=96 train loss=0.844441 test loss=0.377126 train accuracy=1.000 test accuracy=1.000\n"
          ]
        },
        {
          "output_type": "stream",
          "name": "stderr",
          "text": [
            "100%|██████████| 7/7 [00:00<00:00, 15.16it/s]\n",
            "100%|██████████| 3/3 [00:00<00:00, 10.62it/s]\n"
          ]
        },
        {
          "output_type": "stream",
          "name": "stdout",
          "text": [
            "epoch=97 train loss=0.846435 test loss=0.375840 train accuracy=0.981 test accuracy=1.000\n"
          ]
        },
        {
          "output_type": "stream",
          "name": "stderr",
          "text": [
            "100%|██████████| 7/7 [00:00<00:00, 15.11it/s]\n",
            "100%|██████████| 3/3 [00:00<00:00, 10.19it/s]\n"
          ]
        },
        {
          "output_type": "stream",
          "name": "stdout",
          "text": [
            "epoch=98 train loss=0.839337 test loss=0.373873 train accuracy=1.000 test accuracy=1.000\n"
          ]
        },
        {
          "output_type": "stream",
          "name": "stderr",
          "text": [
            "100%|██████████| 7/7 [00:00<00:00, 15.65it/s]\n",
            "100%|██████████| 3/3 [00:00<00:00, 10.48it/s]"
          ]
        },
        {
          "output_type": "stream",
          "name": "stdout",
          "text": [
            "epoch=99 train loss=0.837762 test loss=0.372684 train accuracy=1.000 test accuracy=1.000\n"
          ]
        },
        {
          "output_type": "stream",
          "name": "stderr",
          "text": [
            "\n"
          ]
        }
      ]
    },
    {
      "cell_type": "code",
      "source": [
        "model = CNNModel3(in_channels=1, n_classes=n_classes)\n",
        "model.load_state_dict(torch.load(\"CNNModel3.pth\", map_location=torch.device(\"cuda\" if torch.cuda.is_available() else \"cpu\")))\n",
        "\n",
        "activities = [\"left\", \"palm\", \"peace\", \"right\"]\n",
        "plot_accuracy_per_epoch(train_accs, test_accs)\n",
        "plot_avg_loss_per_epoch(train_losses, test_losses)\n",
        "y_true, y_pred = tester(model, testloader)\n",
        "\n",
        "# Compute confusion matrix\n",
        "cnf_matrix = confusion_matrix(y_true, y_pred)\n",
        "np.set_printoptions(precision=2)\n",
        "\n",
        "# Plot non-normalized confusion matrix\n",
        "plot_confusion_matrix(cnf_matrix, classes=activities, title='CNN Testing Confusion Matrix Without Normalization')\n",
        "\n",
        "# Plot normalized confusion matrix\n",
        "plot_confusion_matrix(cnf_matrix, classes=activities, normalize=True, title='CNN Testing Normalized Confusion Matrix')"
      ],
      "metadata": {
        "colab": {
          "base_uri": "https://localhost:8080/",
          "height": 1000
        },
        "id": "MIAtmqcUSGaa",
        "outputId": "0af0f917-26f8-4274-99bb-b666c4cbc5d0"
      },
      "execution_count": 24,
      "outputs": [
        {
          "output_type": "display_data",
          "data": {
            "image/png": "[encoded data removed]",
            "text/plain": [
              "<Figure size 720x576 with 1 Axes>"
            ]
          },
          "metadata": {
            "needs_background": "light"
          }
        },
        {
          "output_type": "display_data",
          "data": {
            "image/png": "[encoded data removed]",
            "text/plain": [
              "<Figure size 720x576 with 1 Axes>"
            ]
          },
          "metadata": {
            "needs_background": "light"
          }
        },
        {
          "output_type": "stream",
          "name": "stdout",
          "text": [
            "Confusion Matrix Without Normalization\n"
          ]
        },
        {
          "output_type": "display_data",
          "data": {
            "image/png": "[encoded data removed]",
            "text/plain": [
              "<Figure size 1080x576 with 2 Axes>"
            ]
          },
          "metadata": {
            "needs_background": "light"
          }
        },
        {
          "output_type": "stream",
          "name": "stdout",
          "text": [
            "Normalized Confusion Matrix\n"
          ]
        },
        {
          "output_type": "display_data",
          "data": {
            "image/png": "[encoded data removed]",
            "text/plain": [
              "<Figure size 1080x576 with 2 Axes>"
            ]
          },
          "metadata": {
            "needs_background": "light"
          }
        }
      ]
    },
    {
      "cell_type": "code",
      "source": [
        "accuracy_score(y_true, y_pred)"
      ],
      "metadata": {
        "colab": {
          "base_uri": "https://localhost:8080/"
        },
        "id": "bjH2kCbNSJvr",
        "outputId": "a0c698db-a9ac-469c-bc66-574e9b9bb68e"
      },
      "execution_count": 25,
      "outputs": [
        {
          "output_type": "execute_result",
          "data": {
            "text/plain": [
              "1.0"
            ]
          },
          "metadata": {},
          "execution_count": 25
        }
      ]
    },
    {
      "cell_type": "code",
      "source": [
        "class MyDataset3(Dataset):\n",
        "    def __init__(self, data, is_train):\n",
        "        self.data = data\n",
        "        self.is_train = is_train\n",
        "\n",
        "        self.image_transform_train = transforms.Compose(\n",
        "            [\n",
        "                transforms.Resize(48), \n",
        "                transforms.CenterCrop(48),\n",
        "                transforms.ToTensor(),\n",
        "            ]\n",
        "        )\n",
        "        self.image_transform_test = transforms.Compose(\n",
        "            [\n",
        "                transforms.Resize(48),\n",
        "                transforms.CenterCrop(48), \n",
        "                transforms.ToTensor(),\n",
        "            ]\n",
        "        )\n",
        "\n",
        "    def __getitem__(self, idx):\n",
        "        image_name, label = self.data[idx]\n",
        "        image = Image.open(image_name).convert(\"RGB\")\n",
        "        if self.is_train:\n",
        "            image_inp = self.image_transform_train(image)\n",
        "        else:\n",
        "            image_inp = self.image_transform_test(image)\n",
        "        return image_inp, label\n",
        "\n",
        "    def __len__(self):\n",
        "        return len(self.data)\n",
        "\n",
        "train, test = get_image_paths()\n",
        "trainloader = DataLoader(MyDataset3(train, is_train=True), batch_size=8, shuffle=True)\n",
        "testloader = DataLoader(MyDataset3(test, is_train=False), batch_size=8, shuffle=True)\n",
        "\n",
        "imgs, labels = next(iter(trainloader))\n",
        "print(imgs.shape, labels.shape)\n",
        "imgs, labels = next(iter(testloader))\n",
        "print(imgs.shape, labels.shape)"
      ],
      "metadata": {
        "colab": {
          "base_uri": "https://localhost:8080/"
        },
        "id": "MGjr7TtyLp0B",
        "outputId": "7622dda7-0f38-4788-c541-f4bba05a2a62"
      },
      "execution_count": 26,
      "outputs": [
        {
          "output_type": "stream",
          "name": "stdout",
          "text": [
            "torch.Size([8, 3, 48, 48]) torch.Size([8])\n",
            "torch.Size([8, 3, 48, 48]) torch.Size([8])\n"
          ]
        }
      ]
    },
    {
      "cell_type": "code",
      "source": [
        "class CNNModel4(nn.Module):\n",
        "    def __init__(self, in_channels, n_classes):\n",
        "        super(CNNModel4, self).__init__()\n",
        "        self.conv1 = nn.Sequential(\n",
        "            nn.Conv2d(in_channels, 4, 3),\n",
        "            nn.BatchNorm2d(4),\n",
        "            nn.ReLU(),\n",
        "        )\n",
        "        self.pool1 = nn.MaxPool2d(2, 2)\n",
        "\n",
        "        self.conv2 = nn.Sequential(\n",
        "            nn.Conv2d(4, 8, 3),\n",
        "            nn.BatchNorm2d(8),\n",
        "            nn.ReLU(),\n",
        "        )\n",
        "        self.pool2 = nn.MaxPool2d(2, 2)\n",
        "\n",
        "        self.flat = nn.Flatten()\n",
        "        self.fc1 = nn.Sequential(\n",
        "            nn.Linear(800, n_classes),\n",
        "        )\n",
        "        self.sm = nn.Softmax(dim=1)\n",
        "\n",
        "    def forward(self, x):\n",
        "        x = self.conv1(x)\n",
        "        x = self.pool1(x)\n",
        "\n",
        "        x = self.conv2(x)\n",
        "        x = self.pool2(x)\n",
        "\n",
        "        x = self.flat(x)\n",
        "        x = self.fc1(x)\n",
        "        out = self.sm(x)\n",
        "        return out\n",
        "\n",
        "n_classes = 4\n",
        "model = CNNModel4(in_channels=3, n_classes=n_classes)\n",
        "batch_image, batch_label = next(iter(trainloader))\n",
        "batch_output = model(batch_image)\n",
        "batch_output.shape, batch_label.shape"
      ],
      "metadata": {
        "colab": {
          "base_uri": "https://localhost:8080/"
        },
        "id": "er5Sz1KmLt6n",
        "outputId": "db7ffeb0-e668-4b04-a3a2-9f188a71e44e"
      },
      "execution_count": 27,
      "outputs": [
        {
          "output_type": "execute_result",
          "data": {
            "text/plain": [
              "(torch.Size([8, 4]), torch.Size([8]))"
            ]
          },
          "metadata": {},
          "execution_count": 27
        }
      ]
    },
    {
      "cell_type": "code",
      "source": [
        "train, test = get_image_paths()\n",
        "trainloader = DataLoader(MyDataset3(train, is_train=True), num_workers=2, batch_size=8, shuffle=True)\n",
        "testloader = DataLoader(MyDataset3(test, is_train=False), num_workers=2, batch_size=8, shuffle=True)\n",
        "\n",
        "n_classes = 4\n",
        "model = CNNModel4(in_channels=3, n_classes=n_classes)\n",
        "\n",
        "optimizer = torch.optim.Adam(model.parameters(), lr=0.0001)\n",
        "criterion = nn.CrossEntropyLoss()\n",
        "train_losses, test_losses, train_accs, test_accs = trainer(model, optimizer, criterion, trainloader, testloader, epochs=100, model_name=\"CNNModel4.pth\")"
      ],
      "metadata": {
        "colab": {
          "base_uri": "https://localhost:8080/"
        },
        "id": "LkMvdE_ELxFi",
        "outputId": "c54b6399-fca3-4676-adf8-eaea9bb30757"
      },
      "execution_count": 28,
      "outputs": [
        {
          "output_type": "stream",
          "name": "stderr",
          "text": [
            "100%|██████████| 7/7 [00:00<00:00, 15.68it/s]\n",
            "100%|██████████| 3/3 [00:00<00:00, 10.15it/s]\n"
          ]
        },
        {
          "output_type": "stream",
          "name": "stdout",
          "text": [
            "epoch=0 train loss=1.401993 test loss=0.589351 train accuracy=0.148 test accuracy=0.375\n"
          ]
        },
        {
          "output_type": "stream",
          "name": "stderr",
          "text": [
            "100%|██████████| 7/7 [00:00<00:00, 15.04it/s]\n",
            "100%|██████████| 3/3 [00:00<00:00, 10.85it/s]\n"
          ]
        },
        {
          "output_type": "stream",
          "name": "stdout",
          "text": [
            "epoch=1 train loss=1.356636 test loss=0.586742 train accuracy=0.426 test accuracy=0.458\n"
          ]
        },
        {
          "output_type": "stream",
          "name": "stderr",
          "text": [
            "100%|██████████| 7/7 [00:00<00:00, 15.42it/s]\n",
            "100%|██████████| 3/3 [00:00<00:00, 10.22it/s]\n"
          ]
        },
        {
          "output_type": "stream",
          "name": "stdout",
          "text": [
            "epoch=2 train loss=1.320048 test loss=0.579676 train accuracy=0.556 test accuracy=0.542\n"
          ]
        },
        {
          "output_type": "stream",
          "name": "stderr",
          "text": [
            "100%|██████████| 7/7 [00:00<00:00, 15.86it/s]\n",
            "100%|██████████| 3/3 [00:00<00:00, 10.86it/s]\n"
          ]
        },
        {
          "output_type": "stream",
          "name": "stdout",
          "text": [
            "epoch=3 train loss=1.284241 test loss=0.567104 train accuracy=0.630 test accuracy=0.667\n"
          ]
        },
        {
          "output_type": "stream",
          "name": "stderr",
          "text": [
            "100%|██████████| 7/7 [00:00<00:00, 14.84it/s]\n",
            "100%|██████████| 3/3 [00:00<00:00, 10.93it/s]\n"
          ]
        },
        {
          "output_type": "stream",
          "name": "stdout",
          "text": [
            "epoch=4 train loss=1.241836 test loss=0.548142 train accuracy=0.630 test accuracy=0.667\n"
          ]
        },
        {
          "output_type": "stream",
          "name": "stderr",
          "text": [
            "100%|██████████| 7/7 [00:00<00:00, 15.31it/s]\n",
            "100%|██████████| 3/3 [00:00<00:00, 10.38it/s]\n"
          ]
        },
        {
          "output_type": "stream",
          "name": "stdout",
          "text": [
            "epoch=5 train loss=1.212308 test loss=0.525809 train accuracy=0.630 test accuracy=0.667\n"
          ]
        },
        {
          "output_type": "stream",
          "name": "stderr",
          "text": [
            "100%|██████████| 7/7 [00:00<00:00, 15.54it/s]\n",
            "100%|██████████| 3/3 [00:00<00:00, 10.39it/s]\n"
          ]
        },
        {
          "output_type": "stream",
          "name": "stdout",
          "text": [
            "epoch=6 train loss=1.187131 test loss=0.504383 train accuracy=0.648 test accuracy=0.667\n"
          ]
        },
        {
          "output_type": "stream",
          "name": "stderr",
          "text": [
            "100%|██████████| 7/7 [00:00<00:00, 15.89it/s]\n",
            "100%|██████████| 3/3 [00:00<00:00, 10.48it/s]\n"
          ]
        },
        {
          "output_type": "stream",
          "name": "stdout",
          "text": [
            "epoch=7 train loss=1.153924 test loss=0.487130 train accuracy=0.648 test accuracy=0.667\n"
          ]
        },
        {
          "output_type": "stream",
          "name": "stderr",
          "text": [
            "100%|██████████| 7/7 [00:00<00:00, 15.12it/s]\n",
            "100%|██████████| 3/3 [00:00<00:00, 10.63it/s]\n"
          ]
        },
        {
          "output_type": "stream",
          "name": "stdout",
          "text": [
            "epoch=8 train loss=1.128157 test loss=0.473939 train accuracy=0.648 test accuracy=0.667\n"
          ]
        },
        {
          "output_type": "stream",
          "name": "stderr",
          "text": [
            "100%|██████████| 7/7 [00:00<00:00, 15.28it/s]\n",
            "100%|██████████| 3/3 [00:00<00:00, 10.64it/s]\n"
          ]
        },
        {
          "output_type": "stream",
          "name": "stdout",
          "text": [
            "epoch=9 train loss=1.113459 test loss=0.462602 train accuracy=0.648 test accuracy=0.708\n"
          ]
        },
        {
          "output_type": "stream",
          "name": "stderr",
          "text": [
            "100%|██████████| 7/7 [00:00<00:00, 15.45it/s]\n",
            "100%|██████████| 3/3 [00:00<00:00, 10.30it/s]\n"
          ]
        },
        {
          "output_type": "stream",
          "name": "stdout",
          "text": [
            "epoch=10 train loss=1.098617 test loss=0.453755 train accuracy=0.667 test accuracy=0.708\n"
          ]
        },
        {
          "output_type": "stream",
          "name": "stderr",
          "text": [
            "100%|██████████| 7/7 [00:00<00:00, 15.75it/s]\n",
            "100%|██████████| 3/3 [00:00<00:00, 10.54it/s]\n"
          ]
        },
        {
          "output_type": "stream",
          "name": "stdout",
          "text": [
            "epoch=11 train loss=1.068883 test loss=0.444710 train accuracy=0.722 test accuracy=0.750\n"
          ]
        },
        {
          "output_type": "stream",
          "name": "stderr",
          "text": [
            "100%|██████████| 7/7 [00:00<00:00, 15.13it/s]\n",
            "100%|██████████| 3/3 [00:00<00:00,  9.72it/s]\n"
          ]
        },
        {
          "output_type": "stream",
          "name": "stdout",
          "text": [
            "epoch=12 train loss=1.046813 test loss=0.436161 train accuracy=0.778 test accuracy=0.833\n"
          ]
        },
        {
          "output_type": "stream",
          "name": "stderr",
          "text": [
            "100%|██████████| 7/7 [00:00<00:00, 15.23it/s]\n",
            "100%|██████████| 3/3 [00:00<00:00, 10.60it/s]\n"
          ]
        },
        {
          "output_type": "stream",
          "name": "stdout",
          "text": [
            "epoch=13 train loss=1.029282 test loss=0.427135 train accuracy=0.796 test accuracy=0.917\n"
          ]
        },
        {
          "output_type": "stream",
          "name": "stderr",
          "text": [
            "100%|██████████| 7/7 [00:00<00:00, 15.62it/s]\n",
            "100%|██████████| 3/3 [00:00<00:00, 10.58it/s]\n"
          ]
        },
        {
          "output_type": "stream",
          "name": "stdout",
          "text": [
            "epoch=14 train loss=1.011390 test loss=0.417208 train accuracy=0.870 test accuracy=0.917\n"
          ]
        },
        {
          "output_type": "stream",
          "name": "stderr",
          "text": [
            "100%|██████████| 7/7 [00:00<00:00, 15.38it/s]\n",
            "100%|██████████| 3/3 [00:00<00:00, 10.39it/s]\n"
          ]
        },
        {
          "output_type": "stream",
          "name": "stdout",
          "text": [
            "epoch=15 train loss=0.986739 test loss=0.408504 train accuracy=0.907 test accuracy=0.958\n"
          ]
        },
        {
          "output_type": "stream",
          "name": "stderr",
          "text": [
            "100%|██████████| 7/7 [00:00<00:00, 14.88it/s]\n",
            "100%|██████████| 3/3 [00:00<00:00, 10.61it/s]\n"
          ]
        },
        {
          "output_type": "stream",
          "name": "stdout",
          "text": [
            "epoch=16 train loss=0.970189 test loss=0.400332 train accuracy=0.963 test accuracy=0.958\n"
          ]
        },
        {
          "output_type": "stream",
          "name": "stderr",
          "text": [
            "100%|██████████| 7/7 [00:00<00:00, 15.03it/s]\n",
            "100%|██████████| 3/3 [00:00<00:00, 10.66it/s]\n"
          ]
        },
        {
          "output_type": "stream",
          "name": "stdout",
          "text": [
            "epoch=17 train loss=0.950281 test loss=0.393571 train accuracy=0.963 test accuracy=0.958\n"
          ]
        },
        {
          "output_type": "stream",
          "name": "stderr",
          "text": [
            "100%|██████████| 7/7 [00:00<00:00, 15.98it/s]\n",
            "100%|██████████| 3/3 [00:00<00:00, 10.43it/s]\n"
          ]
        },
        {
          "output_type": "stream",
          "name": "stdout",
          "text": [
            "epoch=18 train loss=0.934307 test loss=0.386837 train accuracy=0.981 test accuracy=0.958\n"
          ]
        },
        {
          "output_type": "stream",
          "name": "stderr",
          "text": [
            "100%|██████████| 7/7 [00:00<00:00, 15.65it/s]\n",
            "100%|██████████| 3/3 [00:00<00:00, 11.01it/s]\n"
          ]
        },
        {
          "output_type": "stream",
          "name": "stdout",
          "text": [
            "epoch=19 train loss=0.922108 test loss=0.380789 train accuracy=0.981 test accuracy=1.000\n"
          ]
        },
        {
          "output_type": "stream",
          "name": "stderr",
          "text": [
            "100%|██████████| 7/7 [00:00<00:00, 15.20it/s]\n",
            "100%|██████████| 3/3 [00:00<00:00, 10.72it/s]\n"
          ]
        },
        {
          "output_type": "stream",
          "name": "stdout",
          "text": [
            "epoch=20 train loss=0.904796 test loss=0.376202 train accuracy=0.981 test accuracy=1.000\n"
          ]
        },
        {
          "output_type": "stream",
          "name": "stderr",
          "text": [
            "100%|██████████| 7/7 [00:00<00:00, 15.25it/s]\n",
            "100%|██████████| 3/3 [00:00<00:00, 10.71it/s]\n"
          ]
        },
        {
          "output_type": "stream",
          "name": "stdout",
          "text": [
            "epoch=21 train loss=0.895123 test loss=0.370796 train accuracy=0.981 test accuracy=1.000\n"
          ]
        },
        {
          "output_type": "stream",
          "name": "stderr",
          "text": [
            "100%|██████████| 7/7 [00:00<00:00, 15.80it/s]\n",
            "100%|██████████| 3/3 [00:00<00:00, 10.19it/s]\n"
          ]
        },
        {
          "output_type": "stream",
          "name": "stdout",
          "text": [
            "epoch=22 train loss=0.884214 test loss=0.367385 train accuracy=0.981 test accuracy=1.000\n"
          ]
        },
        {
          "output_type": "stream",
          "name": "stderr",
          "text": [
            "100%|██████████| 7/7 [00:00<00:00, 15.47it/s]\n",
            "100%|██████████| 3/3 [00:00<00:00, 10.54it/s]\n"
          ]
        },
        {
          "output_type": "stream",
          "name": "stdout",
          "text": [
            "epoch=23 train loss=0.873941 test loss=0.363486 train accuracy=1.000 test accuracy=1.000\n"
          ]
        },
        {
          "output_type": "stream",
          "name": "stderr",
          "text": [
            "100%|██████████| 7/7 [00:00<00:00, 14.85it/s]\n",
            "100%|██████████| 3/3 [00:00<00:00, 10.76it/s]\n"
          ]
        },
        {
          "output_type": "stream",
          "name": "stdout",
          "text": [
            "epoch=24 train loss=0.862752 test loss=0.360288 train accuracy=1.000 test accuracy=1.000\n"
          ]
        },
        {
          "output_type": "stream",
          "name": "stderr",
          "text": [
            "100%|██████████| 7/7 [00:00<00:00, 15.44it/s]\n",
            "100%|██████████| 3/3 [00:00<00:00, 10.54it/s]\n"
          ]
        },
        {
          "output_type": "stream",
          "name": "stdout",
          "text": [
            "epoch=25 train loss=0.850415 test loss=0.357315 train accuracy=1.000 test accuracy=1.000\n"
          ]
        },
        {
          "output_type": "stream",
          "name": "stderr",
          "text": [
            "100%|██████████| 7/7 [00:00<00:00, 14.66it/s]\n",
            "100%|██████████| 3/3 [00:00<00:00, 10.18it/s]\n"
          ]
        },
        {
          "output_type": "stream",
          "name": "stdout",
          "text": [
            "epoch=26 train loss=0.846444 test loss=0.355296 train accuracy=1.000 test accuracy=1.000\n"
          ]
        },
        {
          "output_type": "stream",
          "name": "stderr",
          "text": [
            "100%|██████████| 7/7 [00:00<00:00, 15.17it/s]\n",
            "100%|██████████| 3/3 [00:00<00:00, 10.67it/s]\n"
          ]
        },
        {
          "output_type": "stream",
          "name": "stdout",
          "text": [
            "epoch=27 train loss=0.843452 test loss=0.352932 train accuracy=1.000 test accuracy=1.000\n"
          ]
        },
        {
          "output_type": "stream",
          "name": "stderr",
          "text": [
            "100%|██████████| 7/7 [00:00<00:00, 15.28it/s]\n",
            "100%|██████████| 3/3 [00:00<00:00, 10.60it/s]\n"
          ]
        },
        {
          "output_type": "stream",
          "name": "stdout",
          "text": [
            "epoch=28 train loss=0.833877 test loss=0.350287 train accuracy=1.000 test accuracy=1.000\n"
          ]
        },
        {
          "output_type": "stream",
          "name": "stderr",
          "text": [
            "100%|██████████| 7/7 [00:00<00:00, 15.11it/s]\n",
            "100%|██████████| 3/3 [00:00<00:00, 10.36it/s]\n"
          ]
        },
        {
          "output_type": "stream",
          "name": "stdout",
          "text": [
            "epoch=29 train loss=0.826039 test loss=0.349239 train accuracy=1.000 test accuracy=1.000\n"
          ]
        },
        {
          "output_type": "stream",
          "name": "stderr",
          "text": [
            "100%|██████████| 7/7 [00:00<00:00, 15.21it/s]\n",
            "100%|██████████| 3/3 [00:00<00:00, 10.51it/s]\n"
          ]
        },
        {
          "output_type": "stream",
          "name": "stdout",
          "text": [
            "epoch=30 train loss=0.824593 test loss=0.347944 train accuracy=1.000 test accuracy=1.000\n"
          ]
        },
        {
          "output_type": "stream",
          "name": "stderr",
          "text": [
            "100%|██████████| 7/7 [00:00<00:00, 15.32it/s]\n",
            "100%|██████████| 3/3 [00:00<00:00, 10.77it/s]\n"
          ]
        },
        {
          "output_type": "stream",
          "name": "stdout",
          "text": [
            "epoch=31 train loss=0.816019 test loss=0.346165 train accuracy=1.000 test accuracy=1.000\n"
          ]
        },
        {
          "output_type": "stream",
          "name": "stderr",
          "text": [
            "100%|██████████| 7/7 [00:00<00:00, 15.49it/s]\n",
            "100%|██████████| 3/3 [00:00<00:00, 10.82it/s]\n"
          ]
        },
        {
          "output_type": "stream",
          "name": "stdout",
          "text": [
            "epoch=32 train loss=0.812057 test loss=0.345202 train accuracy=1.000 test accuracy=1.000\n"
          ]
        },
        {
          "output_type": "stream",
          "name": "stderr",
          "text": [
            "100%|██████████| 7/7 [00:00<00:00, 15.46it/s]\n",
            "100%|██████████| 3/3 [00:00<00:00, 10.99it/s]\n"
          ]
        },
        {
          "output_type": "stream",
          "name": "stdout",
          "text": [
            "epoch=33 train loss=0.811562 test loss=0.343523 train accuracy=1.000 test accuracy=1.000\n"
          ]
        },
        {
          "output_type": "stream",
          "name": "stderr",
          "text": [
            "100%|██████████| 7/7 [00:00<00:00, 15.84it/s]\n",
            "100%|██████████| 3/3 [00:00<00:00, 10.35it/s]\n"
          ]
        },
        {
          "output_type": "stream",
          "name": "stdout",
          "text": [
            "epoch=34 train loss=0.805537 test loss=0.342644 train accuracy=1.000 test accuracy=1.000\n"
          ]
        },
        {
          "output_type": "stream",
          "name": "stderr",
          "text": [
            "100%|██████████| 7/7 [00:00<00:00, 15.38it/s]\n",
            "100%|██████████| 3/3 [00:00<00:00, 11.04it/s]\n"
          ]
        },
        {
          "output_type": "stream",
          "name": "stdout",
          "text": [
            "epoch=35 train loss=0.803300 test loss=0.341382 train accuracy=1.000 test accuracy=1.000\n"
          ]
        },
        {
          "output_type": "stream",
          "name": "stderr",
          "text": [
            "100%|██████████| 7/7 [00:00<00:00, 14.99it/s]\n",
            "100%|██████████| 3/3 [00:00<00:00, 10.77it/s]\n"
          ]
        },
        {
          "output_type": "stream",
          "name": "stdout",
          "text": [
            "epoch=36 train loss=0.795899 test loss=0.340351 train accuracy=1.000 test accuracy=1.000\n"
          ]
        },
        {
          "output_type": "stream",
          "name": "stderr",
          "text": [
            "100%|██████████| 7/7 [00:00<00:00, 14.54it/s]\n",
            "100%|██████████| 3/3 [00:00<00:00, 10.40it/s]\n"
          ]
        },
        {
          "output_type": "stream",
          "name": "stdout",
          "text": [
            "epoch=37 train loss=0.793192 test loss=0.339443 train accuracy=1.000 test accuracy=1.000\n"
          ]
        },
        {
          "output_type": "stream",
          "name": "stderr",
          "text": [
            "100%|██████████| 7/7 [00:00<00:00, 14.90it/s]\n",
            "100%|██████████| 3/3 [00:00<00:00, 10.25it/s]\n"
          ]
        },
        {
          "output_type": "stream",
          "name": "stdout",
          "text": [
            "epoch=38 train loss=0.790958 test loss=0.338509 train accuracy=1.000 test accuracy=1.000\n"
          ]
        },
        {
          "output_type": "stream",
          "name": "stderr",
          "text": [
            "100%|██████████| 7/7 [00:00<00:00, 15.04it/s]\n",
            "100%|██████████| 3/3 [00:00<00:00, 10.54it/s]\n"
          ]
        },
        {
          "output_type": "stream",
          "name": "stdout",
          "text": [
            "epoch=39 train loss=0.789581 test loss=0.337384 train accuracy=1.000 test accuracy=1.000\n"
          ]
        },
        {
          "output_type": "stream",
          "name": "stderr",
          "text": [
            "100%|██████████| 7/7 [00:00<00:00, 15.01it/s]\n",
            "100%|██████████| 3/3 [00:00<00:00, 11.02it/s]\n"
          ]
        },
        {
          "output_type": "stream",
          "name": "stdout",
          "text": [
            "epoch=40 train loss=0.787421 test loss=0.337243 train accuracy=1.000 test accuracy=1.000\n"
          ]
        },
        {
          "output_type": "stream",
          "name": "stderr",
          "text": [
            "100%|██████████| 7/7 [00:00<00:00, 15.24it/s]\n",
            "100%|██████████| 3/3 [00:00<00:00, 10.48it/s]\n"
          ]
        },
        {
          "output_type": "stream",
          "name": "stdout",
          "text": [
            "epoch=41 train loss=0.783638 test loss=0.336680 train accuracy=1.000 test accuracy=1.000\n"
          ]
        },
        {
          "output_type": "stream",
          "name": "stderr",
          "text": [
            "100%|██████████| 7/7 [00:00<00:00, 15.63it/s]\n",
            "100%|██████████| 3/3 [00:00<00:00, 10.44it/s]\n"
          ]
        },
        {
          "output_type": "stream",
          "name": "stdout",
          "text": [
            "epoch=42 train loss=0.780988 test loss=0.336303 train accuracy=1.000 test accuracy=1.000\n"
          ]
        },
        {
          "output_type": "stream",
          "name": "stderr",
          "text": [
            "100%|██████████| 7/7 [00:00<00:00, 15.22it/s]\n",
            "100%|██████████| 3/3 [00:00<00:00, 10.07it/s]\n"
          ]
        },
        {
          "output_type": "stream",
          "name": "stdout",
          "text": [
            "epoch=43 train loss=0.782132 test loss=0.335959 train accuracy=1.000 test accuracy=1.000\n"
          ]
        },
        {
          "output_type": "stream",
          "name": "stderr",
          "text": [
            "100%|██████████| 7/7 [00:00<00:00, 15.00it/s]\n",
            "100%|██████████| 3/3 [00:00<00:00, 10.48it/s]\n"
          ]
        },
        {
          "output_type": "stream",
          "name": "stdout",
          "text": [
            "epoch=44 train loss=0.783919 test loss=0.335189 train accuracy=1.000 test accuracy=1.000\n"
          ]
        },
        {
          "output_type": "stream",
          "name": "stderr",
          "text": [
            "100%|██████████| 7/7 [00:00<00:00, 15.04it/s]\n",
            "100%|██████████| 3/3 [00:00<00:00, 10.95it/s]\n"
          ]
        },
        {
          "output_type": "stream",
          "name": "stdout",
          "text": [
            "epoch=45 train loss=0.777837 test loss=0.334304 train accuracy=1.000 test accuracy=1.000\n"
          ]
        },
        {
          "output_type": "stream",
          "name": "stderr",
          "text": [
            "100%|██████████| 7/7 [00:00<00:00, 15.67it/s]\n",
            "100%|██████████| 3/3 [00:00<00:00, 10.17it/s]\n"
          ]
        },
        {
          "output_type": "stream",
          "name": "stdout",
          "text": [
            "epoch=46 train loss=0.775916 test loss=0.334132 train accuracy=1.000 test accuracy=1.000\n"
          ]
        },
        {
          "output_type": "stream",
          "name": "stderr",
          "text": [
            "100%|██████████| 7/7 [00:00<00:00, 15.34it/s]\n",
            "100%|██████████| 3/3 [00:00<00:00, 10.56it/s]\n"
          ]
        },
        {
          "output_type": "stream",
          "name": "stdout",
          "text": [
            "epoch=47 train loss=0.772732 test loss=0.333504 train accuracy=1.000 test accuracy=1.000\n"
          ]
        },
        {
          "output_type": "stream",
          "name": "stderr",
          "text": [
            "100%|██████████| 7/7 [00:00<00:00, 15.15it/s]\n",
            "100%|██████████| 3/3 [00:00<00:00, 10.34it/s]\n"
          ]
        },
        {
          "output_type": "stream",
          "name": "stdout",
          "text": [
            "epoch=48 train loss=0.773289 test loss=0.333248 train accuracy=1.000 test accuracy=1.000\n"
          ]
        },
        {
          "output_type": "stream",
          "name": "stderr",
          "text": [
            "100%|██████████| 7/7 [00:00<00:00, 14.95it/s]\n",
            "100%|██████████| 3/3 [00:00<00:00, 10.88it/s]\n"
          ]
        },
        {
          "output_type": "stream",
          "name": "stdout",
          "text": [
            "epoch=49 train loss=0.771293 test loss=0.333012 train accuracy=1.000 test accuracy=1.000\n"
          ]
        },
        {
          "output_type": "stream",
          "name": "stderr",
          "text": [
            "100%|██████████| 7/7 [00:00<00:00, 15.61it/s]\n",
            "100%|██████████| 3/3 [00:00<00:00, 10.45it/s]\n"
          ]
        },
        {
          "output_type": "stream",
          "name": "stdout",
          "text": [
            "epoch=50 train loss=0.769910 test loss=0.332514 train accuracy=1.000 test accuracy=1.000\n"
          ]
        },
        {
          "output_type": "stream",
          "name": "stderr",
          "text": [
            "100%|██████████| 7/7 [00:00<00:00, 15.42it/s]\n",
            "100%|██████████| 3/3 [00:00<00:00, 10.79it/s]\n"
          ]
        },
        {
          "output_type": "stream",
          "name": "stdout",
          "text": [
            "epoch=51 train loss=0.769525 test loss=0.331791 train accuracy=1.000 test accuracy=1.000\n"
          ]
        },
        {
          "output_type": "stream",
          "name": "stderr",
          "text": [
            "100%|██████████| 7/7 [00:00<00:00, 15.55it/s]\n",
            "100%|██████████| 3/3 [00:00<00:00, 10.17it/s]\n"
          ]
        },
        {
          "output_type": "stream",
          "name": "stdout",
          "text": [
            "epoch=52 train loss=0.770929 test loss=0.331095 train accuracy=1.000 test accuracy=1.000\n"
          ]
        },
        {
          "output_type": "stream",
          "name": "stderr",
          "text": [
            "100%|██████████| 7/7 [00:00<00:00, 14.25it/s]\n",
            "100%|██████████| 3/3 [00:00<00:00, 10.65it/s]\n"
          ]
        },
        {
          "output_type": "stream",
          "name": "stdout",
          "text": [
            "epoch=53 train loss=0.768979 test loss=0.331191 train accuracy=1.000 test accuracy=1.000\n"
          ]
        },
        {
          "output_type": "stream",
          "name": "stderr",
          "text": [
            "100%|██████████| 7/7 [00:00<00:00, 15.52it/s]\n",
            "100%|██████████| 3/3 [00:00<00:00, 10.15it/s]\n"
          ]
        },
        {
          "output_type": "stream",
          "name": "stdout",
          "text": [
            "epoch=54 train loss=0.767392 test loss=0.330664 train accuracy=1.000 test accuracy=1.000\n"
          ]
        },
        {
          "output_type": "stream",
          "name": "stderr",
          "text": [
            "100%|██████████| 7/7 [00:00<00:00, 15.58it/s]\n",
            "100%|██████████| 3/3 [00:00<00:00, 10.29it/s]\n"
          ]
        },
        {
          "output_type": "stream",
          "name": "stdout",
          "text": [
            "epoch=55 train loss=0.765365 test loss=0.330752 train accuracy=1.000 test accuracy=1.000\n"
          ]
        },
        {
          "output_type": "stream",
          "name": "stderr",
          "text": [
            "100%|██████████| 7/7 [00:00<00:00, 15.26it/s]\n",
            "100%|██████████| 3/3 [00:00<00:00, 10.45it/s]\n"
          ]
        },
        {
          "output_type": "stream",
          "name": "stdout",
          "text": [
            "epoch=56 train loss=0.767559 test loss=0.330652 train accuracy=1.000 test accuracy=1.000\n"
          ]
        },
        {
          "output_type": "stream",
          "name": "stderr",
          "text": [
            "100%|██████████| 7/7 [00:00<00:00, 15.01it/s]\n",
            "100%|██████████| 3/3 [00:00<00:00, 11.07it/s]\n"
          ]
        },
        {
          "output_type": "stream",
          "name": "stdout",
          "text": [
            "epoch=57 train loss=0.766054 test loss=0.330462 train accuracy=1.000 test accuracy=1.000\n"
          ]
        },
        {
          "output_type": "stream",
          "name": "stderr",
          "text": [
            "100%|██████████| 7/7 [00:00<00:00, 15.00it/s]\n",
            "100%|██████████| 3/3 [00:00<00:00, 10.32it/s]\n"
          ]
        },
        {
          "output_type": "stream",
          "name": "stdout",
          "text": [
            "epoch=58 train loss=0.763028 test loss=0.330259 train accuracy=1.000 test accuracy=1.000\n"
          ]
        },
        {
          "output_type": "stream",
          "name": "stderr",
          "text": [
            "100%|██████████| 7/7 [00:00<00:00, 15.25it/s]\n",
            "100%|██████████| 3/3 [00:00<00:00, 10.40it/s]\n"
          ]
        },
        {
          "output_type": "stream",
          "name": "stdout",
          "text": [
            "epoch=59 train loss=0.762494 test loss=0.330155 train accuracy=1.000 test accuracy=1.000\n"
          ]
        },
        {
          "output_type": "stream",
          "name": "stderr",
          "text": [
            "100%|██████████| 7/7 [00:00<00:00, 15.36it/s]\n",
            "100%|██████████| 3/3 [00:00<00:00, 10.13it/s]\n"
          ]
        },
        {
          "output_type": "stream",
          "name": "stdout",
          "text": [
            "epoch=60 train loss=0.762685 test loss=0.329644 train accuracy=1.000 test accuracy=1.000\n"
          ]
        },
        {
          "output_type": "stream",
          "name": "stderr",
          "text": [
            "100%|██████████| 7/7 [00:00<00:00, 15.36it/s]\n",
            "100%|██████████| 3/3 [00:00<00:00, 10.82it/s]\n"
          ]
        },
        {
          "output_type": "stream",
          "name": "stdout",
          "text": [
            "epoch=61 train loss=0.762467 test loss=0.329123 train accuracy=1.000 test accuracy=1.000\n"
          ]
        },
        {
          "output_type": "stream",
          "name": "stderr",
          "text": [
            "100%|██████████| 7/7 [00:00<00:00, 14.87it/s]\n",
            "100%|██████████| 3/3 [00:00<00:00, 10.21it/s]\n"
          ]
        },
        {
          "output_type": "stream",
          "name": "stdout",
          "text": [
            "epoch=62 train loss=0.760782 test loss=0.329017 train accuracy=1.000 test accuracy=1.000\n"
          ]
        },
        {
          "output_type": "stream",
          "name": "stderr",
          "text": [
            "100%|██████████| 7/7 [00:00<00:00, 15.25it/s]\n",
            "100%|██████████| 3/3 [00:00<00:00, 10.80it/s]\n"
          ]
        },
        {
          "output_type": "stream",
          "name": "stdout",
          "text": [
            "epoch=63 train loss=0.759950 test loss=0.329237 train accuracy=1.000 test accuracy=1.000\n"
          ]
        },
        {
          "output_type": "stream",
          "name": "stderr",
          "text": [
            "100%|██████████| 7/7 [00:00<00:00, 14.92it/s]\n",
            "100%|██████████| 3/3 [00:00<00:00, 10.55it/s]\n"
          ]
        },
        {
          "output_type": "stream",
          "name": "stdout",
          "text": [
            "epoch=64 train loss=0.760762 test loss=0.329224 train accuracy=1.000 test accuracy=1.000\n"
          ]
        },
        {
          "output_type": "stream",
          "name": "stderr",
          "text": [
            "100%|██████████| 7/7 [00:00<00:00, 15.28it/s]\n",
            "100%|██████████| 3/3 [00:00<00:00, 10.87it/s]\n"
          ]
        },
        {
          "output_type": "stream",
          "name": "stdout",
          "text": [
            "epoch=65 train loss=0.759960 test loss=0.328976 train accuracy=1.000 test accuracy=1.000\n"
          ]
        },
        {
          "output_type": "stream",
          "name": "stderr",
          "text": [
            "100%|██████████| 7/7 [00:00<00:00, 15.24it/s]\n",
            "100%|██████████| 3/3 [00:00<00:00,  9.77it/s]\n"
          ]
        },
        {
          "output_type": "stream",
          "name": "stdout",
          "text": [
            "epoch=66 train loss=0.758929 test loss=0.328804 train accuracy=1.000 test accuracy=1.000\n"
          ]
        },
        {
          "output_type": "stream",
          "name": "stderr",
          "text": [
            "100%|██████████| 7/7 [00:00<00:00, 15.06it/s]\n",
            "100%|██████████| 3/3 [00:00<00:00, 10.99it/s]\n"
          ]
        },
        {
          "output_type": "stream",
          "name": "stdout",
          "text": [
            "epoch=67 train loss=0.758654 test loss=0.328653 train accuracy=1.000 test accuracy=1.000\n"
          ]
        },
        {
          "output_type": "stream",
          "name": "stderr",
          "text": [
            "100%|██████████| 7/7 [00:00<00:00, 14.94it/s]\n",
            "100%|██████████| 3/3 [00:00<00:00, 10.67it/s]\n"
          ]
        },
        {
          "output_type": "stream",
          "name": "stdout",
          "text": [
            "epoch=68 train loss=0.757953 test loss=0.328537 train accuracy=1.000 test accuracy=1.000\n"
          ]
        },
        {
          "output_type": "stream",
          "name": "stderr",
          "text": [
            "100%|██████████| 7/7 [00:00<00:00, 14.20it/s]\n",
            "100%|██████████| 3/3 [00:00<00:00, 10.26it/s]\n"
          ]
        },
        {
          "output_type": "stream",
          "name": "stdout",
          "text": [
            "epoch=69 train loss=0.757858 test loss=0.328218 train accuracy=1.000 test accuracy=1.000\n"
          ]
        },
        {
          "output_type": "stream",
          "name": "stderr",
          "text": [
            "100%|██████████| 7/7 [00:00<00:00, 15.44it/s]\n",
            "100%|██████████| 3/3 [00:00<00:00, 10.48it/s]\n"
          ]
        },
        {
          "output_type": "stream",
          "name": "stdout",
          "text": [
            "epoch=70 train loss=0.758990 test loss=0.328075 train accuracy=1.000 test accuracy=1.000\n"
          ]
        },
        {
          "output_type": "stream",
          "name": "stderr",
          "text": [
            "100%|██████████| 7/7 [00:00<00:00, 14.98it/s]\n",
            "100%|██████████| 3/3 [00:00<00:00, 10.69it/s]\n"
          ]
        },
        {
          "output_type": "stream",
          "name": "stdout",
          "text": [
            "epoch=71 train loss=0.756514 test loss=0.328005 train accuracy=1.000 test accuracy=1.000\n"
          ]
        },
        {
          "output_type": "stream",
          "name": "stderr",
          "text": [
            "100%|██████████| 7/7 [00:00<00:00, 15.39it/s]\n",
            "100%|██████████| 3/3 [00:00<00:00, 10.84it/s]\n"
          ]
        },
        {
          "output_type": "stream",
          "name": "stdout",
          "text": [
            "epoch=72 train loss=0.756900 test loss=0.327658 train accuracy=1.000 test accuracy=1.000\n"
          ]
        },
        {
          "output_type": "stream",
          "name": "stderr",
          "text": [
            "100%|██████████| 7/7 [00:00<00:00, 14.76it/s]\n",
            "100%|██████████| 3/3 [00:00<00:00, 10.44it/s]\n"
          ]
        },
        {
          "output_type": "stream",
          "name": "stdout",
          "text": [
            "epoch=73 train loss=0.755362 test loss=0.327773 train accuracy=1.000 test accuracy=1.000\n"
          ]
        },
        {
          "output_type": "stream",
          "name": "stderr",
          "text": [
            "100%|██████████| 7/7 [00:00<00:00, 15.72it/s]\n",
            "100%|██████████| 3/3 [00:00<00:00, 10.16it/s]\n"
          ]
        },
        {
          "output_type": "stream",
          "name": "stdout",
          "text": [
            "epoch=74 train loss=0.755509 test loss=0.327674 train accuracy=1.000 test accuracy=1.000\n"
          ]
        },
        {
          "output_type": "stream",
          "name": "stderr",
          "text": [
            "100%|██████████| 7/7 [00:00<00:00, 15.02it/s]\n",
            "100%|██████████| 3/3 [00:00<00:00, 10.94it/s]\n"
          ]
        },
        {
          "output_type": "stream",
          "name": "stdout",
          "text": [
            "epoch=75 train loss=0.755174 test loss=0.327509 train accuracy=1.000 test accuracy=1.000\n"
          ]
        },
        {
          "output_type": "stream",
          "name": "stderr",
          "text": [
            "100%|██████████| 7/7 [00:00<00:00, 15.38it/s]\n",
            "100%|██████████| 3/3 [00:00<00:00, 10.65it/s]\n"
          ]
        },
        {
          "output_type": "stream",
          "name": "stdout",
          "text": [
            "epoch=76 train loss=0.755552 test loss=0.327372 train accuracy=1.000 test accuracy=1.000\n"
          ]
        },
        {
          "output_type": "stream",
          "name": "stderr",
          "text": [
            "100%|██████████| 7/7 [00:00<00:00, 14.99it/s]\n",
            "100%|██████████| 3/3 [00:00<00:00, 10.80it/s]\n"
          ]
        },
        {
          "output_type": "stream",
          "name": "stdout",
          "text": [
            "epoch=77 train loss=0.755843 test loss=0.327198 train accuracy=1.000 test accuracy=1.000\n"
          ]
        },
        {
          "output_type": "stream",
          "name": "stderr",
          "text": [
            "100%|██████████| 7/7 [00:00<00:00, 15.66it/s]\n",
            "100%|██████████| 3/3 [00:00<00:00, 10.04it/s]\n"
          ]
        },
        {
          "output_type": "stream",
          "name": "stdout",
          "text": [
            "epoch=78 train loss=0.754357 test loss=0.326958 train accuracy=1.000 test accuracy=1.000\n"
          ]
        },
        {
          "output_type": "stream",
          "name": "stderr",
          "text": [
            "100%|██████████| 7/7 [00:00<00:00, 15.44it/s]\n",
            "100%|██████████| 3/3 [00:00<00:00, 10.37it/s]\n"
          ]
        },
        {
          "output_type": "stream",
          "name": "stdout",
          "text": [
            "epoch=79 train loss=0.754966 test loss=0.326811 train accuracy=1.000 test accuracy=1.000\n"
          ]
        },
        {
          "output_type": "stream",
          "name": "stderr",
          "text": [
            "100%|██████████| 7/7 [00:01<00:00,  5.95it/s]\n",
            "100%|██████████| 3/3 [00:00<00:00, 10.88it/s]\n"
          ]
        },
        {
          "output_type": "stream",
          "name": "stdout",
          "text": [
            "epoch=80 train loss=0.754950 test loss=0.326857 train accuracy=1.000 test accuracy=1.000\n"
          ]
        },
        {
          "output_type": "stream",
          "name": "stderr",
          "text": [
            "100%|██████████| 7/7 [00:00<00:00, 15.70it/s]\n",
            "100%|██████████| 3/3 [00:00<00:00, 10.49it/s]\n"
          ]
        },
        {
          "output_type": "stream",
          "name": "stdout",
          "text": [
            "epoch=81 train loss=0.754127 test loss=0.327041 train accuracy=1.000 test accuracy=1.000\n"
          ]
        },
        {
          "output_type": "stream",
          "name": "stderr",
          "text": [
            "100%|██████████| 7/7 [00:00<00:00, 15.31it/s]\n",
            "100%|██████████| 3/3 [00:00<00:00, 10.51it/s]\n"
          ]
        },
        {
          "output_type": "stream",
          "name": "stdout",
          "text": [
            "epoch=82 train loss=0.753793 test loss=0.326982 train accuracy=1.000 test accuracy=1.000\n"
          ]
        },
        {
          "output_type": "stream",
          "name": "stderr",
          "text": [
            "100%|██████████| 7/7 [00:00<00:00, 14.80it/s]\n",
            "100%|██████████| 3/3 [00:00<00:00, 10.63it/s]\n"
          ]
        },
        {
          "output_type": "stream",
          "name": "stdout",
          "text": [
            "epoch=83 train loss=0.753632 test loss=0.326742 train accuracy=1.000 test accuracy=1.000\n"
          ]
        },
        {
          "output_type": "stream",
          "name": "stderr",
          "text": [
            "100%|██████████| 7/7 [00:00<00:00, 15.24it/s]\n",
            "100%|██████████| 3/3 [00:00<00:00,  9.98it/s]\n"
          ]
        },
        {
          "output_type": "stream",
          "name": "stdout",
          "text": [
            "epoch=84 train loss=0.753502 test loss=0.326615 train accuracy=1.000 test accuracy=1.000\n"
          ]
        },
        {
          "output_type": "stream",
          "name": "stderr",
          "text": [
            "100%|██████████| 7/7 [00:00<00:00, 15.23it/s]\n",
            "100%|██████████| 3/3 [00:00<00:00, 10.27it/s]\n"
          ]
        },
        {
          "output_type": "stream",
          "name": "stdout",
          "text": [
            "epoch=85 train loss=0.753568 test loss=0.326318 train accuracy=1.000 test accuracy=1.000\n"
          ]
        },
        {
          "output_type": "stream",
          "name": "stderr",
          "text": [
            "100%|██████████| 7/7 [00:00<00:00, 15.21it/s]\n",
            "100%|██████████| 3/3 [00:00<00:00, 10.70it/s]\n"
          ]
        },
        {
          "output_type": "stream",
          "name": "stdout",
          "text": [
            "epoch=86 train loss=0.752660 test loss=0.326116 train accuracy=1.000 test accuracy=1.000\n"
          ]
        },
        {
          "output_type": "stream",
          "name": "stderr",
          "text": [
            "100%|██████████| 7/7 [00:00<00:00, 14.91it/s]\n",
            "100%|██████████| 3/3 [00:00<00:00, 11.11it/s]\n"
          ]
        },
        {
          "output_type": "stream",
          "name": "stdout",
          "text": [
            "epoch=87 train loss=0.752624 test loss=0.326268 train accuracy=1.000 test accuracy=1.000\n"
          ]
        },
        {
          "output_type": "stream",
          "name": "stderr",
          "text": [
            "100%|██████████| 7/7 [00:00<00:00, 15.35it/s]\n",
            "100%|██████████| 3/3 [00:00<00:00, 10.49it/s]\n"
          ]
        },
        {
          "output_type": "stream",
          "name": "stdout",
          "text": [
            "epoch=88 train loss=0.752283 test loss=0.326226 train accuracy=1.000 test accuracy=1.000\n"
          ]
        },
        {
          "output_type": "stream",
          "name": "stderr",
          "text": [
            "100%|██████████| 7/7 [00:00<00:00, 15.25it/s]\n",
            "100%|██████████| 3/3 [00:00<00:00, 10.24it/s]\n"
          ]
        },
        {
          "output_type": "stream",
          "name": "stdout",
          "text": [
            "epoch=89 train loss=0.753312 test loss=0.326288 train accuracy=1.000 test accuracy=1.000\n"
          ]
        },
        {
          "output_type": "stream",
          "name": "stderr",
          "text": [
            "100%|██████████| 7/7 [00:00<00:00, 15.29it/s]\n",
            "100%|██████████| 3/3 [00:00<00:00, 10.47it/s]\n"
          ]
        },
        {
          "output_type": "stream",
          "name": "stdout",
          "text": [
            "epoch=90 train loss=0.752329 test loss=0.326231 train accuracy=1.000 test accuracy=1.000\n"
          ]
        },
        {
          "output_type": "stream",
          "name": "stderr",
          "text": [
            "100%|██████████| 7/7 [00:00<00:00, 15.61it/s]\n",
            "100%|██████████| 3/3 [00:00<00:00, 10.53it/s]\n"
          ]
        },
        {
          "output_type": "stream",
          "name": "stdout",
          "text": [
            "epoch=91 train loss=0.751693 test loss=0.325952 train accuracy=1.000 test accuracy=1.000\n"
          ]
        },
        {
          "output_type": "stream",
          "name": "stderr",
          "text": [
            "100%|██████████| 7/7 [00:00<00:00, 14.95it/s]\n",
            "100%|██████████| 3/3 [00:00<00:00, 10.19it/s]\n"
          ]
        },
        {
          "output_type": "stream",
          "name": "stdout",
          "text": [
            "epoch=92 train loss=0.751920 test loss=0.325868 train accuracy=1.000 test accuracy=1.000\n"
          ]
        },
        {
          "output_type": "stream",
          "name": "stderr",
          "text": [
            "100%|██████████| 7/7 [00:00<00:00, 15.65it/s]\n",
            "100%|██████████| 3/3 [00:00<00:00, 10.33it/s]\n"
          ]
        },
        {
          "output_type": "stream",
          "name": "stdout",
          "text": [
            "epoch=93 train loss=0.752335 test loss=0.325753 train accuracy=1.000 test accuracy=1.000\n"
          ]
        },
        {
          "output_type": "stream",
          "name": "stderr",
          "text": [
            "100%|██████████| 7/7 [00:00<00:00, 15.45it/s]\n",
            "100%|██████████| 3/3 [00:00<00:00, 10.61it/s]\n"
          ]
        },
        {
          "output_type": "stream",
          "name": "stdout",
          "text": [
            "epoch=94 train loss=0.753128 test loss=0.325944 train accuracy=1.000 test accuracy=1.000\n"
          ]
        },
        {
          "output_type": "stream",
          "name": "stderr",
          "text": [
            "100%|██████████| 7/7 [00:00<00:00, 15.33it/s]\n",
            "100%|██████████| 3/3 [00:00<00:00, 10.84it/s]\n"
          ]
        },
        {
          "output_type": "stream",
          "name": "stdout",
          "text": [
            "epoch=95 train loss=0.750731 test loss=0.325682 train accuracy=1.000 test accuracy=1.000\n"
          ]
        },
        {
          "output_type": "stream",
          "name": "stderr",
          "text": [
            "100%|██████████| 7/7 [00:00<00:00, 15.07it/s]\n",
            "100%|██████████| 3/3 [00:00<00:00, 10.83it/s]\n"
          ]
        },
        {
          "output_type": "stream",
          "name": "stdout",
          "text": [
            "epoch=96 train loss=0.751000 test loss=0.325849 train accuracy=1.000 test accuracy=1.000\n"
          ]
        },
        {
          "output_type": "stream",
          "name": "stderr",
          "text": [
            "100%|██████████| 7/7 [00:00<00:00, 15.20it/s]\n",
            "100%|██████████| 3/3 [00:00<00:00, 10.33it/s]\n"
          ]
        },
        {
          "output_type": "stream",
          "name": "stdout",
          "text": [
            "epoch=97 train loss=0.751031 test loss=0.325717 train accuracy=1.000 test accuracy=1.000\n"
          ]
        },
        {
          "output_type": "stream",
          "name": "stderr",
          "text": [
            "100%|██████████| 7/7 [00:00<00:00, 15.45it/s]\n",
            "100%|██████████| 3/3 [00:00<00:00, 10.54it/s]\n"
          ]
        },
        {
          "output_type": "stream",
          "name": "stdout",
          "text": [
            "epoch=98 train loss=0.750577 test loss=0.325555 train accuracy=1.000 test accuracy=1.000\n"
          ]
        },
        {
          "output_type": "stream",
          "name": "stderr",
          "text": [
            "100%|██████████| 7/7 [00:00<00:00, 15.10it/s]\n",
            "100%|██████████| 3/3 [00:00<00:00, 10.42it/s]"
          ]
        },
        {
          "output_type": "stream",
          "name": "stdout",
          "text": [
            "epoch=99 train loss=0.750508 test loss=0.325443 train accuracy=1.000 test accuracy=1.000\n"
          ]
        },
        {
          "output_type": "stream",
          "name": "stderr",
          "text": [
            "\n"
          ]
        }
      ]
    },
    {
      "cell_type": "code",
      "source": [
        "model = CNNModel4(in_channels=3, n_classes=n_classes)\n",
        "model.load_state_dict(torch.load(\"CNNModel4.pth\", map_location=torch.device(\"cuda\" if torch.cuda.is_available() else \"cpu\")))\n",
        "\n",
        "activities = [\"left\", \"palm\", \"peace\", \"right\"]\n",
        "plot_accuracy_per_epoch(train_accs, test_accs)\n",
        "plot_avg_loss_per_epoch(train_losses, test_losses)\n",
        "y_true, y_pred = tester(model, testloader)\n",
        "\n",
        "# Compute confusion matrix\n",
        "cnf_matrix = confusion_matrix(y_true, y_pred)\n",
        "np.set_printoptions(precision=2)\n",
        "\n",
        "# Plot non-normalized confusion matrix\n",
        "plot_confusion_matrix(cnf_matrix, classes=activities, title='CNN Testing Confusion Matrix Without Normalization')\n",
        "\n",
        "# Plot normalized confusion matrix\n",
        "plot_confusion_matrix(cnf_matrix, classes=activities, normalize=True, title='CNN Testing Normalized Confusion Matrix')"
      ],
      "metadata": {
        "colab": {
          "base_uri": "https://localhost:8080/",
          "height": 1000
        },
        "id": "OWc_8B6xMERS",
        "outputId": "b6cdb5ef-d21b-4a2f-b499-67af3ebe0e62"
      },
      "execution_count": 29,
      "outputs": [
        {
          "output_type": "display_data",
          "data": {
            "image/png": "[encoded data removed]",
            "text/plain": [
              "<Figure size 720x576 with 1 Axes>"
            ]
          },
          "metadata": {
            "needs_background": "light"
          }
        },
        {
          "output_type": "display_data",
          "data": {
            "image/png": "[encoded data removed]",
            "text/plain": [
              "<Figure size 720x576 with 1 Axes>"
            ]
          },
          "metadata": {
            "needs_background": "light"
          }
        },
        {
          "output_type": "stream",
          "name": "stdout",
          "text": [
            "Confusion Matrix Without Normalization\n"
          ]
        },
        {
          "output_type": "display_data",
          "data": {
            "image/png": "[encoded data removed]",
            "text/plain": [
              "<Figure size 1080x576 with 2 Axes>"
            ]
          },
          "metadata": {
            "needs_background": "light"
          }
        },
        {
          "output_type": "stream",
          "name": "stdout",
          "text": [
            "Normalized Confusion Matrix\n"
          ]
        },
        {
          "output_type": "display_data",
          "data": {
            "image/png": "[encoded data removed]",
            "text/plain": [
              "<Figure size 1080x576 with 2 Axes>"
            ]
          },
          "metadata": {
            "needs_background": "light"
          }
        }
      ]
    },
    {
      "cell_type": "code",
      "source": [
        "accuracy_score(y_true, y_pred)"
      ],
      "metadata": {
        "colab": {
          "base_uri": "https://localhost:8080/"
        },
        "id": "61Qz4hN4M4ZD",
        "outputId": "2a7f7218-6861-4cc7-d3a7-43a7aee598ed"
      },
      "execution_count": 30,
      "outputs": [
        {
          "output_type": "execute_result",
          "data": {
            "text/plain": [
              "1.0"
            ]
          },
          "metadata": {},
          "execution_count": 30
        }
      ]
    }
  ]
}